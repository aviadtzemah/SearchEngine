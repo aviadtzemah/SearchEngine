{
 "cells": [
  {
   "cell_type": "code",
   "execution_count": 2,
   "metadata": {
    "id": "Arv473sLM6vM",
    "outputId": "e875d084-786e-4426-c411-7b6e5fdf8938",
    "colab": {
     "base_uri": "https://localhost:8080/"
    }
   },
   "outputs": [
    {
     "name": "stdout",
     "output_type": "stream",
     "text": [
      "[nltk_data] Downloading package stopwords to /root/nltk_data...\n",
      "[nltk_data]   Package stopwords is already up-to-date!\n"
     ]
    }
   ],
   "source": [
    "import sys\n",
    "from collections import Counter, OrderedDict\n",
    "from collections import defaultdict\n",
    "import itertools\n",
    "from itertools import islice, count, groupby\n",
    "import pandas as pd\n",
    "import os\n",
    "import re\n",
    "from operator import itemgetter\n",
    "import nltk\n",
    "from nltk.stem.porter import *\n",
    "from nltk.corpus import stopwords\n",
    "from time import time\n",
    "from timeit import timeit\n",
    "from pathlib import Path\n",
    "import pickle\n",
    "import pandas as pd\n",
    "import numpy as np\n",
    "from google.cloud import storage\n",
    "\n",
    "import hashlib\n",
    "def _hash(s):\n",
    "    return hashlib.blake2b(bytes(s, encoding='utf8'), digest_size=5).hexdigest()\n",
    "\n",
    "nltk.download('stopwords')\n",
    "\n",
    "#from inverted_index_colab import *\n",
    "from binary_inverted_index_colab import *"
   ]
  },
  {
   "cell_type": "code",
   "execution_count": 3,
   "metadata": {
    "id": "WdY1e6l9ZFNg",
    "outputId": "9f633bb7-20b5-4950-ce2d-4006230214f8",
    "colab": {
     "base_uri": "https://localhost:8080/"
    }
   },
   "outputs": [
    {
     "name": "stdout",
     "output_type": "stream",
     "text": [
      "\u001b[K     |████████████████████████████████| 281.3 MB 32 kB/s \n",
      "\u001b[K     |████████████████████████████████| 198 kB 51.1 MB/s \n",
      "\u001b[?25h  Building wheel for pyspark (setup.py) ... \u001b[?25l\u001b[?25hdone\n",
      "Get:1 http://security.ubuntu.com/ubuntu bionic-security InRelease [88.7 kB]\n",
      "Get:2 https://cloud.r-project.org/bin/linux/ubuntu bionic-cran40/ InRelease [3,626 B]\n",
      "Ign:3 https://developer.download.nvidia.com/compute/cuda/repos/ubuntu1804/x86_64  InRelease\n",
      "Get:4 http://ppa.launchpad.net/c2d4u.team/c2d4u4.0+/ubuntu bionic InRelease [15.9 kB]\n",
      "Hit:5 http://archive.ubuntu.com/ubuntu bionic InRelease\n",
      "Get:6 http://archive.ubuntu.com/ubuntu bionic-updates InRelease [88.7 kB]\n",
      "Hit:7 http://ppa.launchpad.net/cran/libgit2/ubuntu bionic InRelease\n",
      "Ign:8 https://developer.download.nvidia.com/compute/machine-learning/repos/ubuntu1804/x86_64  InRelease\n",
      "Hit:9 https://developer.download.nvidia.com/compute/cuda/repos/ubuntu1804/x86_64  Release\n",
      "Hit:10 https://developer.download.nvidia.com/compute/machine-learning/repos/ubuntu1804/x86_64  Release\n",
      "Hit:11 http://archive.ubuntu.com/ubuntu bionic-backports InRelease\n",
      "Get:12 http://ppa.launchpad.net/deadsnakes/ppa/ubuntu bionic InRelease [15.9 kB]\n",
      "Get:13 http://security.ubuntu.com/ubuntu bionic-security/main amd64 Packages [2,489 kB]\n",
      "Get:14 http://ppa.launchpad.net/graphics-drivers/ppa/ubuntu bionic InRelease [21.3 kB]\n",
      "Get:15 http://security.ubuntu.com/ubuntu bionic-security/multiverse amd64 Packages [26.8 kB]\n",
      "Get:16 http://security.ubuntu.com/ubuntu bionic-security/restricted amd64 Packages [716 kB]\n",
      "Get:17 http://security.ubuntu.com/ubuntu bionic-security/universe amd64 Packages [1,459 kB]\n",
      "Get:18 http://ppa.launchpad.net/c2d4u.team/c2d4u4.0+/ubuntu bionic/main Sources [1,822 kB]\n",
      "Get:21 http://ppa.launchpad.net/c2d4u.team/c2d4u4.0+/ubuntu bionic/main amd64 Packages [934 kB]\n",
      "Get:22 http://archive.ubuntu.com/ubuntu bionic-updates/multiverse amd64 Packages [34.5 kB]\n",
      "Get:23 http://archive.ubuntu.com/ubuntu bionic-updates/restricted amd64 Packages [749 kB]\n",
      "Get:24 http://archive.ubuntu.com/ubuntu bionic-updates/main amd64 Packages [2,927 kB]\n",
      "Get:25 http://archive.ubuntu.com/ubuntu bionic-updates/universe amd64 Packages [2,238 kB]\n",
      "Get:26 http://ppa.launchpad.net/deadsnakes/ppa/ubuntu bionic/main amd64 Packages [45.3 kB]\n",
      "Get:27 http://ppa.launchpad.net/graphics-drivers/ppa/ubuntu bionic/main amd64 Packages [44.7 kB]\n",
      "Fetched 13.7 MB in 4s (3,723 kB/s)\n",
      "Reading package lists... Done\n",
      "The following additional packages will be installed:\n",
      "  openjdk-8-jre-headless\n",
      "Suggested packages:\n",
      "  openjdk-8-demo openjdk-8-source libnss-mdns fonts-dejavu-extra\n",
      "  fonts-ipafont-gothic fonts-ipafont-mincho fonts-wqy-microhei\n",
      "  fonts-wqy-zenhei fonts-indic\n",
      "The following NEW packages will be installed:\n",
      "  openjdk-8-jdk-headless openjdk-8-jre-headless\n",
      "0 upgraded, 2 newly installed, 0 to remove and 59 not upgraded.\n",
      "Need to get 36.5 MB of archives.\n",
      "After this operation, 143 MB of additional disk space will be used.\n",
      "Selecting previously unselected package openjdk-8-jre-headless:amd64.\n",
      "(Reading database ... 155225 files and directories currently installed.)\n",
      "Preparing to unpack .../openjdk-8-jre-headless_8u312-b07-0ubuntu1~18.04_amd64.deb ...\n",
      "Unpacking openjdk-8-jre-headless:amd64 (8u312-b07-0ubuntu1~18.04) ...\n",
      "Selecting previously unselected package openjdk-8-jdk-headless:amd64.\n",
      "Preparing to unpack .../openjdk-8-jdk-headless_8u312-b07-0ubuntu1~18.04_amd64.deb ...\n",
      "Unpacking openjdk-8-jdk-headless:amd64 (8u312-b07-0ubuntu1~18.04) ...\n",
      "Setting up openjdk-8-jre-headless:amd64 (8u312-b07-0ubuntu1~18.04) ...\n",
      "update-alternatives: using /usr/lib/jvm/java-8-openjdk-amd64/jre/bin/orbd to provide /usr/bin/orbd (orbd) in auto mode\n",
      "update-alternatives: using /usr/lib/jvm/java-8-openjdk-amd64/jre/bin/servertool to provide /usr/bin/servertool (servertool) in auto mode\n",
      "update-alternatives: using /usr/lib/jvm/java-8-openjdk-amd64/jre/bin/tnameserv to provide /usr/bin/tnameserv (tnameserv) in auto mode\n",
      "Setting up openjdk-8-jdk-headless:amd64 (8u312-b07-0ubuntu1~18.04) ...\n",
      "update-alternatives: using /usr/lib/jvm/java-8-openjdk-amd64/bin/idlj to provide /usr/bin/idlj (idlj) in auto mode\n",
      "update-alternatives: using /usr/lib/jvm/java-8-openjdk-amd64/bin/wsimport to provide /usr/bin/wsimport (wsimport) in auto mode\n",
      "update-alternatives: using /usr/lib/jvm/java-8-openjdk-amd64/bin/jsadebugd to provide /usr/bin/jsadebugd (jsadebugd) in auto mode\n",
      "update-alternatives: using /usr/lib/jvm/java-8-openjdk-amd64/bin/native2ascii to provide /usr/bin/native2ascii (native2ascii) in auto mode\n",
      "update-alternatives: using /usr/lib/jvm/java-8-openjdk-amd64/bin/javah to provide /usr/bin/javah (javah) in auto mode\n",
      "update-alternatives: using /usr/lib/jvm/java-8-openjdk-amd64/bin/hsdb to provide /usr/bin/hsdb (hsdb) in auto mode\n",
      "update-alternatives: using /usr/lib/jvm/java-8-openjdk-amd64/bin/clhsdb to provide /usr/bin/clhsdb (clhsdb) in auto mode\n",
      "update-alternatives: using /usr/lib/jvm/java-8-openjdk-amd64/bin/xjc to provide /usr/bin/xjc (xjc) in auto mode\n",
      "update-alternatives: using /usr/lib/jvm/java-8-openjdk-amd64/bin/schemagen to provide /usr/bin/schemagen (schemagen) in auto mode\n",
      "update-alternatives: using /usr/lib/jvm/java-8-openjdk-amd64/bin/extcheck to provide /usr/bin/extcheck (extcheck) in auto mode\n",
      "update-alternatives: using /usr/lib/jvm/java-8-openjdk-amd64/bin/jhat to provide /usr/bin/jhat (jhat) in auto mode\n",
      "update-alternatives: using /usr/lib/jvm/java-8-openjdk-amd64/bin/wsgen to provide /usr/bin/wsgen (wsgen) in auto mode\n",
      "\u001b[K     |████████████████████████████████| 154 kB 43.3 MB/s \n",
      "\u001b[?25h--2022-01-05 22:59:57--  https://repos.spark-packages.org/graphframes/graphframes/0.8.2-spark3.2-s_2.12/graphframes-0.8.2-spark3.2-s_2.12.jar\n",
      "Resolving repos.spark-packages.org (repos.spark-packages.org)... 99.84.218.71, 99.84.218.22, 99.84.218.98, ...\n",
      "Connecting to repos.spark-packages.org (repos.spark-packages.org)|99.84.218.71|:443... connected.\n",
      "HTTP request sent, awaiting response... 200 OK\n",
      "Length: 247880 (242K) [binary/octet-stream]\n",
      "Saving to: ‘/usr/local/lib/python3.7/dist-packages/pyspark/jars/graphframes-0.8.2-spark3.2-s_2.12.jar’\n",
      "\n",
      "graphframes-0.8.2-s 100%[===================>] 242.07K  --.-KB/s    in 0.01s   \n",
      "\n",
      "2022-01-05 22:59:57 (19.0 MB/s) - ‘/usr/local/lib/python3.7/dist-packages/pyspark/jars/graphframes-0.8.2-spark3.2-s_2.12.jar’ saved [247880/247880]\n",
      "\n"
     ]
    }
   ],
   "source": [
    "# These will already be installed in the testing environment so disregard the \n",
    "# amount of time (~1 minute) it takes to install. \n",
    "!pip install -q pyspark\n",
    "!pip install -U -q PyDrive\n",
    "!apt-get update\n",
    "!apt install openjdk-8-jdk-headless -qq \n",
    "!pip install -q graphframes\n",
    "import os\n",
    "os.environ[\"JAVA_HOME\"] = \"/usr/lib/jvm/java-8-openjdk-amd64\"\n",
    "graphframes_jar = 'https://repos.spark-packages.org/graphframes/graphframes/0.8.2-spark3.2-s_2.12/graphframes-0.8.2-spark3.2-s_2.12.jar'\n",
    "spark_jars = '/usr/local/lib/python3.7/dist-packages/pyspark/jars'\n",
    "!wget -N -P $spark_jars $graphframes_jar"
   ]
  },
  {
   "cell_type": "code",
   "execution_count": 4,
   "metadata": {
    "id": "HNAOxn05ZI6V"
   },
   "outputs": [],
   "source": [
    "import pyspark\n",
    "from pyspark.sql import *\n",
    "from pyspark.sql.functions import *\n",
    "from pyspark import SparkContext, SparkConf\n",
    "from pyspark.sql import SQLContext\n",
    "from pyspark.ml.feature import Tokenizer, RegexTokenizer\n",
    "from graphframes import *"
   ]
  },
  {
   "cell_type": "code",
   "execution_count": 5,
   "metadata": {
    "id": "7SAu2RmxZK4f"
   },
   "outputs": [],
   "source": [
    "# Initializing spark context\n",
    "# create a spark context and session\n",
    "conf = SparkConf().set(\"spark.ui.port\", \"4050\")\n",
    "sc = pyspark.SparkContext(conf=conf)\n",
    "sc.addPyFile(str(Path(spark_jars) / Path(graphframes_jar).name))\n",
    "spark = SparkSession.builder.getOrCreate()"
   ]
  },
  {
   "cell_type": "code",
   "execution_count": 6,
   "metadata": {
    "id": "yclduZ7HZNZZ",
    "outputId": "a8336c4e-77fd-4a5d-b027-0cb6bb8d45f4",
    "colab": {
     "base_uri": "https://localhost:8080/",
     "height": 219.0
    }
   },
   "outputs": [
    {
     "data": {
      "text/html": [
       "\n",
       "            <div>\n",
       "                <p><b>SparkSession - in-memory</b></p>\n",
       "                \n",
       "        <div>\n",
       "            <p><b>SparkContext</b></p>\n",
       "\n",
       "            <p><a href=\"http://24cadc5b9483:4050\">Spark UI</a></p>\n",
       "\n",
       "            <dl>\n",
       "              <dt>Version</dt>\n",
       "                <dd><code>v3.2.0</code></dd>\n",
       "              <dt>Master</dt>\n",
       "                <dd><code>local[*]</code></dd>\n",
       "              <dt>AppName</dt>\n",
       "                <dd><code>pyspark-shell</code></dd>\n",
       "            </dl>\n",
       "        </div>\n",
       "        \n",
       "            </div>\n",
       "        "
      ],
      "text/plain": [
       "<pyspark.sql.session.SparkSession at 0x7f1f820eba90>"
      ]
     },
     "execution_count": 6,
     "metadata": {},
     "output_type": "execute_result"
    }
   ],
   "source": [
    "spark"
   ]
  },
  {
   "cell_type": "code",
   "execution_count": 7,
   "metadata": {
    "id": "1UO-OJPaZTDO"
   },
   "outputs": [],
   "source": [
    "# Authenticate your user\n",
    "# The authentication should be done with the email connected to your GCP account\n",
    "from google.colab import auth\n",
    "auth.authenticate_user()"
   ]
  },
  {
   "cell_type": "code",
   "execution_count": 8,
   "metadata": {
    "id": "CcQ4O_kaZZAw",
    "outputId": "ee8d10a6-a945-4a40-d4b8-de4fcccbb493",
    "colab": {
     "base_uri": "https://localhost:8080/"
    }
   },
   "outputs": [
    {
     "name": "stdout",
     "output_type": "stream",
     "text": [
      "Updated property [core/project].\n",
      "\u001b[1;33mWARNING:\u001b[0m You do not appear to have access to project [core-period-321814] or it does not exist.\n",
      "Copying gs://wikidata_preprocessed/multistream1_preprocessed.parquet...\n",
      "- [1 files][316.7 MiB/316.7 MiB]                                                \n",
      "Operation completed over 1 objects/316.7 MiB.                                    \n"
     ]
    }
   ],
   "source": [
    "# Copy one wikidumps files \n",
    "import os\n",
    "from pathlib import Path\n",
    "from google.colab import auth\n",
    "\n",
    "project_id = 'core-period-321814'\n",
    "!gcloud config set project {project_id}\n",
    "\n",
    "data_bucket_name = 'wikidata_preprocessed'\n",
    "try:\n",
    "    if os.environ[\"wikidata_preprocessed\"] is not None:\n",
    "        pass  \n",
    "except:\n",
    "      !mkdir wikidumps\n",
    "      !gsutil cp gs://{data_bucket_name}/multistream1_preprocessed.parquet \"wikidumps/\" "
   ]
  },
  {
   "cell_type": "code",
   "execution_count": 9,
   "metadata": {
    "id": "X9vrgrMbZgv7",
    "outputId": "b5451c03-3143-4070-8d6d-ac2cf0421bad",
    "colab": {
     "base_uri": "https://localhost:8080/"
    }
   },
   "outputs": [
    {
     "name": "stdout",
     "output_type": "stream",
     "text": [
      "+---+--------------------+--------------------+--------------------+\n",
      "| id|               title|                text|         anchor_text|\n",
      "+---+--------------------+--------------------+--------------------+\n",
      "| 12|           Anarchism|'''Anarchism''' i...|[{23040, politica...|\n",
      "| 25|              Autism|'''Autism''' is a...|[{492271, Clinica...|\n",
      "| 39|              Albedo|thumb|upright=1.3...|[{679294, diffuse...|\n",
      "|290|                   A|'''A''', or '''a'...|[{290, See below}...|\n",
      "|303|             Alabama|'''Alabama''' () ...|[{351590, Yellowh...|\n",
      "|305|            Achilles|thumb|260px|Ancie...|[{1076007, potter...|\n",
      "|307|     Abraham Lincoln|'''Abraham Lincol...|[{1827174, Alexan...|\n",
      "|308|           Aristotle|'''Aristotle''' (...|[{1389981, bust},...|\n",
      "|309|An American in Paris|'''''An American ...|[{13066, George G...|\n",
      "|316|Academy Award for...|The '''Academy Aw...|[{39842, Academy ...|\n",
      "|324|      Academy Awards|The '''Academy Aw...|[{649481, film in...|\n",
      "|330|             Actrius|'''''Actresses'''...|[{5282, Catalan},...|\n",
      "|332|     Animalia (book)|'''''Animalia''''...|[{2511084, Graeme...|\n",
      "|334|International Ato...|'''International ...|[{25453985, atomi...|\n",
      "|336|            Altruism|thumb|Giving alms...|[{657573, alms}, ...|\n",
      "|339|            Ayn Rand|'''Alice O'Connor...|[{24320051, St. P...|\n",
      "|340|        Alain Connes|'''Alain Connes''...|[{1201522, Dragui...|\n",
      "|344|          Allan Dwan|'''Allan Dwan''' ...|[{64646, Toronto}...|\n",
      "|358|             Algeria|'''Algeria''', of...|[{803, Arabic}, {...|\n",
      "|359|List of Atlas Shr...|This is a list of...|[{339, Ayn Rand},...|\n",
      "+---+--------------------+--------------------+--------------------+\n",
      "only showing top 20 rows\n",
      "\n"
     ]
    }
   ],
   "source": [
    "from pathlib import Path \n",
    "import os\n",
    "\n",
    "try:\n",
    "    if os.environ[\"wikidata_preprocessed\"] is not None:\n",
    "      path = os.environ[\"wikidata_preprocessed\"]+\"/wikidumps/*\"\n",
    "except:\n",
    "      path = \"wikidumps/*\"\n",
    "\n",
    "parquetFile = spark.read.parquet(path)\n",
    "parquetFile.show()"
   ]
  },
  {
   "cell_type": "code",
   "execution_count": 10,
   "metadata": {
    "id": "GzXq4FMxZnbI"
   },
   "outputs": [],
   "source": [
    "# take the 'title' and 'id' or the first 1000 rows and create an RDD from it\n",
    "doc_title_pairs = parquetFile.limit(1000).select(\"title\", \"id\").rdd\n",
    "\n",
    "# take the 'anchor' and 'id' or the first 1000 rows and create an RDD from it\n",
    "doc_anchor_pairs = parquetFile.limit(1000).select(\"anchor_text\", \"id\").rdd"
   ]
  },
  {
   "cell_type": "code",
   "execution_count": 11,
   "metadata": {
    "id": "HIch0c5ZipAY"
   },
   "outputs": [],
   "source": [
    "english_stopwords = frozenset(stopwords.words('english'))\n",
    "corpus_stopwords = ['category', 'references', 'also', 'links', 'extenal', 'see', 'thumb']\n",
    "RE_WORD = re.compile(r\"\"\"[\\#\\@\\w](['\\-]?\\w){2,24}\"\"\", re.UNICODE)\n",
    "\n",
    "all_stopwords = english_stopwords.union(corpus_stopwords)"
   ]
  },
  {
   "cell_type": "code",
   "execution_count": 12,
   "metadata": {
    "id": "GZ7s9bIjc0xR"
   },
   "outputs": [],
   "source": [
    "def word_to_docid(anchors, id):\n",
    "  ''' \n",
    "  -----------\n",
    "    title: str\n",
    "      Title of one document\n",
    "    id: int\n",
    "      Document id\n",
    "  Returns:\n",
    "  --------\n",
    "    List of tuples\n",
    "      A list of (token, doc_id) pairs \n",
    "      for example: [(\"Anarchism\", 12), ...]\n",
    "  '''\n",
    "  tokens = [token.group() for token in RE_WORD.finditer(anchors.lower())]\n",
    "\n",
    "  tuple_list = [] # creating the list\n",
    "  for term in np.unique(tokens): # we only need a unique occurence of each term since the search on it will be binary\n",
    "    tuple_list.append((term, id)) # adding to the list\n",
    "\n",
    "  return tuple_list"
   ]
  },
  {
   "cell_type": "code",
   "execution_count": 13,
   "metadata": {
    "id": "9SZgtHCBmt4Y"
   },
   "outputs": [],
   "source": [
    "def g(x):\n",
    "  print(x)"
   ]
  },
  {
   "cell_type": "code",
   "execution_count": 14,
   "metadata": {
    "id": "1hTMlbMRdZAF",
    "outputId": "f094bd4b-9f3c-4661-e370-f29c3aead811",
    "colab": {
     "base_uri": "https://localhost:8080/"
    }
   },
   "outputs": [
    {
     "name": "stdout",
     "output_type": "stream",
     "text": [
      "[('philosophy', 23040), ('political', 23040), ('movement', 99232), ('authority', 170653), ('hierarchy', 13998), ('state', 28151), ('far-left', 18247344), ('libertarian', 3661758), ('marxism', 3661758), ('libertarian', 3225498), ('libertarian', 18048), ('socialism', 18048), ('movement', 47246185), ('socialist', 47246185), ('anti-capitalism', 44443), ('socialism', 26847), ('anarchy', 1063286), ('history', 1063286), ('prehistory', 18994022), ('realm', 5612299)]\n"
     ]
    }
   ],
   "source": [
    "#print(word_to_docid(doc_anchor_pairs.collect()[0][0], doc_anchor_pairs.collect()[0][1]))\n",
    "#word_docid = doc_title_pairs.flatMap(lambda x: word_to_docid(x[0], x[1]))\n",
    "#print(word_docid.collect())\n",
    "#print(type(word_docid))\n",
    "#Create an anchor list per doc id\n",
    "anchors_lists = doc_anchor_pairs.flatMap(lambda tup: tup).collect()[::2]\n",
    "flat_list = [item for sublist in anchors_lists for item in sublist]\n",
    "anchor_docid =list(map(lambda x:  word_to_docid(x[1],x[0]),flat_list))\n",
    "anchor_docid = [item for sublist in anchor_docid for item in sublist]\n",
    "anchor_docid = sc.parallelize(anchor_docid).map(lambda x: x)\n",
    "print(anchor_docid.collect()[:20])"
   ]
  },
  {
   "cell_type": "code",
   "execution_count": 15,
   "metadata": {
    "id": "IytQ_mFZlEuS"
   },
   "outputs": [],
   "source": [
    "def reduce_word_counts(unsorted_pl):\n",
    "  ''' Returns a sorted posting list by wiki_id.\n",
    "  Parameters:\n",
    "  -----------\n",
    "    unsorted_pl: list of tuples\n",
    "      A list of (wiki_id, tf) tuples \n",
    "  Returns:\n",
    "  --------\n",
    "    list of tuples\n",
    "      A sorted posting list.\n",
    "  '''\n",
    "  # YOUR CODE HERE\n",
    "  return sorted(list(set(unsorted_pl)))"
   ]
  },
  {
   "cell_type": "code",
   "execution_count": 17,
   "metadata": {
    "colab": {
     "base_uri": "https://localhost:8080/"
    },
    "id": "lrqjL4CObpqT",
    "outputId": "f4e2a92c-b087-4a07-cd12-f17dcb78fefb"
   },
   "outputs": [
    {
     "name": "stdout",
     "output_type": "stream",
     "text": [
      "[('philosophy', [1167, 4468, 5312, 5822, 9258, 12393, 23003, 23012, 23040, 23612, 24269, 24983, 30340, 37010, 39872, 46439, 80666, 151419, 159211, 166162, 166200, 171171, 175456, 180786, 192007, 209565, 219447, 223389, 307365, 309641, 309909, 310169, 357356, 382251, 461391, 730473, 803178, 806549, 806560, 1688138, 1967949, 1979016, 2110950, 2552726, 2695116, 2816803, 2890279, 2906083, 2958015, 3064846, 3144227, 3331852, 3613142, 3792917, 4870766, 5483237, 5646829, 6098864, 6880370, 6880483, 7939344, 8927416, 10649725, 11295944, 13291712, 13549878, 13692155, 13704154, 13800309, 14298096, 18718508, 21031297, 26571896, 27885874, 29016566, 31110831, 32555744, 34663672, 40341188, 41088542]), ('political', [9457, 11175, 12229, 15181, 18173, 18499, 22986, 23040, 23490, 23996, 24388, 28661, 32026, 37307, 45446, 46044, 147885, 172077, 191829, 221737, 370588, 396356, 408396, 445407, 486842, 574823, 958988, 976102, 1019726, 1205302, 1275114, 1329211, 1341522, 1621432, 1700192, 1728372, 1830882, 2252692, 2291645, 2298740, 2646043, 3216202, 3786577, 4783787, 7585429, 10254563, 11328678, 12366254, 13485592, 14496822, 17013014, 17997726, 19278463, 25187361, 31365976, 31968224, 32204428, 41192248, 45564188, 46533140, 47194694, 47254288, 55941546]), ('movement', [5903, 15012, 15487, 20119, 21742, 34484, 36565, 42132, 49001, 49867, 99232, 103326, 118580, 153159, 161022, 161237, 201588, 213780, 228568, 234984, 247196, 261730, 275099, 295693, 319778, 323434, 347166, 376138, 382224, 389363, 395296, 403354, 408186, 410942, 420883, 436022, 460375, 470962, 495006, 603166, 675582, 797638, 883438, 896455, 979199, 1081280, 1116264, 1270497, 1305330, 1330528, 1343424, 1346577, 1456276, 1459096, 1688046, 1688804, 1727494, 1790883, 1854610, 1980293, 1984948, 2444515, 3950041, 4319572, 4381007, 5678514, 5958004, 7963663, 8407153, 8544676, 8705263, 10668246, 14083433, 15706527, 17179543, 17995542, 18854656, 21254487, 21643854, 23028847, 23385837, 24627166, 25197884, 26003893, 26091881, 33862727, 34959730, 37280519, 37600900, 38777072, 40628134, 41338940, 41470580, 41996050, 42854422, 43927139, 46521247, 46843499, 47246185, 50600870, 54306103, 61285918, 68192094]), ('authority', [15028, 84022, 95880, 147234, 170653, 365465, 403339, 1293352, 2053797, 2631316, 3983421, 6924758, 9930622, 12097667, 17745985, 24369308, 33287790, 34671042, 36688386, 37501148, 37568781, 38192277, 38910207, 41192248, 48729126, 56338306]), ('state', [1859, 6466, 9736, 10898, 13456, 14696, 14875, 16716, 16986, 21627, 22217, 26383, 28151, 28406, 29660, 29665, 29810, 30395, 31975, 32293, 37081, 37461, 38452, 42953, 44101, 48830, 48940, 51299, 55859, 56134, 56704, 58598, 62450, 66004, 72544, 78359, 83986, 87513, 87990, 97024, 102459, 102847, 139176, 157960, 168714, 183256, 187337, 216400, 222839, 224474, 225982, 226144, 226146, 233155, 237373, 240224, 241125, 241405, 248410, 250002, 251208, 253978, 255627, 256355, 266877, 291717, 292285, 292999, 293401, 294034, 295218, 298492, 298608, 300628, 301463, 302332, 303766, 323078, 327411, 331847, 332966, 334595, 335611, 339290, 339643, 341436, 346362, 346365, 346404, 346414, 356422, 356560, 374544, 375905, 375986, 379066, 379617, 380812, 391156, 392198, 400821, 401375, 410402, 426458, 429249, 431030, 435430, 436053, 436940, 447006, 465598, 465604, 471603, 476068, 482080, 489505, 493369, 496406, 503118, 503403, 505770, 516680, 537103, 545960, 548857, 556268, 596325, 620909, 622884, 624245, 637911, 638418, 638766, 649879, 652987, 682496, 696912, 701188, 772089, 774995, 844779, 849376, 852930, 862851, 873520, 973781, 988887, 990505, 1030860, 1038535, 1049313, 1071790, 1096971, 1209509, 1211423, 1215737, 1221238, 1290480, 1317979, 1321871, 1345594, 1413089, 1460640, 1470520, 1505399, 1567081, 1596262, 1633123, 1656626, 1656778, 1762018, 1802213, 1813037, 1840202, 1850855, 1857063, 1884577, 1889476, 1892215, 1897573, 1924523, 1938301, 1954843, 2055788, 2153180, 2181138, 2181408, 2198185, 2269505, 2427510, 2456279, 2535441, 2583161, 2602327, 2645175, 2646955, 2653425, 2689389, 2709449, 2748329, 2753153, 2768270, 2977142, 3061057, 3076412, 3236858, 3248018, 3252947, 3277500, 3302506, 3478576, 3493617, 3598457, 3640133, 3656002, 4034596, 4107506, 4112246, 4143327, 4192923, 4300777, 4360460, 4509347, 4578009, 4670403, 4689096, 4712567, 4719390, 4753693, 4795274, 4930033, 4961115, 4967784, 4985905, 5060859, 5172736, 5292105, 5624904, 5643269, 6031876, 6065438, 6143251, 6446390, 6628321, 6859515, 7008222, 7008881, 7447496, 7460887, 7858726, 7865216, 7957075, 8196151, 8210131, 8622991, 8821950, 8850204, 9087364, 9162116, 9274047, 9282173, 9442624, 9926348, 10179899, 10395942, 10488357, 10927369, 11046161, 11051468, 11134596, 11400390, 11876710, 12120961, 12147516, 12688688, 12995681, 13015878, 14010829, 14383095, 15132436, 15330108, 15790164, 15904693, 16967483, 17255213, 17402476, 17523792, 18618239, 18752637, 19334466, 19376241, 19388111, 19467140, 19490744, 19533974, 19795494, 20738380, 20738637, 21210183, 21672549, 22000914, 22291042, 23115197, 23136859, 23604120, 23731071, 24079896, 24800670, 25321317, 25407375, 25903755, 26422038, 27041853, 27368004, 27684253, 28309128, 28349423, 28990829, 29115127, 29119827, 29582261, 29764723, 29802825, 29914894, 29969379, 30074296, 30076029, 30247505, 30865692, 30872615, 30876419, 31524747, 32872317, 34195269, 36534044, 36842515, 37653785, 38794736, 39472607, 39955935, 42205813, 42797279, 43314420, 44589737, 44750792, 45061575, 46350981, 48004121, 48437843, 49255266, 49477812, 51009694, 51141992, 51142104, 51307605, 52693802, 53034144, 59773907, 60247420, 61670198, 66250593, 67245778]), ('libertarian', [18048, 18173, 32044, 3225498, 3264383, 3661758, 3713410, 6017141, 23573352, 27749316, 50429322]), ('socialism', [18048, 26847, 328794, 28229396, 31045316, 38443580, 38794736, 40556040, 44379582]), ('anti-capitalism', [44443]), ('prehistory', [18994022, 54685168]), ('realm', [180223, 205142, 636327, 5612299, 32396918]), ('scepticism', [26810, 204510, 241265]), ('emancipation', [9515, 1022009, 1100593, 1697541, 5575410, 32175613, 37942427]), ('anarchist', [12, 486842, 805586, 4320692, 31619520, 40695026, 46399274, 49873055, 52999857, 60255933]), ('schools', [156975, 238561, 331693, 363831, 465584, 471603, 511201, 552759, 573646, 663857, 987026, 2156792, 2359659, 2631535, 2726813, 3394085, 3648965, 3937155, 4365327, 5441736, 6711330, 7330480, 7878135, 10580431, 11284876, 11722032, 11757510, 11945311, 14507812, 22431475, 22982246, 23311862, 24333308, 39429236, 44286728, 45544909, 46399274]), ('thought', [9223, 26915, 27113, 49535, 307365, 743896, 1993328, 5750031, 8693555, 13692155, 29083010, 29136076, 30455493, 38802836, 46399274, 49873055, 57264039]), ('anarchism', [12, 14936, 49938, 98514, 105859, 470052, 805586, 1063286, 1332770, 2052697, 2287742, 5773736, 8817545, 20684316, 26729461, 31619520, 39353100, 39398243, 40678640, 43356519, 46399294, 60255933, 61411509]), ('classical', [1306, 2032, 5178, 5288, 5810, 6313, 6677, 11887, 27698, 59412, 79185, 85436, 99260, 106286, 123516, 148363, 151066, 188540, 223014, 227141, 251997, 252905, 273800, 274099, 275047, 329550, 412589, 426219, 547964, 587247, 606810, 660135, 710704, 763213, 910846, 911225, 932217, 1063286, 1140215, 1178398, 1548104, 1585032, 3659443, 4254233, 4700845, 5662829, 6668778, 11936957, 13517898, 19555586, 21078775, 23007470, 23610110, 28957716, 29828324, 35326250, 41771187, 46399274]), ('praxis', [446605]), ('ism', [24083066]), ('revolution', [1973, 11188, 12466, 14914, 22661, 25762, 29544, 37056, 38711, 45311, 54327, 66906, 72727, 80899, 82430, 145401, 145844, 145845, 174791, 178617, 225219, 268111, 274394, 277776, 290513, 335768, 347268, 351949, 415418, 495033, 501776, 612494, 639115, 661656, 753563, 999895, 1220825, 1254421, 1978516, 2327104, 3543408, 3661620, 5112388, 5426626, 5757110, 6520497, 7797745, 8402033, 9097253, 9502317, 13368513, 13837507, 14701226, 16511284, 21528406, 21761998, 23990401, 29568194, 32077668, 32707130, 33094374, 34536327, 41435244, 44420427, 45137597, 45495379, 46878827, 47393379, 48631673, 50280455, 53068470, 54415948, 56223894, 56960433, 57126322, 64232438, 65370937])]\n",
      "<class 'pyspark.rdd.PipelinedRDD'>\n"
     ]
    }
   ],
   "source": [
    "anchor_postings = anchor_docid.groupByKey().mapValues(reduce_word_counts)\n",
    "print(anchor_postings.collect()[:20])\n",
    "print(type(anchor_postings))"
   ]
  },
  {
   "cell_type": "code",
   "execution_count": null,
   "metadata": {
    "id": "BvUVJE2boV8W"
   },
   "outputs": [],
   "source": [
    "NUM_BUCKETS = 124\n",
    "def token2bucket_id(token):\n",
    "  return int(_hash(token),16) % NUM_BUCKETS\n",
    "\n",
    "def partition_postings_and_write(postings):\n",
    "  ''' A function that partitions the posting lists into buckets, writes out \n",
    "  all posting lists in a bucket to disk, and returns the posting locations for \n",
    "  each bucket. Partitioning should be done through the use of `token2bucket` \n",
    "  above. Writing to disk should use the function  `write_a_posting_list`, a \n",
    "  static method implemented in inverted_index_colab.py under the InvertedIndex \n",
    "  class. \n",
    "  Parameters:\n",
    "  -----------\n",
    "    postings: RDD\n",
    "      An RDD where each item is a (w, posting_list) pair.\n",
    "  Returns:\n",
    "  --------\n",
    "    RDD\n",
    "      An RDD where each item is a posting locations dictionary for a bucket. The\n",
    "      posting locations maintain a list for each word of file locations and \n",
    "      offsets its posting list was written to. See `write_a_posting_list` for \n",
    "      more details.\n",
    "  '''\n",
    " \n",
    "  '''\n",
    "  taking a posting of the form (w, posting_list)\n",
    "  and returning (bucket_id, (w, posting_list))\n",
    "  '''\n",
    "\n",
    "  def mapping_bucket_id(term, posting):\n",
    "    return (token2bucket_id(term), posting)\n",
    "\n",
    "  def write_id(id_mapped_postings):\n",
    "    return InvertedIndex.write_a_posting_list(id_mapped_postings)\n",
    "\n",
    "  locations = postings.map(lambda x: mapping_bucket_id(x[0], x)).groupByKey().map(lambda x: write_id(x))\n",
    "\n",
    "  return locations\n",
    "  # def mapping_bucket_id(posting):\n",
    "  #   return (token2bucket_id(posting[0]), posting)\n",
    "  \n",
    "  # def write_id(id_mapped_postings):\n",
    "  #   return InvertedIndex.write_a_posting_list(id_mapped_postings)\n",
    "\n",
    "  # locations = postings.flatMap(lambda x: )\n",
    "  # locations = postings.map(mapping_bucket_id).groupByKey().map(write_id)\n",
    "  \n",
    "  #return locations"
   ]
  },
  {
   "cell_type": "code",
   "execution_count": null,
   "metadata": {
    "id": "6cGVBYeXoeS4"
   },
   "outputs": [],
   "source": [
    "posting_locs_list = partition_postings_and_write(postings).collect()\n",
    "print(posting_locs_list)"
   ]
  },
  {
   "cell_type": "code",
   "execution_count": 20,
   "metadata": {
    "id": "fSCgXAIXHN-h"
   },
   "outputs": [],
   "source": [
    "def calculate_df(postings):\n",
    "  ''' Takes a posting list RDD and calculate the df for each token.\n",
    "  Parameters:\n",
    "  -----------\n",
    "    postings: RDD\n",
    "      An RDD where each element is a (token, posting_list) pair.\n",
    "  Returns:\n",
    "  --------\n",
    "    RDD\n",
    "      An RDD where each element is a (token, df) pair.\n",
    "  '''\n",
    "  # YOUR CODE HERE\n",
    "  def to_df(posting):\n",
    "    return (posting[0], len(posting[1]))\n",
    "\n",
    "  return postings.map(to_df)"
   ]
  },
  {
   "cell_type": "code",
   "execution_count": 21,
   "metadata": {
    "id": "fLOqHG_kHe7u"
   },
   "outputs": [],
   "source": [
    "# global statistics\n",
    "w2df = calculate_df(anchor_postings)\n",
    "w2df_dict = w2df.collectAsMap()"
   ]
  },
  {
   "cell_type": "code",
   "execution_count": null,
   "metadata": {
    "id": "Z-TQVmYko7Ls"
   },
   "outputs": [],
   "source": [
    "# merge the posting locations into a single dict and run more tests (5 points)\n",
    "super_posting_locs = defaultdict(list)\n",
    "for posting_loc in posting_locs_list:\n",
    "  for k, v in posting_loc.items():\n",
    "    super_posting_locs[k].extend(v)"
   ]
  },
  {
   "cell_type": "code",
   "execution_count": null,
   "metadata": {
    "id": "N34GUpPvFi1Y"
   },
   "outputs": [],
   "source": [
    "# Create inverted index instance\n",
    "inverted = InvertedIndex()\n",
    "# Adding the posting locations dictionary to the inverted index\n",
    "inverted.posting_locs = super_posting_locs\n",
    "# Add the token - df dictionary to the inverted index\n",
    "inverted.df = w2df_dict\n",
    "# write the global stats out\n",
    "inverted.write_index('.', 'index')"
   ]
  },
  {
   "cell_type": "code",
   "execution_count": null,
   "metadata": {
    "id": "rEsSaeXAGR6u"
   },
   "outputs": [],
   "source": [
    "TUPLE_SIZE = 4       \n",
    "TF_MASK = 2 ** 16 - 1 # Masking the 16 low bits of an integer\n",
    "from contextlib import closing\n",
    "\n",
    "def read_posting_list(inverted, w):\n",
    "  with closing(MultiFileReader()) as reader:\n",
    "    locs = inverted.posting_locs[w]\n",
    "    b = reader.read(locs, inverted.df[w] * TUPLE_SIZE)\n",
    "    posting_list = []\n",
    "    for i in range(inverted.df[w]):\n",
    "      doc_id = int.from_bytes(b[i*TUPLE_SIZE:i*TUPLE_SIZE+4], 'big')\n",
    "      posting_list.append(doc_id)\n",
    "    return posting_list"
   ]
  },
  {
   "cell_type": "code",
   "execution_count": null,
   "metadata": {
    "id": "TZ7j5sZVGTcB",
    "outputId": "3d8a4c89-cd21-4e01-e098-e59c295eca35",
    "colab": {
     "base_uri": "https://localhost:8080/"
    }
   },
   "outputs": [
    {
     "name": "stdout",
     "output_type": "stream",
     "text": [
      "[303, 1285, 1286, 1484]\n"
     ]
    }
   ],
   "source": [
    "pl = read_posting_list(inverted, 'alabama')\n",
    "print(pl)"
   ]
  }
 ],
 "metadata": {
  "colab": {
   "name": "searchanchor.ipynb",
   "provenance": [],
   "collapsed_sections": []
  },
  "kernelspec": {
   "name": "python3",
   "display_name": "Python 3"
  },
  "language_info": {
   "name": "python"
  }
 },
 "nbformat": 4,
 "nbformat_minor": 0
}
