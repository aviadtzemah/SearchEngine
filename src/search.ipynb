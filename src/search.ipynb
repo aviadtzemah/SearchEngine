{
  "nbformat": 4,
  "nbformat_minor": 0,
  "metadata": {
    "colab": {
      "name": "Untitled1.ipynb",
      "provenance": []
    },
    "kernelspec": {
      "name": "python3",
      "display_name": "Python 3"
    },
    "language_info": {
      "name": "python"
    }
  },
  "cells": [
    {
      "cell_type": "code",
      "source": [
        "def search_body(query, N=100):\n",
        "   \"\"\" \n",
        "    Gets the best N results for a given query using TFIDF and cosine similarity \n",
        "    \n",
        "    Parameters:\n",
        "    -----------\n",
        "    query: String. The query.\n",
        "\n",
        "    N: Integer. How many documents to retrieve. By default N = 100.\n",
        "    \n",
        "    Returns:\n",
        "    -----------\n",
        "    return: a list of up to N search results, ordered from best to worst where\n",
        "     each element is a tuple (wiki_id, title).\n",
        "    \"\"\"\n",
        "  pass"
      ],
      "metadata": {
        "id": "hxNBV5sbCfOY"
      },
      "execution_count": null,
      "outputs": []
    },
    {
      "cell_type": "code",
      "source": [
        "def search_title(query):\n",
        "   \"\"\" \n",
        "    Gets all the results for a given query using binary ranking on the titles \n",
        "    \n",
        "    Parameters:\n",
        "    -----------\n",
        "    query: String. The query.\n",
        "    \n",
        "    Returns:\n",
        "    -----------\n",
        "    return: a list of all the search results, ordered from best to worst where\n",
        "     each element is a tuple (wiki_id, title).\n",
        "    \"\"\"\n",
        "  pass"
      ],
      "metadata": {
        "id": "qrq9EbliCpXx"
      },
      "execution_count": null,
      "outputs": []
    },
    {
      "cell_type": "code",
      "source": [
        "def search_anchor(query):\n",
        "    \"\"\" \n",
        "    Gets all the results for a given query using binary ranking on the anchor texts \n",
        "    \n",
        "    Parameters:\n",
        "    -----------\n",
        "    query: String. The query.\n",
        "    \n",
        "    Returns:\n",
        "    -----------\n",
        "    return: a list of all the search results, ordered from best to worst where\n",
        "     each element is a tuple (wiki_id, title).\n",
        "    \"\"\"\n",
        "  pass"
      ],
      "metadata": {
        "id": "R6QVdnviEd0q"
      },
      "execution_count": null,
      "outputs": []
    },
    {
      "cell_type": "code",
      "source": [
        "def get_pagerank(article_ids):\n",
        "    \"\"\" \n",
        "    Gets the number of page views that each of the provide wiki articles\n",
        "        had in August 2021.\n",
        "    \n",
        "    Parameters:\n",
        "    -----------\n",
        "    article_ids: List. list of article ids of which to return the page views of.\n",
        "    \n",
        "    Returns:\n",
        "    -----------\n",
        "    return: a list of ints:\n",
        "          list of page view numbers from August 2021 that correrspond to the \n",
        "          provided list article IDs.\n",
        "    \"\"\"\n",
        "  pass"
      ],
      "metadata": {
        "id": "u7f2Cpb0EsHl"
      },
      "execution_count": null,
      "outputs": []
    },
    {
      "cell_type": "code",
      "source": [
        "def get_pageview(article_ids):\n",
        "    \"\"\" \n",
        "    Gets PageRank values for a list of provided wiki article IDs.\n",
        "    \n",
        "    Parameters:\n",
        "    -----------\n",
        "    article_ids: List. list of article ids of which to return the page ranks of.\n",
        "    \n",
        "    Returns:\n",
        "    -----------\n",
        "    return: a list of floats:\n",
        "          list of PageRank scores that correrspond to the provided article IDs.\n",
        "    \"\"\"\n",
        "  pass"
      ],
      "metadata": {
        "id": "hCf2ue-rFKE3"
      },
      "execution_count": null,
      "outputs": []
    },
    {
      "cell_type": "code",
      "execution_count": null,
      "metadata": {
        "id": "yEqNu5kDNIhQ"
      },
      "outputs": [],
      "source": [
        "def search(query):\n",
        "  pass"
      ]
    }
  ]
}