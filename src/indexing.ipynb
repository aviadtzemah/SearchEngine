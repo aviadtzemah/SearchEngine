{
  "nbformat": 4,
  "nbformat_minor": 0,
  "metadata": {
    "colab": {
      "name": "Untitled0.ipynb",
      "provenance": []
    },
    "kernelspec": {
      "name": "python3",
      "display_name": "Python 3"
    },
    "language_info": {
      "name": "python"
    }
  },
  "cells": [
    {
      "cell_type": "code",
      "execution_count": 137,
      "metadata": {
        "id": "Arv473sLM6vM",
        "outputId": "a86aebe2-d44e-4bc6-f854-b540e94f4efd",
        "colab": {
          "base_uri": "https://localhost:8080/"
        }
      },
      "outputs": [
        {
          "output_type": "stream",
          "name": "stdout",
          "text": [
            "[nltk_data] Downloading package stopwords to /root/nltk_data...\n",
            "[nltk_data]   Package stopwords is already up-to-date!\n"
          ]
        }
      ],
      "source": [
        "import sys\n",
        "from collections import Counter, OrderedDict\n",
        "import itertools\n",
        "from itertools import islice, count, groupby\n",
        "import pandas as pd\n",
        "import os\n",
        "import re\n",
        "from operator import itemgetter\n",
        "import nltk\n",
        "from nltk.stem.porter import *\n",
        "from nltk.corpus import stopwords\n",
        "from time import time\n",
        "from timeit import timeit\n",
        "from pathlib import Path\n",
        "import pickle\n",
        "import pandas as pd\n",
        "import numpy as np\n",
        "from google.cloud import storage\n",
        "\n",
        "import hashlib\n",
        "def _hash(s):\n",
        "    return hashlib.blake2b(bytes(s, encoding='utf8'), digest_size=5).hexdigest()\n",
        "\n",
        "nltk.download('stopwords')\n",
        "\n",
        "#from inverted_index_colab import *\n",
        "from binary_inverted_index_colab import *"
      ]
    },
    {
      "cell_type": "code",
      "source": [
        "# These will already be installed in the testing environment so disregard the \n",
        "# amount of time (~1 minute) it takes to install. \n",
        "!pip install -q pyspark\n",
        "!pip install -U -q PyDrive\n",
        "!apt-get update\n",
        "!apt install openjdk-8-jdk-headless -qq \n",
        "!pip install -q graphframes\n",
        "import os\n",
        "os.environ[\"JAVA_HOME\"] = \"/usr/lib/jvm/java-8-openjdk-amd64\"\n",
        "graphframes_jar = 'https://repos.spark-packages.org/graphframes/graphframes/0.8.2-spark3.2-s_2.12/graphframes-0.8.2-spark3.2-s_2.12.jar'\n",
        "spark_jars = '/usr/local/lib/python3.7/dist-packages/pyspark/jars'\n",
        "!wget -N -P $spark_jars $graphframes_jar"
      ],
      "metadata": {
        "id": "WdY1e6l9ZFNg",
        "outputId": "0b11e4a7-9703-4a34-db22-9617ce6864cc",
        "colab": {
          "base_uri": "https://localhost:8080/"
        }
      },
      "execution_count": 7,
      "outputs": [
        {
          "output_type": "stream",
          "name": "stdout",
          "text": [
            "\r0% [Working]\r            \rGet:1 http://security.ubuntu.com/ubuntu bionic-security InRelease [88.7 kB]\n",
            "Get:2 https://cloud.r-project.org/bin/linux/ubuntu bionic-cran40/ InRelease [3,626 B]\n",
            "Ign:3 https://developer.download.nvidia.com/compute/cuda/repos/ubuntu1804/x86_64  InRelease\n",
            "Hit:4 http://archive.ubuntu.com/ubuntu bionic InRelease\n",
            "Get:5 http://ppa.launchpad.net/c2d4u.team/c2d4u4.0+/ubuntu bionic InRelease [15.9 kB]\n",
            "Ign:6 https://developer.download.nvidia.com/compute/machine-learning/repos/ubuntu1804/x86_64  InRelease\n",
            "Get:7 https://developer.download.nvidia.com/compute/cuda/repos/ubuntu1804/x86_64  Release [696 B]\n",
            "Get:8 http://archive.ubuntu.com/ubuntu bionic-updates InRelease [88.7 kB]\n",
            "Hit:9 https://developer.download.nvidia.com/compute/machine-learning/repos/ubuntu1804/x86_64  Release\n",
            "Get:10 https://developer.download.nvidia.com/compute/cuda/repos/ubuntu1804/x86_64  Release.gpg [836 B]\n",
            "Get:11 https://cloud.r-project.org/bin/linux/ubuntu bionic-cran40/ Packages [73.9 kB]\n",
            "Hit:12 http://ppa.launchpad.net/cran/libgit2/ubuntu bionic InRelease\n",
            "Get:13 http://archive.ubuntu.com/ubuntu bionic-backports InRelease [74.6 kB]\n",
            "Get:14 http://ppa.launchpad.net/deadsnakes/ppa/ubuntu bionic InRelease [15.9 kB]\n",
            "Get:15 http://ppa.launchpad.net/graphics-drivers/ppa/ubuntu bionic InRelease [21.3 kB]\n",
            "Get:16 http://security.ubuntu.com/ubuntu bionic-security/main amd64 Packages [2,461 kB]\n",
            "Get:17 http://security.ubuntu.com/ubuntu bionic-security/restricted amd64 Packages [691 kB]\n",
            "Get:18 http://security.ubuntu.com/ubuntu bionic-security/universe amd64 Packages [1,452 kB]\n",
            "Get:19 http://ppa.launchpad.net/c2d4u.team/c2d4u4.0+/ubuntu bionic/main Sources [1,822 kB]\n",
            "Get:21 https://developer.download.nvidia.com/compute/cuda/repos/ubuntu1804/x86_64  Packages [833 kB]\n",
            "Get:22 http://ppa.launchpad.net/c2d4u.team/c2d4u4.0+/ubuntu bionic/main amd64 Packages [934 kB]\n",
            "Get:23 http://archive.ubuntu.com/ubuntu bionic-updates/universe amd64 Packages [2,230 kB]\n",
            "Get:24 http://archive.ubuntu.com/ubuntu bionic-updates/main amd64 Packages [2,898 kB]\n",
            "Get:25 http://archive.ubuntu.com/ubuntu bionic-backports/main amd64 Packages [11.6 kB]\n",
            "Get:26 http://archive.ubuntu.com/ubuntu bionic-backports/universe amd64 Packages [12.6 kB]\n",
            "Get:27 http://ppa.launchpad.net/deadsnakes/ppa/ubuntu bionic/main amd64 Packages [45.3 kB]\n",
            "Get:28 http://ppa.launchpad.net/graphics-drivers/ppa/ubuntu bionic/main amd64 Packages [44.7 kB]\n",
            "Fetched 13.8 MB in 4s (3,545 kB/s)\n",
            "Reading package lists... Done\n",
            "The following additional packages will be installed:\n",
            "  openjdk-8-jre-headless\n",
            "Suggested packages:\n",
            "  openjdk-8-demo openjdk-8-source libnss-mdns fonts-dejavu-extra\n",
            "  fonts-ipafont-gothic fonts-ipafont-mincho fonts-wqy-microhei\n",
            "  fonts-wqy-zenhei fonts-indic\n",
            "The following NEW packages will be installed:\n",
            "  openjdk-8-jdk-headless openjdk-8-jre-headless\n",
            "0 upgraded, 2 newly installed, 0 to remove and 100 not upgraded.\n",
            "Need to get 36.5 MB of archives.\n",
            "After this operation, 143 MB of additional disk space will be used.\n",
            "Selecting previously unselected package openjdk-8-jre-headless:amd64.\n",
            "(Reading database ... 155222 files and directories currently installed.)\n",
            "Preparing to unpack .../openjdk-8-jre-headless_8u312-b07-0ubuntu1~18.04_amd64.deb ...\n",
            "Unpacking openjdk-8-jre-headless:amd64 (8u312-b07-0ubuntu1~18.04) ...\n",
            "Selecting previously unselected package openjdk-8-jdk-headless:amd64.\n",
            "Preparing to unpack .../openjdk-8-jdk-headless_8u312-b07-0ubuntu1~18.04_amd64.deb ...\n",
            "Unpacking openjdk-8-jdk-headless:amd64 (8u312-b07-0ubuntu1~18.04) ...\n",
            "Setting up openjdk-8-jre-headless:amd64 (8u312-b07-0ubuntu1~18.04) ...\n",
            "update-alternatives: using /usr/lib/jvm/java-8-openjdk-amd64/jre/bin/orbd to provide /usr/bin/orbd (orbd) in auto mode\n",
            "update-alternatives: using /usr/lib/jvm/java-8-openjdk-amd64/jre/bin/servertool to provide /usr/bin/servertool (servertool) in auto mode\n",
            "update-alternatives: using /usr/lib/jvm/java-8-openjdk-amd64/jre/bin/tnameserv to provide /usr/bin/tnameserv (tnameserv) in auto mode\n",
            "Setting up openjdk-8-jdk-headless:amd64 (8u312-b07-0ubuntu1~18.04) ...\n",
            "update-alternatives: using /usr/lib/jvm/java-8-openjdk-amd64/bin/idlj to provide /usr/bin/idlj (idlj) in auto mode\n",
            "update-alternatives: using /usr/lib/jvm/java-8-openjdk-amd64/bin/wsimport to provide /usr/bin/wsimport (wsimport) in auto mode\n",
            "update-alternatives: using /usr/lib/jvm/java-8-openjdk-amd64/bin/jsadebugd to provide /usr/bin/jsadebugd (jsadebugd) in auto mode\n",
            "update-alternatives: using /usr/lib/jvm/java-8-openjdk-amd64/bin/native2ascii to provide /usr/bin/native2ascii (native2ascii) in auto mode\n",
            "update-alternatives: using /usr/lib/jvm/java-8-openjdk-amd64/bin/javah to provide /usr/bin/javah (javah) in auto mode\n",
            "update-alternatives: using /usr/lib/jvm/java-8-openjdk-amd64/bin/hsdb to provide /usr/bin/hsdb (hsdb) in auto mode\n",
            "update-alternatives: using /usr/lib/jvm/java-8-openjdk-amd64/bin/clhsdb to provide /usr/bin/clhsdb (clhsdb) in auto mode\n",
            "update-alternatives: using /usr/lib/jvm/java-8-openjdk-amd64/bin/xjc to provide /usr/bin/xjc (xjc) in auto mode\n",
            "update-alternatives: using /usr/lib/jvm/java-8-openjdk-amd64/bin/schemagen to provide /usr/bin/schemagen (schemagen) in auto mode\n",
            "update-alternatives: using /usr/lib/jvm/java-8-openjdk-amd64/bin/extcheck to provide /usr/bin/extcheck (extcheck) in auto mode\n",
            "update-alternatives: using /usr/lib/jvm/java-8-openjdk-amd64/bin/jhat to provide /usr/bin/jhat (jhat) in auto mode\n",
            "update-alternatives: using /usr/lib/jvm/java-8-openjdk-amd64/bin/wsgen to provide /usr/bin/wsgen (wsgen) in auto mode\n",
            "--2022-01-04 09:21:40--  https://repos.spark-packages.org/graphframes/graphframes/0.8.2-spark3.2-s_2.12/graphframes-0.8.2-spark3.2-s_2.12.jar\n",
            "Resolving repos.spark-packages.org (repos.spark-packages.org)... 52.85.146.3, 52.85.146.59, 52.85.146.93, ...\n",
            "Connecting to repos.spark-packages.org (repos.spark-packages.org)|52.85.146.3|:443... connected.\n",
            "HTTP request sent, awaiting response... 304 Not Modified\n",
            "File ‘/usr/local/lib/python3.7/dist-packages/pyspark/jars/graphframes-0.8.2-spark3.2-s_2.12.jar’ not modified on server. Omitting download.\n",
            "\n"
          ]
        }
      ]
    },
    {
      "cell_type": "code",
      "source": [
        "import pyspark\n",
        "from pyspark.sql import *\n",
        "from pyspark.sql.functions import *\n",
        "from pyspark import SparkContext, SparkConf\n",
        "from pyspark.sql import SQLContext\n",
        "from pyspark.ml.feature import Tokenizer, RegexTokenizer\n",
        "from graphframes import *"
      ],
      "metadata": {
        "id": "HNAOxn05ZI6V"
      },
      "execution_count": 8,
      "outputs": []
    },
    {
      "cell_type": "code",
      "source": [
        "# Initializing spark context\n",
        "# create a spark context and session\n",
        "conf = SparkConf().set(\"spark.ui.port\", \"4050\")\n",
        "sc = pyspark.SparkContext(conf=conf)\n",
        "sc.addPyFile(str(Path(spark_jars) / Path(graphframes_jar).name))\n",
        "spark = SparkSession.builder.getOrCreate()"
      ],
      "metadata": {
        "id": "7SAu2RmxZK4f"
      },
      "execution_count": 9,
      "outputs": []
    },
    {
      "cell_type": "code",
      "source": [
        "spark"
      ],
      "metadata": {
        "id": "yclduZ7HZNZZ",
        "outputId": "f5dd262a-8c9b-4dd6-89f2-5d51f3a567b5",
        "colab": {
          "base_uri": "https://localhost:8080/",
          "height": 219
        }
      },
      "execution_count": 10,
      "outputs": [
        {
          "output_type": "execute_result",
          "data": {
            "text/html": [
              "\n",
              "            <div>\n",
              "                <p><b>SparkSession - in-memory</b></p>\n",
              "                \n",
              "        <div>\n",
              "            <p><b>SparkContext</b></p>\n",
              "\n",
              "            <p><a href=\"http://83ad5a77984e:4050\">Spark UI</a></p>\n",
              "\n",
              "            <dl>\n",
              "              <dt>Version</dt>\n",
              "                <dd><code>v3.2.0</code></dd>\n",
              "              <dt>Master</dt>\n",
              "                <dd><code>local[*]</code></dd>\n",
              "              <dt>AppName</dt>\n",
              "                <dd><code>pyspark-shell</code></dd>\n",
              "            </dl>\n",
              "        </div>\n",
              "        \n",
              "            </div>\n",
              "        "
            ],
            "text/plain": [
              "<pyspark.sql.session.SparkSession at 0x7ff119dfd150>"
            ]
          },
          "metadata": {},
          "execution_count": 10
        }
      ]
    },
    {
      "cell_type": "code",
      "source": [
        "# Authenticate your user\n",
        "# The authentication should be done with the email connected to your GCP account\n",
        "from google.colab import auth\n",
        "auth.authenticate_user()"
      ],
      "metadata": {
        "id": "1UO-OJPaZTDO"
      },
      "execution_count": 11,
      "outputs": []
    },
    {
      "cell_type": "code",
      "source": [
        "# Copy one wikidumps files \n",
        "import os\n",
        "from pathlib import Path\n",
        "from google.colab import auth\n",
        "\n",
        "project_id = 'core-period-321814'\n",
        "!gcloud config set project {project_id}\n",
        "\n",
        "data_bucket_name = 'wikidata_preprocessed'\n",
        "try:\n",
        "    if os.environ[\"wikidata_preprocessed\"] is not None:\n",
        "        pass  \n",
        "except:\n",
        "      !mkdir wikidumps\n",
        "      !gsutil cp gs://{data_bucket_name}/multistream1_preprocessed.parquet \"wikidumps/\" "
      ],
      "metadata": {
        "id": "CcQ4O_kaZZAw",
        "outputId": "c03efb6f-c029-4daf-b7f7-0565117ae2c0",
        "colab": {
          "base_uri": "https://localhost:8080/"
        }
      },
      "execution_count": 12,
      "outputs": [
        {
          "output_type": "stream",
          "name": "stdout",
          "text": [
            "Updated property [core/project].\n",
            "\u001b[1;33mWARNING:\u001b[0m You do not appear to have access to project [core-period-321814] or it does not exist.\n",
            "\n",
            "\n",
            "To take a quick anonymous survey, run:\n",
            "  $ gcloud survey\n",
            "\n",
            "Copying gs://wikidata_preprocessed/multistream1_preprocessed.parquet...\n",
            "- [1 files][316.7 MiB/316.7 MiB]                                                \n",
            "Operation completed over 1 objects/316.7 MiB.                                    \n"
          ]
        }
      ]
    },
    {
      "cell_type": "code",
      "source": [
        "from pathlib import Path \n",
        "import os\n",
        "\n",
        "try:\n",
        "    if os.environ[\"wikidata_preprocessed\"] is not None:\n",
        "      path = os.environ[\"wikidata_preprocessed\"]+\"/wikidumps/*\"\n",
        "except:\n",
        "      path = \"wikidumps/*\"\n",
        "\n",
        "parquetFile = spark.read.parquet(path)\n",
        "parquetFile.show()"
      ],
      "metadata": {
        "id": "X9vrgrMbZgv7",
        "outputId": "af144af1-d0f7-4482-fdef-b1c224a09c69",
        "colab": {
          "base_uri": "https://localhost:8080/"
        }
      },
      "execution_count": 13,
      "outputs": [
        {
          "output_type": "stream",
          "name": "stdout",
          "text": [
            "+---+--------------------+--------------------+--------------------+\n",
            "| id|               title|                text|         anchor_text|\n",
            "+---+--------------------+--------------------+--------------------+\n",
            "| 12|           Anarchism|'''Anarchism''' i...|[{23040, politica...|\n",
            "| 25|              Autism|'''Autism''' is a...|[{492271, Clinica...|\n",
            "| 39|              Albedo|thumb|upright=1.3...|[{679294, diffuse...|\n",
            "|290|                   A|'''A''', or '''a'...|[{290, See below}...|\n",
            "|303|             Alabama|'''Alabama''' () ...|[{351590, Yellowh...|\n",
            "|305|            Achilles|thumb|260px|Ancie...|[{1076007, potter...|\n",
            "|307|     Abraham Lincoln|'''Abraham Lincol...|[{1827174, Alexan...|\n",
            "|308|           Aristotle|'''Aristotle''' (...|[{1389981, bust},...|\n",
            "|309|An American in Paris|'''''An American ...|[{13066, George G...|\n",
            "|316|Academy Award for...|The '''Academy Aw...|[{39842, Academy ...|\n",
            "|324|      Academy Awards|The '''Academy Aw...|[{649481, film in...|\n",
            "|330|             Actrius|'''''Actresses'''...|[{5282, Catalan},...|\n",
            "|332|     Animalia (book)|'''''Animalia''''...|[{2511084, Graeme...|\n",
            "|334|International Ato...|'''International ...|[{25453985, atomi...|\n",
            "|336|            Altruism|thumb|Giving alms...|[{657573, alms}, ...|\n",
            "|339|            Ayn Rand|'''Alice O'Connor...|[{24320051, St. P...|\n",
            "|340|        Alain Connes|'''Alain Connes''...|[{1201522, Dragui...|\n",
            "|344|          Allan Dwan|'''Allan Dwan''' ...|[{64646, Toronto}...|\n",
            "|358|             Algeria|'''Algeria''', of...|[{803, Arabic}, {...|\n",
            "|359|List of Atlas Shr...|This is a list of...|[{339, Ayn Rand},...|\n",
            "+---+--------------------+--------------------+--------------------+\n",
            "only showing top 20 rows\n",
            "\n"
          ]
        }
      ]
    },
    {
      "cell_type": "code",
      "source": [
        "# take the 'title' and 'id' or the first 1000 rows and create an RDD from it\n",
        "doc_title_pairs = parquetFile.limit(1000).select(\"title\", \"id\").rdd\n",
        "\n",
        "# take the 'anchor' and 'id' or the first 1000 rows and create an RDD from it\n",
        "doc_anchor_pairs = parquetFile.limit(1000).select(\"anchor_text\", \"id\").rdd"
      ],
      "metadata": {
        "id": "GzXq4FMxZnbI"
      },
      "execution_count": 80,
      "outputs": []
    },
    {
      "cell_type": "code",
      "source": [
        "english_stopwords = frozenset(stopwords.words('english'))\n",
        "corpus_stopwords = ['category', 'references', 'also', 'links', 'extenal', 'see', 'thumb']\n",
        "RE_WORD = re.compile(r\"\"\"[\\#\\@\\w](['\\-]?\\w){2,24}\"\"\", re.UNICODE)\n",
        "\n",
        "all_stopwords = english_stopwords.union(corpus_stopwords)"
      ],
      "metadata": {
        "id": "HIch0c5ZipAY"
      },
      "execution_count": 81,
      "outputs": []
    },
    {
      "cell_type": "code",
      "source": [
        "def word_to_docid(title, id):\n",
        "  ''' \n",
        "  -----------\n",
        "    title: str\n",
        "      Title of one document\n",
        "    id: int\n",
        "      Document id\n",
        "  Returns:\n",
        "  --------\n",
        "    List of tuples\n",
        "      A list of (token, doc_id) pairs \n",
        "      for example: [(\"Anarchism\", 12), ...]\n",
        "  '''\n",
        "  tokens = [token.group() for token in RE_WORD.finditer(title.lower())]\n",
        "\n",
        "  tuple_list = [] # creating the list\n",
        "  for term in np.unique(tokens): # we only need a unique occurence of each term since the search on it will be binary\n",
        "    tuple_list.append((term, id)) # adding to the list\n",
        "\n",
        "  return tuple_list"
      ],
      "metadata": {
        "id": "GZ7s9bIjc0xR"
      },
      "execution_count": 82,
      "outputs": []
    },
    {
      "cell_type": "code",
      "source": [
        "def g(x):\n",
        "  print(x)"
      ],
      "metadata": {
        "id": "9SZgtHCBmt4Y"
      },
      "execution_count": 83,
      "outputs": []
    },
    {
      "cell_type": "code",
      "source": [
        "word_docid = doc_title_pairs.flatMap(lambda x: word_to_docid(x[0], x[1]))\n",
        "print(word_docid.collect())"
      ],
      "metadata": {
        "id": "1hTMlbMRdZAF",
        "outputId": "9fc6324a-2dae-4915-8d4b-87dae8b86154",
        "colab": {
          "base_uri": "https://localhost:8080/"
        }
      },
      "execution_count": 85,
      "outputs": [
        {
          "output_type": "stream",
          "name": "stdout",
          "text": [
            "[('anarchism', 12), ('autism', 25), ('albedo', 39), ('alabama', 303), ('achilles', 305), ('abraham', 307), ('lincoln', 307), ('aristotle', 308), ('american', 309), ('paris', 309), ('academy', 316), ('award', 316), ('best', 316), ('design', 316), ('for', 316), ('production', 316), ('academy', 324), ('awards', 324), ('actrius', 330), ('animalia', 332), ('book', 332), ('atomic', 334), ('international', 334), ('time', 334), ('altruism', 336), ('ayn', 339), ('rand', 339), ('alain', 340), ('connes', 340), ('allan', 344), ('dwan', 344), ('algeria', 358), ('atlas', 359), ('characters', 359), ('list', 359), ('shrugged', 359), ('anthropology', 569), ('agricultural', 572), ('science', 572), ('alchemy', 573), ('alien', 579), ('astronomer', 580), ('ascii', 586), ('austin', 590), ('disambiguation', 590), ('animation', 593), ('apollo', 594), ('agassi', 595), ('andre', 595), ('austroasiatic', 597), ('languages', 597), ('afroasiatic', 599), ('languages', 599), ('andorra', 600), ('arithmetic', 612), ('mean', 612), ('american', 615), ('conference', 615), ('football', 615), ('animal', 620), ('farm', 620), ('amphibian', 621), ('alaska', 624), ('agriculture', 627), ('aldous', 628), ('huxley', 628), ('ada', 630), ('aberdeen', 632), ('disambiguation', 632), ('algae', 633), ('analysis', 634), ('variance', 634), ('alkane', 639), ('appellate', 640), ('procedure', 640), ('states', 640), ('the', 640), ('united', 640), ('answer', 642), ('law', 642), ('appellate', 643), ('court', 643), ('arraignment', 649), ('america', 651), ('beautiful', 651), ('the', 651), ('assistive', 653), ('technology', 653), ('abacus', 655), ('acid', 656), ('asphalt', 657), ('american', 659), ('institute', 659), ('national', 659), ('standards', 659), ('argument', 661), ('disambiguation', 661), ('apollo', 662), ('apollo', 663), ('astronaut', 664), ('modest', 665), ('proposal', 665), ('alkali', 666), ('metal', 666), ('alphabet', 670), ('atomic', 673), ('number', 673), ('anatomy', 674), ('affirming', 675), ('consequent', 675), ('the', 675), ('andrei', 676), ('tarkovsky', 676), ('ambiguity', 677), ('abel', 678), ('animal', 679), ('disambiguation', 679), ('aardvark', 680), ('aardwolf', 681), ('adobe', 682), ('adventure', 683), ('asia', 689), ('aruba', 690), ('articles', 691), ('confederation', 691), ('asia', 694), ('disambiguation', 694), ('minor', 694), ('atlantic', 698), ('ocean', 698), ('arthur', 700), ('schopenhauer', 700), ('angola', 701), ('angola', 704), ('demographics', 704), ('angola', 705), ('politics', 705), ('angola', 706), ('economy', 706), ('angola', 708), ('transport', 708), ('angolan', 709), ('armed', 709), ('forces', 709), ('angola', 710), ('foreign', 710), ('relations', 710), ('albert', 711), ('johnston', 711), ('sidney', 711), ('android', 713), ('robot', 713), ('alberta', 717), ('anthropologists', 728), ('list', 728), ('actinopterygii', 734), ('albert', 736), ('einstein', 736), ('afghanistan', 737), ('albania', 738), ('allah', 740), ('algorithms', 742), ('journal', 742), ('azerbaijan', 746), ('amateur', 748), ('astronomy', 748), ('aikido', 751), ('art', 752), ('agnostida', 764), ('abortion', 765), ('abstract', 766), ('law', 766), ('american', 771), ('revolutionary', 771), ('war', 771), ('ampere', 772), ('algorithm', 775), ('annual', 777), ('plant', 777), ('anthophyta', 779), ('atlas', 780), ('disambiguation', 780), ('mouthwash', 782), ('alexander', 783), ('great', 783), ('the', 783), ('alfred', 784), ('korzybski', 784), ('asteroids', 785), ('game', 785), ('video', 785), ('asparagales', 786), ('alismatales', 787), ('apiales', 788), ('asterales', 789), ('asteroid', 791), ('allocution', 794), ('affidavit', 795), ('aries', 798), ('constellation', 798), ('aquarius', 799), ('constellation', 799), ('anime', 800), ('asterism', 801), ('ankara', 802), ('arabic', 803), ('alfred', 808), ('hitchcock', 808), ('anaconda', 809), ('altaic', 824), ('languages', 824), ('austrian', 825), ('german', 825), ('axiom', 840), ('choice', 840), ('attila', 841), ('aegean', 842), ('sea', 842), ('clockwork', 843), ('novel', 843), ('orange', 843), ('amsterdam', 844), ('museum', 846), ('work', 846), ('audi', 848), ('aircraft', 849), ('alfred', 851), ('nobel', 851), ('alexander', 852), ('bell', 852), ('graham', 852), ('anatolia', 854), ('apple', 856), ('inc', 856), ('aberdeenshire', 857), ('aztlan', 859), ('underground', 859), ('american', 863), ('civil', 863), ('war', 863), ('andy', 864), ('warhol', 864), ('alp', 868), ('arslan', 868), ('american', 869), ('film', 869), ('institute', 869), ('akira', 872), ('kurosawa', 872), ('ancient', 874), ('egypt', 874), ('analog', 875), ('brothers', 875), ('disease', 876), ('motor', 876), ('neuron', 876), ('abjad', 877), ('abugida', 878), ('abba', 880), ('allegiance', 881), ('altenberg', 885), ('messagepad', 887), ('van', 888), ('vogt', 888), ('anna', 890), ('kournikova', 890), ('alfons', 892), ('jakob', 892), ('maria', 892), ('agnosticism', 894), ('argon', 896), ('arsenic', 897), ('antimony', 898), ('actinium', 899), ('americium', 900), ('astatine', 901), ('atom', 902), ('arable', 903), ('land', 903), ('aluminium', 904), ('advanced', 905), ('chemistry', 905), ('anglican', 909), ('communion', 909), ('arne', 910), ('kaijser', 910), ('archipelago', 911), ('author', 914), ('andrey', 915), ('markov', 915), ('angst', 921), ('anxiety', 922), ('milne', 924), ('alumni', 925), ('asociación', 925), ('axiom', 928), ('alpha', 929), ('alvin', 930), ('toffler', 930), ('amazing', 931), ('spider-man', 931), ('the', 931), ('and', 951), ('antigua', 951), ('barbuda', 951), ('azincourt', 953), ('albert', 954), ('speer', 954), ('asteraceae', 956), ('apiaceae', 957), ('axon', 958), ('alphabet', 960), ('aramaic', 960), ('american', 966), ('shot', 966), ('acute', 967), ('disseminated', 967), ('encephalomyelitis', 967), ('ataxia', 969), ('ada', 974), ('lovelace', 974), ('august', 980), ('derleth', 980), ('alps', 981), ('albert', 983), ('camus', 983), ('agatha', 984), ('christie', 984), ('plague', 986), ('the', 986), ('applied', 988), ('ethics', 988), ('absolute', 991), ('value', 991), ('analog', 993), ('signal', 993), ('arecales', 994), ('hercule', 1000), ('poirot', 1000), ('marple', 1002), ('miss', 1002), ('april', 1004), ('august', 1005), ('aaron', 1006), ('april', 1008), ('april', 1009), ('april', 1010), ('april', 1011), ('august', 1012), ('august', 1013), ('alcohol', 1014), ('achill', 1016), ('island', 1016), ('allen', 1017), ('ginsberg', 1017), ('algebraically', 1018), ('closed', 1018), ('field', 1018), ('august', 1019), ('anatoly', 1020), ('karpov', 1020), ('aspect', 1021), ('ratio', 1021), ('auto', 1022), ('racing', 1022), ('anarcho-capitalism', 1023), ('august', 1027), ('aristophanes', 1028), ('albert', 1029), ('schweitzer', 1029), ('austrian', 1030), ('school', 1030), ('abscess', 1032), ('aalborg', 1036), ('municipality', 1036), ('aarhus', 1038), ('cavefish', 1043), ('northern', 1043), ('abatement', 1046), ('amateur', 1049), ('alexis', 1051), ('carrel', 1051), ('all', 1055), ('day', 1055), ('souls', 1055), ('anatole', 1057), ('france', 1057), ('andré', 1058), ('gide', 1058), ('algorithms', 1063), ('calculating', 1063), ('for', 1063), ('variance', 1063), ('almond', 1064), ('and', 1069), ('antigua', 1069), ('barbuda', 1069), ('demographics', 1069), ('and', 1070), ('antigua', 1070), ('barbuda', 1070), ('politics', 1070), ('and', 1072), ('antigua', 1072), ('barbuda', 1072), ('telecommunications', 1072), ('and', 1074), ('antigua', 1074), ('barbuda', 1074), ('defence', 1074), ('force', 1074), ('royal', 1074), ('antisemitism', 1078), ('azerbaijan', 1081), ('economy', 1081), ('azerbaijan', 1082), ('geography', 1082), ('azerbaijan', 1087), ('foreign', 1087), ('relations', 1087), ('armed', 1088), ('azerbaijani', 1088), ('forces', 1088), ('armenia', 1091), ('geography', 1091), ('armenia', 1092), ('demographics', 1092), ('armenia', 1093), ('politics', 1093), ('armenia', 1094), ('economy', 1094), ('armenia', 1096), ('transport', 1096), ('armed', 1097), ('armenia', 1097), ('forces', 1097), ('armenia', 1098), ('foreign', 1098), ('relations', 1098), ('american', 1110), ('demographics', 1110), ('samoa', 1110), ('american', 1111), ('politics', 1111), ('samoa', 1111), ('american', 1112), ('economy', 1112), ('samoa', 1112), ('august', 1129), ('avicenna', 1130), ('ashes', 1132), ('the', 1132), ('analysis', 1134), ('abner', 1135), ('doubleday', 1135), (\"america's\", 1136), ('game', 1136), ('national', 1136), ('amplitude', 1140), ('modulation', 1140), ('augustin-jean', 1141), ('fresnel', 1141), ('abbot', 1143), ('ardipithecus', 1144), ('assembly', 1146), ('line', 1146), ('adelaide', 1148), ('alan', 1152), ('garner', 1152), ('august', 1154), ('atlantic', 1155), ('disambiguation', 1155), ('algebraic', 1158), ('number', 1158), ('automorphism', 1160), ('accordion', 1162), ('artificial', 1164), ('intelligence', 1164), ('afro', 1166), ('celt', 1166), ('sound', 1166), ('system', 1166), ('ancient', 1167), ('philosophy', 1167), ('anaximander', 1168), ('apl', 1169), ('architect', 1170), ('abbreviation', 1171), ('aphrodite', 1174), ('april', 1175), ('antisymmetric', 1176), ('relation', 1176), ('aleister', 1177), ('crowley', 1177), ('afterlife', 1178), ('astrometry', 1181), ('athena', 1182), ('amber', 1183), ('diceless', 1183), ('game', 1183), ('roleplaying', 1183), ('athene', 1184), ('disambiguation', 1184), ('alloy', 1187), ('artistic', 1192), ('revolution', 1192), ('agrarianism', 1193), ('atomic', 1194), ('angle', 1196), ('asa', 1197), ('acoustics', 1198), ('atomic', 1200), ('physics', 1200), ('american', 1201), ('language', 1201), ('sign', 1201), ('applet', 1202), ('alternate', 1203), ('history', 1203), ('atomic', 1206), ('orbital', 1206), ('acid', 1207), ('amino', 1207), ('alan', 1208), ('turing', 1208), ('area', 1209), ('astronomical', 1210), ('unit', 1210), ('artist', 1212), ('actaeon', 1213), ('anglicanism', 1214), ('athens', 1216), ('anguilla', 1217), ('anguilla', 1223), ('telecommunications', 1223), ('and', 1227), ('ashmore', 1227), ('cartier', 1227), ('islands', 1227), ('acoustic', 1234), ('theory', 1234), ('alexander', 1235), ('mackenzie', 1235), ('politician', 1235), ('ashoka', 1239), ('american', 1241), ('word', 1241), ('ada', 1242), ('language', 1242), ('programming', 1242), ('alfonso', 1247), ('cuarón', 1247), ('arianism', 1252), ('august', 1254), ('antoninus', 1256), ('pius', 1256), ('august', 1259), ('advanced', 1260), ('encryption', 1260), ('standard', 1260), ('april', 1261), ('anisotropy', 1264), ('alpha', 1267), ('decay', 1267), ('extreme', 1270), ('poverty', 1270), ('analytical', 1271), ('engine', 1271), ('augustus', 1273), ('antarctica', 1274), ('geography', 1274), ('antarctica', 1279), ('transport', 1279), ('alabama', 1285), ('geography', 1285), ('alabama', 1286), ('governors', 1286), ('list', 1286), ('apocrypha', 1288), ('antarctic', 1291), ('system', 1291), ('treaty', 1291), ('alfred', 1293), ('lawson', 1293), ('ames', 1298), ('iowa', 1298), ('abalone', 1300), ('abbess', 1301), ('abdominal', 1303), ('surgery', 1303), ('abduction', 1304), ('abensberg', 1305), ('arminianism', 1306), ('alan', 1307), ('parsons', 1307), ('project', 1307), ('the', 1307), ('all', 1309), ('almost', 1309), ('aromatic', 1313), ('compound', 1313), ('abbey', 1315), ('annales', 1316), ('school', 1316), ('antimatter', 1317), ('batlló', 1322), ('casa', 1322), ('güell', 1324), ('park', 1324), ('casa', 1325), ('milà', 1325), ('antiparticle', 1327), ('arabian', 1331), ('prince', 1331), ('august', 1332), ('august', 1333), ('april', 1334), ('associative', 1335), ('property', 1335), ('apache', 1336), ('foundation', 1336), ('software', 1336), ('the', 1336), ('1990', 1338), ('act', 1338), ('americans', 1338), ('disabilities', 1338), ('with', 1338), ('apple', 1344), ('apatosaurus', 1346), ('allosaurus', 1347), ('ak-47', 1348), ('atanasoff', 1349), ('berry', 1349), ('computer', 1349), ('andes', 1354), ('ancylopoda', 1356), ('anchor', 1358), ('anbar', 1359), ('town', 1359), ('anazarbus', 1360), ('anagram', 1361), ('anadyr', 1362), ('river', 1362), ('ampère', 1363), ('andré-marie', 1363), ('ammonia', 1365), ('amethyst', 1366), ('albertosaurus', 1367), ('assembly', 1368), ('language', 1368), ('ambrosia', 1369), ('ambrose', 1370), ('ambracia', 1371), ('amber', 1372), ('amalaric', 1373), ('alphorn', 1374), ('army', 1376), ('alligatoridae', 1380), ('alder', 1383), ('alcott', 1384), ('amos', 1384), ('bronson', 1384), ('arachnophobia', 1386), ('alabaster', 1387), ('ahab', 1389), ('asic', 1391), ('disambiguation', 1391), ('dasyproctidae', 1392), ('algol', 1394), ('amazing', 1395), ('grace', 1395), ('aol', 1397), ('anno', 1400), ('domini', 1400), ('alcuin', 1408), ('angilbert', 1409), ('amine', 1412), ('april', 1416), ('august', 1417), ('absolute', 1418), ('zero', 1418), ('adiabatic', 1419), ('process', 1419), ('amide', 1422), ('animism', 1423), ('antonio', 1425), ('vivaldi', 1425), ('adrian', 1428), ('aare', 1433), ('abbotsford', 1435), ('borders', 1435), ('scottish', 1435), ('abraham', 1436), ('abraxas', 1437), ('absalom', 1438), ('abydos', 1439), ('abydos', 1440), ('egypt', 1440), ('abydos', 1441), ('hellespont', 1441), ('august', 1442), ('acacia', 1445), ('lato', 1445), ('sensu', 1445), ('acapulco', 1446), ('august', 1448), ('alan', 1449), ('kay', 1449), ('apl', 1451), ('language', 1451), ('programming', 1451), ('algol', 1453), ('awk', 1456), ('asgard', 1460), ('apollo', 1461), ('program', 1461), ('assault', 1466), ('álfheimr', 1478), ('and', 1482), ('ask', 1482), ('embla', 1482), ('alabama', 1484), ('river', 1484), ('alain', 1485), ('lille', 1485), ('alemanni', 1486), ('american', 1488), ('nyse', 1488), ('august', 1490), ('august', 1491), ('alfred', 1494), ('russel', 1494), ('wallace', 1494), ('australian', 1495), ('labor', 1495), ('party', 1495), ('august', 1496), ('august', 1497), ('august', 1499), ('adventures', 1500), (\"alice's\", 1500), ('dodo', 1500), ('wonderland', 1500), ('disambiguation', 1501), ('lory', 1501), ('albert', 1504), ('albert', 1505), ('albert', 1506), ('albert', 1507), ('iii', 1507), ('albert', 1508), ('alcibiades', 1508), ('brandenburg-kulmbach', 1508), ('margrave', 1508), ('albert', 1509), ('bear', 1509), ('the', 1509), ('albert', 1513), ('brandenburg', 1513), ('albert', 1514), ('duke', 1514), ('prussia', 1514), ('august', 1519), ('aachen', 1520), ('agate', 1523), ('aspirin', 1525), ('abner', 1526), ('ahmed', 1527), ('ahmed', 1528), ('ahmed', 1529), ('iii', 1529), ('ainu', 1530), ('people', 1530), ('acropolis', 1536), ('acupuncture', 1537), ('adder', 1538), ('aeneas', 1540), ('april', 1541), ('amaranth', 1542), ('africanus', 1543), ('agapanthus', 1543), ('agamemnon', 1544), ('aga', 1545), ('khan', 1545), ('aga', 1546), ('iii', 1546), ('khan', 1546), ('agasias', 1547), ('agassiz', 1548), ('alexander', 1548), ('agathon', 1549), ('agesilaus', 1550), ('agis', 1551), ('agliardi', 1552), ('antonio', 1552), ('agnes', 1553), ('merania', 1553), ('agrippina', 1556), ('elder', 1556), ('the', 1556), ('agrippina', 1557), ('the', 1557), ('younger', 1557), ('american', 1558), ('chinese', 1558), ('cuisine', 1558), ('ahenobarbus', 1559), ('ahmad', 1560), ('durrani', 1560), ('shah', 1560), ('aikin', 1563), ('arthur', 1563), ('ailanthus', 1564), ('aimoin', 1565), ('akkadian', 1566), ('empire', 1566), ('ajax', 1567), ('lesser', 1567), ('the', 1567), ('ajax', 1568), ('great', 1568), ('the', 1568), ('ajax', 1569), ('alaric', 1570), ('alaric', 1571), ('albertus', 1573), ('magnus', 1573), ('alboin', 1575), ('afonso', 1576), ('albuquerque', 1576), ('alcaeus', 1577), ('mytilene', 1577), ('alcamenes', 1578), ('alcmene', 1579), ('alcidamas', 1580), ('aldine', 1581), ('press', 1581), ('archbishop', 1583), ('ealdred', 1583), ('york', 1583), ('alexander', 1585), ('epirus', 1585), ('alexander', 1586), ('balas', 1586), ('alexander', 1587), ('pherae', 1587), ('alexander', 1588), ('epirus', 1588), ('alexander', 1589), ('jagiellon', 1589), ('alexander', 1592), ('iii', 1592), ('russia', 1592), ('alexander', 1593), ('scotland', 1593), ('alexander', 1594), ('scotland', 1594), ('alexander', 1595), ('serbia', 1595), ('alexander', 1596), ('iii', 1596), ('scotland', 1596), ('alexander', 1597), ('disambiguation', 1597), ('greece', 1597), ('alexander', 1599), ('aphrodisias', 1599), ('alexander', 1600), ('severus', 1600), ('alexander', 1601), ('alexander', 1602), ('alexander', 1603), ('alexander', 1604), ('iii', 1604), ('aetolus', 1605), ('alexander', 1605), ('alexander', 1606), ('jannaeus', 1606), ('alexander', 1607), ('alexander', 1608), ('alexandrists', 1612), ('alexios', 1613), ('komnenos', 1613), ('alexis', 1614), ('poet', 1614), ('alexios', 1615), ('komnenos', 1615), ('alexios', 1616), ('angelos', 1616), ('iii', 1616), ('alexios', 1617), ('doukas', 1617), ('alexei', 1620), ('petrovich', 1620), ('russia', 1620), ('tsarevich', 1620), ('andrew', 1623), ('jackson', 1623), ('andrew', 1624), ('johnson', 1624), ('aleksandr', 1625), ('solzhenitsyn', 1625), ('aberdeen', 1627), ('august', 1628), ('august', 1629), ('antipope', 1633), ('aquaculture', 1634), ('complexity', 1635), ('kolmogorov', 1635), ('hymn', 1637), ('proserpine', 1637), ('the', 1638), ('time', 1638), ('triumph', 1638), ('april', 1639), ('alfred', 1640), ('great', 1640), ('the', 1640), ('alessandro', 1642), ('algardi', 1642), ('alger', 1643), ('liège', 1643), ('algiers', 1644), ('al-haytham', 1645), ('ibn', 1645), ('alessandro', 1647), ('allori', 1647), ('almoravid', 1649), ('dynasty', 1649), ('aloe', 1650), ('alyattes', 1652), ('lydia', 1652), ('age', 1653), ('consent', 1653), ('alypius', 1654), ('antioch', 1654), ('amalasuintha', 1655), ('amalric', 1656), ('bena', 1656), ('afonso', 1657), ('portugal', 1657), ('afonso', 1658), ('portugal', 1658), ('afonso', 1659), ('iii', 1659), ('portugal', 1659), ('afonso', 1660), ('portugal', 1660), ('afonso', 1661), ('portugal', 1661), ('afonso', 1662), ('portugal', 1662), ('alphonso', 1663), ('spain', 1663), ('alfonso', 1664), ('asturias', 1664), ('amarasimha', 1669), ('alfonso', 1676), ('xii', 1676), ('alfonso', 1677), ('xiii', 1677), ('alfonso', 1679), ('battler', 1679), ('the', 1679), ('amaryllis', 1680), ('alfonso', 1683), ('aragon', 1683), ('iii', 1683), ('alfonso', 1684), ('aragon', 1684), ('amasis', 1685), ('alfonso', 1686), ('aragon', 1686), ('amathus', 1687), ('alphons', 1688), ('alfonso', 1689), ('amati', 1690), ('alfonso', 1691), ('alfonso', 1692), ('iii', 1692), ('alfonso', 1694), ('amazons', 1695), ('alfonso', 1696), ('ambergris', 1697), ('ambiorix', 1698), ('ambros', 1700), ('august', 1700), ('wilhelm', 1700), ('amazon', 1701), ('river', 1701), ('alfred', 1702), ('beverley', 1702), ('april', 1710), ('august', 1711), ('ambrose', 1714), ('autpert', 1714), ('abu', 1715), ('bakr', 1715), ('ambrose', 1716), ('traversari', 1716), ('ambrosians', 1717), ('ambrosiaster', 1718), ('ambrosius', 1719), ('aurelianus', 1719), ('ammon', 1722), ('ammonius', 1723), ('hermiae', 1723), ('ammonius', 1724), ('saccas', 1724), ('amos', 1726), ('book', 1726), ('amphipolis', 1727), ('amram', 1728), ('amyntas', 1729), ('macedon', 1729), ('amyntas', 1730), ('iii', 1730), ('macedon', 1730), ('anacharsis', 1732), ('anah', 1734), ('ānanda', 1735), ('anaxagoras', 1737), ('anaxarchus', 1738), ('ancyra', 1740), ('planthopper', 1740), ('anastasius', 1742), ('anastasius', 1743), ('anaximenes', 1746), ('lampsacus', 1746), ('anastasius', 1747), ('anaximenes', 1748), ('miletus', 1748), ('ancus', 1749), ('marcius', 1749), ('andaman', 1750), ('islands', 1750), ('alexander', 1751), ('anderson', 1751), ('mathematician', 1751), ('andocides', 1752), ('andrea', 1754), ('andreani', 1754), ('andrew', 1755), ('hungary', 1755), ('concerning', 1756), ('enquiry', 1756), ('human', 1756), ('understanding', 1756), ('andré', 1758), ('longjumeau', 1758), ('andriscus', 1759), ('andronikos', 1760), ('iii', 1760), ('palaiologos', 1760), ('andronikos', 1761), ('palaiologos', 1761), ('andronikos', 1762), ('komnenos', 1762), ('andronicus', 1763), ('cyrrhus', 1763), ('andronicus', 1764), ('rhodes', 1764), ('andronicus', 1765), ('ammianus', 1767), ('marcellinus', 1767), ('apollo', 1770), ('apollo', 1773), ('apollo', 1774), ('arthritis', 1776), ('april', 1777), ('acetylene', 1778), ('alfred', 1779), ('august', 1781), ('arabic', 1786), ('numerals', 1786), ('april', 1787), ('abm', 1788), ('apuleius', 1789), ('alexander', 1790), ('selkirk', 1790), ('anti-ballistic', 1791), ('missile', 1791), ('august', 1793), ('august', 1794), ('acre', 1797), ('atp', 1799), ('adenosine', 1800), ('triphosphate', 1800), ('ægir', 1802), ('antibiotic', 1805), ('arnold', 1806), ('schwarzenegger', 1806), ('asa', 1807), ('actium', 1810), ('amway', 1812), ('adam', 1814), ('smith', 1814), ('antoine', 1822), ('lavoisier', 1822), ('hermann', 1825), ('kolbe', 1825), ('april', 1826), ('april', 1827), ('amitabh', 1828), ('bachchan', 1828), ('allomorph', 1832), ('allophone', 1834), ('affix', 1835), ('allegory', 1837), ('allotropy', 1839), ('agathocles', 1840), ('syracuse', 1840), ('alberta', 1841), ('economy', 1841), ('augustin-louis', 1842), ('cauchy', 1842), ('archimedes', 1844), ('alternative', 1845), ('medicine', 1845), ('archimedean', 1847), ('solid', 1847), ('antiprism', 1851), ('africa', 1853), ('history', 1853), ('natural', 1853), ('africa', 1854), ('geography', 1854), ('approval', 1857), ('voting', 1857), ('arizona', 1859), ('state', 1859), ('university', 1859), ('april', 1862), ('astoria', 1864), ('oregon', 1864), ('alarums', 1866), ('and', 1866), ('excursions', 1866), ('alfred', 1869), ('jarry', 1869), ('amalric', 1870), ('amalric', 1871), ('jerusalem', 1871), ('aimery', 1872), ('cyprus', 1872), ('anthemius', 1873), ('tralles', 1873), ('absalon', 1874), ('adhemar', 1875), ('puy', 1875), ('alphonse', 1878), ('count', 1878), ('poitiers', 1878), ('alfonso', 1879), ('jordan', 1879), ('ambroise', 1880), ('art', 1881), ('deco', 1881), ('art', 1884), ('ascii', 1884), ('alexius', 1887), ('american', 1890), ('english', 1890), ('albert', 1893), ('spalding', 1893), ('africa', 1894), ('alphabet', 1894), ('acquire', 1896), ('australian', 1897), ('english', 1897), ('airlines', 1902), ('american', 1902), ('flight', 1902), ('ambush', 1905), ('abzyme', 1908), ('adaptive', 1909), ('radiation', 1909), ('agarose', 1910), ('electrophoresis', 1910), ('gel', 1910), ('allele', 1911), ('ampicillin', 1912), ('annealing', 1913), ('antimicrobial', 1914), ('resistance', 1914), ('antigen', 1915), ('autosome', 1916), ('antwerp', 1919), ('disambiguation', 1919), ('aquila', 1920), ('al-qaeda', 1921), ('alessandro', 1923), ('volta', 1923), ('argo', 1924), ('navis', 1924), ('andromeda', 1925), ('mythology', 1925), ('antlia', 1926), ('ara', 1927), ('constellation', 1927), ('auriga', 1928), ('arkansas', 1930), ('atmosphere', 1931), ('disambiguation', 1931), ('apus', 1933), ('abadan', 1934), ('iran', 1934), ('attorney', 1935), ('alexander', 1937), ('fleming', 1937), ('andrew', 1938), ('carnegie', 1938), ('approximant', 1939), ('astronomer', 1940), ('royal', 1940), ('aeon', 1941), ('airline', 1942), ('australian', 1943), ('democrats', 1943), ('australian', 1944), ('capital', 1944), ('territory', 1944), ('alcohol', 1946), ('unit', 1946), ('aotus', 1947), ('ally', 1948), ('mcbeal', 1948), ('andreas', 1949), ('capellanus', 1949), ('american', 1950), ('civil', 1950), ('liberties', 1950), ('union', 1950), ('adobe', 1955), ('inc', 1955), ('alexander', 1957), ('technique', 1957), ('alciato', 1960), ('andrea', 1960), ('apparent', 1962), ('magnitude', 1962), ('absolute', 1963), ('magnitude', 1963), ('apollo', 1965), ('apollo', 1966), ('apollo', 1967), ('apollo', 1968), ('apollo', 1969), ('apollo', 1970), ('apollo', 1971), ('american', 1973), ('revolution', 1973), ('april', 1974), ('alan', 1975), ('ayckbourn', 1975), ('alpha', 1979), ('centauri', 1979), ('amiga', 1980), ('absorption', 1985), ('actinophryid', 1986), ('abel', 1988), ('tasman', 1988), ('august', 1990), ('angula', 1991), ('asp', 1994), ('algebraic', 1997), ('geometry', 1997), ('austin', 1998), ('texas', 1998), ('argument', 2003), ('from', 2003), ('morality', 2003), ('asl', 2004), ('disambiguation', 2004), ('auschwitz', 2006), ('camp', 2006), ('concentration', 2006), ('archery', 2007), ('aalto', 2009), ('alvar', 2009), ('american', 2011), ('and', 2011), ('british', 2011), ('comparison', 2011), ('english', 2011), ('atomic', 2014), ('semantics', 2014), ('antarctic', 2015), ('circumpolar', 2015), ('current', 2015), ('arbor', 2017), ('day', 2017), ('ayer', 2018), ('andré', 2019), ('weil', 2019), ('achaeans', 2020), ('homer', 2020), ('atle', 2021), ('selberg', 2021), ('aeschylus', 2023), ('amber', 2024), ('road', 2024), ('crandall', 2025), ('university', 2025), ('andrew', 2027), ('wiles', 2027), ('ambient', 2028), ('anne', 2029), ('brontë', 2029), ('augustine', 2030), ('hippo', 2030), ('acting', 2032), ('delian', 2037), ('league', 2037), ('august', 2038), ('horch', 2038), ('avionics', 2039), ('ares', 2041), ('alexander', 2042), ('grothendieck', 2042), ('alcoholics', 2047), ('anonymous', 2047), ('alpha', 2049), ('compositing', 2049), ('array', 2052), ('data', 2052), ('structure', 2052), ('advance', 2053), ('australia', 2053), ('fair', 2053), ('announcement', 2061), ('automatic', 2061), ('circuit', 2061), ('number', 2061), ('amerigo', 2062), ('vespucci', 2062), ('aristide', 2063), ('maillol', 2063), ('antonio', 2064), ('canova', 2064), ('auguste', 2065), ('rodin', 2065), ('ann', 2067), ('arbor', 2067), ('michigan', 2067), ('1701', 2070), ('act', 2070), ('settlement', 2070), ('aircraft', 2075), ('hijacking', 2075), ('acropolis', 2076), ('athens', 2076), ('adam', 2077), ('weishaupt', 2077), ('acorn', 2078), ('electron', 2078), ('deep', 2080), ('fire', 2080), ('the', 2080), ('upon', 2080), ('aeronautics', 2082), ('and', 2083), ('auguste', 2083), ('louis', 2083), ('lumière', 2083), ('acts', 2084), ('apostles', 2084), ('the', 2084), ('assyria', 2085), ('abijah', 2086), ('ark', 2087), ('aphasia', 2088), ('aorta', 2089), ('abimelech', 2093), ('andrew', 2099), ('tridgell', 2099), ('applesoft', 2100), ('basic', 2100), ('asterix', 2101), ('arizona', 2102), ('cardinals', 2102), ('atlanta', 2103), ('falcons', 2103), ('heathenry', 2104), ('states', 2104), ('the', 2104), ('united', 2104), ('ansible', 2106), ('adalbert', 2108), ('prague', 2108), ('canterbury', 2110), ('ælfheah', 2110), ('algebra', 2112), ('associative', 2112), ('axiom', 2113), ('regularity', 2113), ('aix', 2114), ('ibm', 2114), ('appletalk', 2115), ('apple', 2116), ('series', 2116), ('apple', 2117), ('iii', 2117), ('avl', 2118), ('tree', 2118), ('aliphatic', 2120), ('compound', 2120), ('astrology', 2122), ('abyssinia', 2123), ('disambiguation', 2123), ('algebraic', 2125), ('extension', 2125), ('ani', 2126), ('difranco', 2126), ('arene', 2127), ('disambiguation', 2127), ('arizona', 2129), ('diamondbacks', 2129), ('aesthetics', 2130), ('ark', 2134), ('covenant', 2134), ('the', 2134), ('angles', 2136), ('aster', 2137), ('ct-80', 2137), ('arthur', 2138), ('wellesley', 2138), ('animated', 2139), ('lists', 2139), ('series', 2139), ('television', 2139), ('atlanta', 2140), ('braves', 2140), ('atari', 2141), ('artificial', 2142), ('intelligence', 2142), ('list', 2142), ('projects', 2142), ('aaliyah', 2144), ('armour', 2147), ('armoured', 2148), ('fighting', 2148), ('vehicle', 2148), ('anton', 2151), ('drexler', 2151), ('all', 2152), ('front', 2152), ('quiet', 2152), ('the', 2152), ('western', 2152), ('african', 2154), ('americans', 2154), ('artistic', 2161), ('license', 2161), ('afrikaans', 2162), ('aeolus', 2163), ('abc', 2166), ('alford', 2167), ('plea', 2167), ('abcd', 2170), ('anti-realism', 2171), ('arsenal', 2174), ('american', 2175), ('cuisine', 2175), ('ahmad', 2176), ('massoud', 2176), ('shah', 2176), ('atlantis', 2178), ('autobiography', 2179), ('arcadius', 2180), ('arabs', 2185), ('armadillo', 2186), ('antisemitism', 2187), ('arab', 2187), ('the', 2187), ('world', 2187), ('august', 2192), ('arcology', 2193), ('april', 2194), ('april', 2195), ('april', 2196), ('amstrad', 2197), ('cpc', 2197), ('abdulaziz', 2198), ('al-omari', 2198), ('aage', 2201), ('bohr', 2201), ('analytic', 2202), ('geometry', 2202), ('alphabet', 2204), ('arabic', 2204), ('angels', 2207), ('art', 2207), ('arctic', 2208), ('fox', 2208), ('anglo-saxon', 2209), ('disambiguation', 2209), ('folklore', 2210), ('states', 2210), ('the', 2210), ('united', 2210), ('alpha', 2215), ('centauri', 2215), (\"meier's\", 2215), ('sid', 2215), ('abu', 2216), ('sayyaf', 2216), ('armenian', 2217), ('language', 2217), ('additive', 2218), ('synthesis', 2218), ('aircraft', 2219), ('carrier', 2219), ('apicomplexa', 2221), ('argentine', 2222), ('cuisine', 2222), ('april', 2224), ('hominem', 2226), ('algorithms', 2230), ('analysis', 2230), ('sussex', 2233), ('ælle', 2233), ('atari', 2234), ('afghan', 2235), ('acadia', 2236), ('university', 2236), ('acoustic', 2237), ('guitar', 2237), ('steel-string', 2237), ('antipope', 2238), ('john', 2238), ('xxiii', 2238), ('antonio', 2241), ('salieri', 2241), ('cobble', 2244), ('hill', 2244), ('tunnel', 2244), ('annapolis', 2245), ('valley', 2245), ('analgesic', 2246), ('abiotic', 2250), ('stress', 2250), ('accusative', 2251), ('case', 2251), ('apostolic', 2257), ('succession', 2257), ('acid', 2268), ('ascorbic', 2268), ('chemistry', 2268), ('afc', 2273), ('ajax', 2273), ('arthur', 2274), ('eddington', 2274), ('apple', 2275), ('april', 2279), ('alexis', 2282), ('korner', 2282), ('assault', 2284), ('gun', 2284), ('destroyer', 2286), ('tank', 2286), ('armored', 2287), ('car', 2287), ('military', 2287), ('anti-aircraft', 2288), ('self-propelled', 2288), ('weapon', 2288), ('alkmaar', 2289), ('adrenal', 2296), ('gland', 2296), ('a360media', 2299), ('aramaic', 2303), ('saint', 2304), ('titus', 2304), ('actinide', 2308), ('arthur', 2310), ('miller', 2310), ('anton', 2313), ('diabelli', 2313), ('anita', 2314), ('hill', 2314), ('august', 2315), ('audio', 2316), ('file', 2316), ('format', 2316), ('antipope', 2319), ('victor', 2319), ('area', 2321), ('audio', 2322), ('processing', 2322), ('signal', 2322), (\"amdahl's\", 2323), ('law', 2323), ('april', 2326), ('ayahuasca', 2328), ('alfonso', 2329), ('leng', 2329), ('abbe', 2330), ('number', 2330), ('acn', 2331), ('disambiguation', 2332), ('ablative', 2333), ('case', 2333), ('adamic', 2335), ('language', 2335), ('and', 2338), ('city', 2338), ('fall', 2338), ('mahagonny', 2338), ('rise', 2338), ('the', 2338), ('avery', 2339), ('hopwood', 2339), ('antipope', 2340), ('felix', 2340), ('alkaloid', 2341), ('adventism', 2343), ('archbishop', 2345), ('canterbury', 2345), ('albion', 2346), ('michigan', 2346), ('anointing', 2348), ('sick', 2348), ('the', 2348), ('abstract', 2349), ('data', 2349), ('type', 2349), ('american', 2357), ('football', 2357), ('league', 2357), ('roma', 2358), ('abu', 2360), ('nidal', 2360), ('organization', 2360), ('antibody', 2362), ('alessandro', 2363), ('scarlatti', 2363), ('aston', 2369), ('martin', 2369), ('albert', 2371), ('pike', 2371), ('alf', 2372), ('tales', 2372), ('abdul', 2376), ('dostum', 2376), ('rashid', 2376), ('andhra', 2377), ('pradesh', 2377), ('accelerated', 2380), ('graphics', 2380), ('port', 2380), ('aagesen', 2381), ('andreas', 2381), ('aalen', 2382), ('alois', 2383), ('alzheimer', 2383), ('aedile', 2384), ('airlines', 2386), ('american', 2386), ('antidepressant', 2388), ('auger', 2389), ('effect', 2389), ('akio', 2391), ('morita', 2391), ('anode', 2392), ('analog', 2393), ('television', 2393), ('april', 2395), ('adhesive', 2396), ('anthony', 2397), ('hopkins', 2397), ('ardal', 2398), (\"o'hanlon\", 2398), ('advanced', 2400), ('devices', 2400), ('micro', 2400), ('albrecht', 2402), ('dürer', 2402), ('australian', 2403), ('football', 2403), ('rules', 2403), ('aon', 2405), ('company', 2405), ('alban', 2406), ('berg', 2406), ('analytical', 2408), ('chemistry', 2408), ('cappella', 2411), ('arrangement', 2414), ('athanasian', 2416), ('creed', 2416), ('alicante', 2417), ('august', 2418), ('achilles', 2421), ('albrecht', 2421), ('ann', 2422), ('widdecombe', 2422), ('aurangzeb', 2425), ('alexandrine', 2427), ('analog', 2428), ('computer', 2428), ('audio', 2429), ('and', 2431), ('arc', 2431), ('minute', 2431), ('second', 2431), ('alberto', 2433), ('giacometti', 2433), ('anthem', 2439), ('albrecht', 2440), ('altdorfer', 2440), ('ascania', 2441), ('house', 2441), ('acceleration', 2443), ('and', 2444), ('conservation', 2444), ('cultural', 2444), ('property', 2444), ('restoration', 2444), ('anton', 2447), ('chekhov', 2447), ('action', 2448), ('against', 2448), ('hunger', 2448), ('apoptosis', 2457)]\n"
          ]
        }
      ]
    },
    {
      "cell_type": "code",
      "source": [
        "def reduce_word_counts(unsorted_pl):\n",
        "  ''' Returns a sorted posting list by wiki_id.\n",
        "  Parameters:\n",
        "  -----------\n",
        "    unsorted_pl: list of tuples\n",
        "      A list of (wiki_id, tf) tuples \n",
        "  Returns:\n",
        "  --------\n",
        "    list of tuples\n",
        "      A sorted posting list.\n",
        "  '''\n",
        "  # YOUR CODE HERE\n",
        "  return sorted(unsorted_pl)"
      ],
      "metadata": {
        "id": "IytQ_mFZlEuS"
      },
      "execution_count": 70,
      "outputs": []
    },
    {
      "cell_type": "code",
      "source": [
        "postings = word_docid.groupByKey().mapValues(reduce_word_counts)\n",
        "print(postings.collect())"
      ],
      "metadata": {
        "id": "JYnnKR1Pb3xW",
        "outputId": "83a99bfa-130c-41e1-ff5a-333b120aa373",
        "colab": {
          "base_uri": "https://localhost:8080/"
        }
      },
      "execution_count": 87,
      "outputs": [
        {
          "output_type": "stream",
          "name": "stdout",
          "text": [
            "[('anarchism', [12]), ('autism', [25]), ('albedo', [39]), ('alabama', [303, 1285, 1286, 1484]), ('achilles', [305, 2421]), ('abraham', [307, 1436]), ('lincoln', [307]), ('aristotle', [308]), ('american', [309, 615, 659, 771, 863, 869, 966, 1110, 1111, 1112, 1201, 1241, 1488, 1558, 1890, 1902, 1950, 1973, 2011, 2175, 2357, 2386]), ('paris', [309]), ('academy', [316, 324]), ('award', [316]), ('best', [316]), ('design', [316]), ('for', [316, 1063]), ('production', [316]), ('awards', [324]), ('actrius', [330]), ('animalia', [332]), ('book', [332, 1726]), ('atomic', [334, 673, 1194, 1200, 1206, 2014]), ('international', [334]), ('time', [334, 1638]), ('altruism', [336]), ('ayn', [339]), ('rand', [339]), ('alain', [340, 1485]), ('connes', [340]), ('allan', [344]), ('dwan', [344]), ('algeria', [358]), ('atlas', [359, 780]), ('characters', [359]), ('list', [359, 728, 1286, 2142]), ('shrugged', [359]), ('anthropology', [569]), ('agricultural', [572]), ('science', [572]), ('alchemy', [573]), ('alien', [579]), ('astronomer', [580, 1940]), ('ascii', [586, 1884]), ('austin', [590, 1998]), ('disambiguation', [590, 632, 661, 679, 694, 780, 1155, 1184, 1391, 1501, 1597, 1919, 1931, 2004, 2123, 2127, 2209, 2332]), ('animation', [593]), ('apollo', [594, 662, 663, 1461, 1770, 1773, 1774, 1965, 1966, 1967, 1968, 1969, 1970, 1971]), ('agassi', [595]), ('andre', [595]), ('austroasiatic', [597]), ('languages', [597, 599, 824]), ('afroasiatic', [599]), ('andorra', [600]), ('arithmetic', [612]), ('mean', [612]), ('conference', [615]), ('football', [615, 2357, 2403]), ('animal', [620, 679]), ('farm', [620]), ('amphibian', [621]), ('alaska', [624]), ('agriculture', [627]), ('aldous', [628]), ('huxley', [628]), ('ada', [630, 974, 1242]), ('aberdeen', [632, 1627]), ('algae', [633]), ('analysis', [634, 1134, 2230]), ('variance', [634, 1063]), ('alkane', [639]), ('appellate', [640, 643]), ('procedure', [640]), ('states', [640, 2104, 2210]), ('the', [640, 651, 675, 783, 931, 986, 1132, 1307, 1336, 1509, 1556, 1557, 1567, 1568, 1638, 1640, 1679, 2080, 2084, 2104, 2134, 2152, 2187, 2210, 2338, 2348]), ('united', [640, 2104, 2210]), ('answer', [642]), ('law', [642, 766, 2323]), ('court', [643]), ('arraignment', [649]), ('america', [651]), ('beautiful', [651]), ('assistive', [653]), ('technology', [653]), ('abacus', [655]), ('acid', [656, 1207, 2268]), ('asphalt', [657]), ('institute', [659, 869]), ('national', [659, 1136]), ('standards', [659]), ('argument', [661, 2003]), ('astronaut', [664]), ('modest', [665]), ('proposal', [665]), ('alkali', [666]), ('metal', [666]), ('alphabet', [670, 960, 1894, 2204]), ('number', [673, 1158, 2061, 2330]), ('anatomy', [674]), ('affirming', [675]), ('consequent', [675]), ('andrei', [676]), ('tarkovsky', [676]), ('ambiguity', [677]), ('abel', [678, 1988]), ('aardvark', [680]), ('aardwolf', [681]), ('adobe', [682, 1955]), ('adventure', [683]), ('asia', [689, 694]), ('aruba', [690]), ('articles', [691]), ('confederation', [691]), ('minor', [694]), ('atlantic', [698, 1155]), ('ocean', [698]), ('arthur', [700, 1563, 2138, 2274, 2310]), ('schopenhauer', [700]), ('angola', [701, 704, 705, 706, 708, 710]), ('demographics', [704, 1069, 1092, 1110]), ('politics', [705, 1070, 1093, 1111]), ('economy', [706, 1081, 1094, 1112, 1841]), ('transport', [708, 1096, 1279]), ('angolan', [709]), ('armed', [709, 1088, 1097]), ('forces', [709, 1088, 1097]), ('foreign', [710, 1087, 1098]), ('relations', [710, 1087, 1098]), ('albert', [711, 736, 954, 983, 1029, 1504, 1505, 1506, 1507, 1508, 1509, 1513, 1514, 1893, 2371]), ('johnston', [711]), ('sidney', [711]), ('android', [713]), ('robot', [713]), ('alberta', [717, 1841]), ('anthropologists', [728]), ('actinopterygii', [734]), ('einstein', [736]), ('afghanistan', [737]), ('albania', [738]), ('allah', [740]), ('algorithms', [742, 1063, 2230]), ('journal', [742]), ('azerbaijan', [746, 1081, 1082, 1087]), ('amateur', [748, 1049]), ('astronomy', [748]), ('aikido', [751]), ('art', [752, 1881, 1884, 2207]), ('agnostida', [764]), ('abortion', [765]), ('abstract', [766, 2349]), ('revolutionary', [771]), ('war', [771, 863]), ('ampere', [772]), ('algorithm', [775]), ('annual', [777]), ('plant', [777]), ('anthophyta', [779]), ('mouthwash', [782]), ('alexander', [783, 852, 1235, 1548, 1585, 1586, 1587, 1588, 1589, 1592, 1593, 1594, 1595, 1596, 1597, 1599, 1600, 1601, 1602, 1603, 1604, 1605, 1606, 1607, 1608, 1751, 1790, 1937, 1957, 2042]), ('great', [783, 1568, 1640]), ('alfred', [784, 808, 851, 1293, 1494, 1640, 1702, 1779, 1869]), ('korzybski', [784]), ('asteroids', [785]), ('game', [785, 1136, 1183]), ('video', [785]), ('asparagales', [786]), ('alismatales', [787]), ('apiales', [788]), ('asterales', [789]), ('asteroid', [791]), ('allocution', [794]), ('affidavit', [795]), ('aries', [798]), ('constellation', [798, 799, 1927]), ('aquarius', [799]), ('anime', [800]), ('asterism', [801]), ('ankara', [802]), ('arabic', [803, 1786, 2204]), ('hitchcock', [808]), ('anaconda', [809]), ('altaic', [824]), ('austrian', [825, 1030]), ('german', [825]), ('axiom', [840, 928, 2113]), ('choice', [840]), ('attila', [841]), ('aegean', [842]), ('sea', [842]), ('clockwork', [843]), ('novel', [843]), ('orange', [843]), ('amsterdam', [844]), ('museum', [846]), ('work', [846]), ('audi', [848]), ('aircraft', [849, 2075, 2219]), ('nobel', [851]), ('bell', [852]), ('graham', [852]), ('anatolia', [854]), ('apple', [856, 1344, 2116, 2117, 2275]), ('inc', [856, 1955]), ('aberdeenshire', [857]), ('aztlan', [859]), ('underground', [859]), ('civil', [863, 1950]), ('andy', [864]), ('warhol', [864]), ('alp', [868]), ('arslan', [868]), ('film', [869]), ('akira', [872]), ('kurosawa', [872]), ('ancient', [874, 1167]), ('egypt', [874, 1440]), ('analog', [875, 993, 2393, 2428]), ('brothers', [875]), ('disease', [876]), ('motor', [876]), ('neuron', [876]), ('abjad', [877]), ('abugida', [878]), ('abba', [880]), ('allegiance', [881]), ('altenberg', [885]), ('messagepad', [887]), ('van', [888]), ('vogt', [888]), ('anna', [890]), ('kournikova', [890]), ('alfons', [892]), ('jakob', [892]), ('maria', [892]), ('agnosticism', [894]), ('argon', [896]), ('arsenic', [897]), ('antimony', [898]), ('actinium', [899]), ('americium', [900]), ('astatine', [901]), ('atom', [902]), ('arable', [903]), ('land', [903]), ('aluminium', [904]), ('advanced', [905, 1260, 2400]), ('chemistry', [905, 2268, 2408]), ('anglican', [909]), ('communion', [909]), ('arne', [910]), ('kaijser', [910]), ('archipelago', [911]), ('author', [914]), ('andrey', [915]), ('markov', [915]), ('angst', [921]), ('anxiety', [922]), ('milne', [924]), ('alumni', [925]), ('asociación', [925]), ('alpha', [929, 1267, 1979, 2049, 2215]), ('alvin', [930]), ('toffler', [930]), ('amazing', [931, 1395]), ('spider-man', [931]), ('and', [951, 1069, 1070, 1072, 1074, 1227, 1482, 1866, 2011, 2083, 2338, 2431, 2444]), ('antigua', [951, 1069, 1070, 1072, 1074]), ('barbuda', [951, 1069, 1070, 1072, 1074]), ('azincourt', [953]), ('speer', [954]), ('asteraceae', [956]), ('apiaceae', [957]), ('axon', [958]), ('aramaic', [960, 2303]), ('shot', [966]), ('acute', [967]), ('disseminated', [967]), ('encephalomyelitis', [967]), ('ataxia', [969]), ('lovelace', [974]), ('august', [980, 1005, 1012, 1013, 1019, 1027, 1129, 1154, 1254, 1259, 1332, 1333, 1417, 1442, 1448, 1490, 1491, 1496, 1497, 1499, 1519, 1628, 1629, 1700, 1711, 1781, 1793, 1794, 1990, 2038, 2192, 2315, 2418]), ('derleth', [980]), ('alps', [981]), ('camus', [983]), ('agatha', [984]), ('christie', [984]), ('plague', [986]), ('applied', [988]), ('ethics', [988]), ('absolute', [991, 1418, 1963]), ('value', [991]), ('signal', [993, 2322]), ('arecales', [994]), ('hercule', [1000]), ('poirot', [1000]), ('marple', [1002]), ('miss', [1002]), ('april', [1004, 1008, 1009, 1010, 1011, 1175, 1261, 1334, 1416, 1541, 1639, 1710, 1777, 1787, 1826, 1827, 1862, 1974, 2194, 2195, 2196, 2224, 2279, 2326, 2395]), ('aaron', [1006]), ('alcohol', [1014, 1946]), ('achill', [1016]), ('island', [1016]), ('allen', [1017]), ('ginsberg', [1017]), ('algebraically', [1018]), ('closed', [1018]), ('field', [1018]), ('anatoly', [1020]), ('karpov', [1020]), ('aspect', [1021]), ('ratio', [1021]), ('auto', [1022]), ('racing', [1022]), ('anarcho-capitalism', [1023]), ('aristophanes', [1028]), ('schweitzer', [1029]), ('school', [1030, 1316]), ('abscess', [1032]), ('aalborg', [1036]), ('municipality', [1036]), ('aarhus', [1038]), ('cavefish', [1043]), ('northern', [1043]), ('abatement', [1046]), ('alexis', [1051, 1614, 2282]), ('carrel', [1051]), ('all', [1055, 1309, 2152]), ('day', [1055, 2017]), ('souls', [1055]), ('anatole', [1057]), ('france', [1057]), ('andré', [1058, 1758, 2019]), ('gide', [1058]), ('calculating', [1063]), ('almond', [1064]), ('telecommunications', [1072, 1223]), ('defence', [1074]), ('force', [1074]), ('royal', [1074, 1940]), ('antisemitism', [1078, 2187]), ('geography', [1082, 1091, 1274, 1285, 1854]), ('azerbaijani', [1088]), ('armenia', [1091, 1092, 1093, 1094, 1096, 1097, 1098]), ('samoa', [1110, 1111, 1112]), ('avicenna', [1130]), ('ashes', [1132]), ('abner', [1135, 1526]), ('doubleday', [1135]), (\"america's\", [1136]), ('amplitude', [1140]), ('modulation', [1140]), ('augustin-jean', [1141]), ('fresnel', [1141]), ('abbot', [1143]), ('ardipithecus', [1144]), ('assembly', [1146, 1368]), ('line', [1146]), ('adelaide', [1148]), ('alan', [1152, 1208, 1307, 1449, 1975]), ('garner', [1152]), ('algebraic', [1158, 1997, 2125]), ('automorphism', [1160]), ('accordion', [1162]), ('artificial', [1164, 2142]), ('intelligence', [1164, 2142]), ('afro', [1166]), ('celt', [1166]), ('sound', [1166]), ('system', [1166, 1291]), ('philosophy', [1167]), ('anaximander', [1168]), ('apl', [1169, 1451]), ('architect', [1170]), ('abbreviation', [1171]), ('aphrodite', [1174]), ('antisymmetric', [1176]), ('relation', [1176]), ('aleister', [1177]), ('crowley', [1177]), ('afterlife', [1178]), ('astrometry', [1181]), ('athena', [1182]), ('amber', [1183, 1372, 2024]), ('diceless', [1183]), ('roleplaying', [1183]), ('athene', [1184]), ('alloy', [1187]), ('artistic', [1192, 2161]), ('revolution', [1192, 1973]), ('agrarianism', [1193]), ('angle', [1196]), ('asa', [1197, 1807]), ('acoustics', [1198]), ('physics', [1200]), ('language', [1201, 1242, 1368, 1451, 2217, 2335]), ('sign', [1201]), ('applet', [1202]), ('alternate', [1203]), ('history', [1203, 1853]), ('orbital', [1206]), ('amino', [1207]), ('turing', [1208]), ('area', [1209, 2321]), ('astronomical', [1210]), ('unit', [1210, 1946]), ('artist', [1212]), ('actaeon', [1213]), ('anglicanism', [1214]), ('athens', [1216, 2076]), ('anguilla', [1217, 1223]), ('ashmore', [1227]), ('cartier', [1227]), ('islands', [1227, 1750]), ('acoustic', [1234, 2237]), ('theory', [1234]), ('mackenzie', [1235]), ('politician', [1235]), ('ashoka', [1239]), ('word', [1241]), ('programming', [1242, 1451]), ('alfonso', [1247, 1664, 1676, 1677, 1679, 1683, 1684, 1686, 1689, 1691, 1692, 1694, 1696, 1879, 2329]), ('cuarón', [1247]), ('arianism', [1252]), ('antoninus', [1256]), ('pius', [1256]), ('encryption', [1260]), ('standard', [1260]), ('anisotropy', [1264]), ('decay', [1267]), ('extreme', [1270]), ('poverty', [1270]), ('analytical', [1271, 2408]), ('engine', [1271]), ('augustus', [1273]), ('antarctica', [1274, 1279]), ('governors', [1286]), ('apocrypha', [1288]), ('antarctic', [1291, 2015]), ('treaty', [1291]), ('lawson', [1293]), ('ames', [1298]), ('iowa', [1298]), ('abalone', [1300]), ('abbess', [1301]), ('abdominal', [1303]), ('surgery', [1303]), ('abduction', [1304]), ('abensberg', [1305]), ('arminianism', [1306]), ('parsons', [1307]), ('project', [1307]), ('almost', [1309]), ('aromatic', [1313]), ('compound', [1313, 2120]), ('abbey', [1315]), ('annales', [1316]), ('antimatter', [1317]), ('batlló', [1322]), ('casa', [1322, 1325]), ('güell', [1324]), ('park', [1324]), ('milà', [1325]), ('antiparticle', [1327]), ('arabian', [1331]), ('prince', [1331]), ('associative', [1335, 2112]), ('property', [1335, 2444]), ('apache', [1336]), ('foundation', [1336]), ('software', [1336]), ('1990', [1338]), ('act', [1338, 2070]), ('americans', [1338, 2154]), ('disabilities', [1338]), ('with', [1338]), ('apatosaurus', [1346]), ('allosaurus', [1347]), ('ak-47', [1348]), ('atanasoff', [1349]), ('berry', [1349]), ('computer', [1349, 2428]), ('andes', [1354]), ('ancylopoda', [1356]), ('anchor', [1358]), ('anbar', [1359]), ('town', [1359]), ('anazarbus', [1360]), ('anagram', [1361]), ('anadyr', [1362]), ('river', [1362, 1484, 1701]), ('ampère', [1363]), ('andré-marie', [1363]), ('ammonia', [1365]), ('amethyst', [1366]), ('albertosaurus', [1367]), ('ambrosia', [1369]), ('ambrose', [1370, 1714, 1716]), ('ambracia', [1371]), ('amalaric', [1373]), ('alphorn', [1374]), ('army', [1376]), ('alligatoridae', [1380]), ('alder', [1383]), ('alcott', [1384]), ('amos', [1384, 1726]), ('bronson', [1384]), ('arachnophobia', [1386]), ('alabaster', [1387]), ('ahab', [1389]), ('asic', [1391]), ('dasyproctidae', [1392]), ('algol', [1394, 1453]), ('grace', [1395]), ('aol', [1397]), ('anno', [1400]), ('domini', [1400]), ('alcuin', [1408]), ('angilbert', [1409]), ('amine', [1412]), ('zero', [1418]), ('adiabatic', [1419]), ('process', [1419]), ('amide', [1422]), ('animism', [1423]), ('antonio', [1425, 1552, 2064, 2241]), ('vivaldi', [1425]), ('adrian', [1428]), ('aare', [1433]), ('abbotsford', [1435]), ('borders', [1435]), ('scottish', [1435]), ('abraxas', [1437]), ('absalom', [1438]), ('abydos', [1439, 1440, 1441]), ('hellespont', [1441]), ('acacia', [1445]), ('lato', [1445]), ('sensu', [1445]), ('acapulco', [1446]), ('kay', [1449]), ('awk', [1456]), ('asgard', [1460]), ('program', [1461]), ('assault', [1466, 2284]), ('álfheimr', [1478]), ('ask', [1482]), ('embla', [1482]), ('lille', [1485]), ('alemanni', [1486]), ('nyse', [1488]), ('russel', [1494]), ('wallace', [1494]), ('australian', [1495, 1897, 1943, 1944, 2403]), ('labor', [1495]), ('party', [1495]), ('adventures', [1500]), (\"alice's\", [1500]), ('dodo', [1500]), ('wonderland', [1500]), ('lory', [1501]), ('iii', [1507, 1529, 1546, 1592, 1596, 1604, 1616, 1659, 1683, 1692, 1730, 1760, 2117]), ('alcibiades', [1508]), ('brandenburg-kulmbach', [1508]), ('margrave', [1508]), ('bear', [1509]), ('brandenburg', [1513]), ('duke', [1514]), ('prussia', [1514]), ('aachen', [1520]), ('agate', [1523]), ('aspirin', [1525]), ('ahmed', [1527, 1528, 1529]), ('ainu', [1530]), ('people', [1530]), ('acropolis', [1536, 2076]), ('acupuncture', [1537]), ('adder', [1538]), ('aeneas', [1540]), ('amaranth', [1542]), ('africanus', [1543]), ('agapanthus', [1543]), ('agamemnon', [1544]), ('aga', [1545, 1546]), ('khan', [1545, 1546]), ('agasias', [1547]), ('agassiz', [1548]), ('agathon', [1549]), ('agesilaus', [1550]), ('agis', [1551]), ('agliardi', [1552]), ('agnes', [1553]), ('merania', [1553]), ('agrippina', [1556, 1557]), ('elder', [1556]), ('younger', [1557]), ('chinese', [1558]), ('cuisine', [1558, 2175, 2222]), ('ahenobarbus', [1559]), ('ahmad', [1560, 2176]), ('durrani', [1560]), ('shah', [1560, 2176]), ('aikin', [1563]), ('ailanthus', [1564]), ('aimoin', [1565]), ('akkadian', [1566]), ('empire', [1566]), ('ajax', [1567, 1568, 1569, 2273]), ('lesser', [1567]), ('alaric', [1570, 1571]), ('albertus', [1573]), ('magnus', [1573]), ('alboin', [1575]), ('afonso', [1576, 1657, 1658, 1659, 1660, 1661, 1662]), ('albuquerque', [1576]), ('alcaeus', [1577]), ('mytilene', [1577]), ('alcamenes', [1578]), ('alcmene', [1579]), ('alcidamas', [1580]), ('aldine', [1581]), ('press', [1581]), ('archbishop', [1583, 2345]), ('ealdred', [1583]), ('york', [1583]), ('epirus', [1585, 1588]), ('balas', [1586]), ('pherae', [1587]), ('jagiellon', [1589]), ('russia', [1592, 1620]), ('scotland', [1593, 1594, 1596]), ('serbia', [1595]), ('greece', [1597]), ('aphrodisias', [1599]), ('severus', [1600]), ('aetolus', [1605]), ('jannaeus', [1606]), ('alexandrists', [1612]), ('alexios', [1613, 1615, 1616, 1617]), ('komnenos', [1613, 1615, 1762]), ('poet', [1614]), ('angelos', [1616]), ('doukas', [1617]), ('alexei', [1620]), ('petrovich', [1620]), ('tsarevich', [1620]), ('andrew', [1623, 1624, 1755, 1938, 2027, 2099]), ('jackson', [1623]), ('johnson', [1624]), ('aleksandr', [1625]), ('solzhenitsyn', [1625]), ('antipope', [1633, 2238, 2319, 2340]), ('aquaculture', [1634]), ('complexity', [1635]), ('kolmogorov', [1635]), ('hymn', [1637]), ('proserpine', [1637]), ('triumph', [1638]), ('alessandro', [1642, 1647, 1923, 2363]), ('algardi', [1642]), ('alger', [1643]), ('liège', [1643]), ('algiers', [1644]), ('al-haytham', [1645]), ('ibn', [1645]), ('allori', [1647]), ('almoravid', [1649]), ('dynasty', [1649]), ('aloe', [1650]), ('alyattes', [1652]), ('lydia', [1652]), ('age', [1653]), ('consent', [1653]), ('alypius', [1654]), ('antioch', [1654]), ('amalasuintha', [1655]), ('amalric', [1656, 1870, 1871]), ('bena', [1656]), ('portugal', [1657, 1658, 1659, 1660, 1661, 1662]), ('alphonso', [1663]), ('spain', [1663]), ('asturias', [1664]), ('amarasimha', [1669]), ('xii', [1676]), ('xiii', [1677]), ('battler', [1679]), ('amaryllis', [1680]), ('aragon', [1683, 1684, 1686]), ('amasis', [1685]), ('amathus', [1687]), ('alphons', [1688]), ('amati', [1690]), ('amazons', [1695]), ('ambergris', [1697]), ('ambiorix', [1698]), ('ambros', [1700]), ('wilhelm', [1700]), ('amazon', [1701]), ('beverley', [1702]), ('autpert', [1714]), ('abu', [1715, 2216, 2360]), ('bakr', [1715]), ('traversari', [1716]), ('ambrosians', [1717]), ('ambrosiaster', [1718]), ('ambrosius', [1719]), ('aurelianus', [1719]), ('ammon', [1722]), ('ammonius', [1723, 1724]), ('hermiae', [1723]), ('saccas', [1724]), ('amphipolis', [1727]), ('amram', [1728]), ('amyntas', [1729, 1730]), ('macedon', [1729, 1730]), ('anacharsis', [1732]), ('anah', [1734]), ('ānanda', [1735]), ('anaxagoras', [1737]), ('anaxarchus', [1738]), ('ancyra', [1740]), ('planthopper', [1740]), ('anastasius', [1742, 1743, 1747]), ('anaximenes', [1746, 1748]), ('lampsacus', [1746]), ('miletus', [1748]), ('ancus', [1749]), ('marcius', [1749]), ('andaman', [1750]), ('anderson', [1751]), ('mathematician', [1751]), ('andocides', [1752]), ('andrea', [1754, 1960]), ('andreani', [1754]), ('hungary', [1755]), ('concerning', [1756]), ('enquiry', [1756]), ('human', [1756]), ('understanding', [1756]), ('longjumeau', [1758]), ('andriscus', [1759]), ('andronikos', [1760, 1761, 1762]), ('palaiologos', [1760, 1761]), ('andronicus', [1763, 1764, 1765]), ('cyrrhus', [1763]), ('rhodes', [1764]), ('ammianus', [1767]), ('marcellinus', [1767]), ('arthritis', [1776]), ('acetylene', [1778]), ('numerals', [1786]), ('abm', [1788]), ('apuleius', [1789]), ('selkirk', [1790]), ('anti-ballistic', [1791]), ('missile', [1791]), ('acre', [1797]), ('atp', [1799]), ('adenosine', [1800]), ('triphosphate', [1800]), ('ægir', [1802]), ('antibiotic', [1805]), ('arnold', [1806]), ('schwarzenegger', [1806]), ('actium', [1810]), ('amway', [1812]), ('adam', [1814, 2077]), ('smith', [1814]), ('antoine', [1822]), ('lavoisier', [1822]), ('hermann', [1825]), ('kolbe', [1825]), ('amitabh', [1828]), ('bachchan', [1828]), ('allomorph', [1832]), ('allophone', [1834]), ('affix', [1835]), ('allegory', [1837]), ('allotropy', [1839]), ('agathocles', [1840]), ('syracuse', [1840]), ('augustin-louis', [1842]), ('cauchy', [1842]), ('archimedes', [1844]), ('alternative', [1845]), ('medicine', [1845]), ('archimedean', [1847]), ('solid', [1847]), ('antiprism', [1851]), ('africa', [1853, 1854, 1894]), ('natural', [1853]), ('approval', [1857]), ('voting', [1857]), ('arizona', [1859, 2102, 2129]), ('state', [1859]), ('university', [1859, 2025, 2236]), ('astoria', [1864]), ('oregon', [1864]), ('alarums', [1866]), ('excursions', [1866]), ('jarry', [1869]), ('jerusalem', [1871]), ('aimery', [1872]), ('cyprus', [1872]), ('anthemius', [1873]), ('tralles', [1873]), ('absalon', [1874]), ('adhemar', [1875]), ('puy', [1875]), ('alphonse', [1878]), ('count', [1878]), ('poitiers', [1878]), ('jordan', [1879]), ('ambroise', [1880]), ('deco', [1881]), ('alexius', [1887]), ('english', [1890, 1897, 2011]), ('spalding', [1893]), ('acquire', [1896]), ('airlines', [1902, 2386]), ('flight', [1902]), ('ambush', [1905]), ('abzyme', [1908]), ('adaptive', [1909]), ('radiation', [1909]), ('agarose', [1910]), ('electrophoresis', [1910]), ('gel', [1910]), ('allele', [1911]), ('ampicillin', [1912]), ('annealing', [1913]), ('antimicrobial', [1914]), ('resistance', [1914]), ('antigen', [1915]), ('autosome', [1916]), ('antwerp', [1919]), ('aquila', [1920]), ('al-qaeda', [1921]), ('volta', [1923]), ('argo', [1924]), ('navis', [1924]), ('andromeda', [1925]), ('mythology', [1925]), ('antlia', [1926]), ('ara', [1927]), ('auriga', [1928]), ('arkansas', [1930]), ('atmosphere', [1931]), ('apus', [1933]), ('abadan', [1934]), ('iran', [1934]), ('attorney', [1935]), ('fleming', [1937]), ('carnegie', [1938]), ('approximant', [1939]), ('aeon', [1941]), ('airline', [1942]), ('democrats', [1943]), ('capital', [1944]), ('territory', [1944]), ('aotus', [1947]), ('ally', [1948]), ('mcbeal', [1948]), ('andreas', [1949, 2381]), ('capellanus', [1949]), ('liberties', [1950]), ('union', [1950]), ('technique', [1957]), ('alciato', [1960]), ('apparent', [1962]), ('magnitude', [1962, 1963]), ('ayckbourn', [1975]), ('centauri', [1979, 2215]), ('amiga', [1980]), ('absorption', [1985]), ('actinophryid', [1986]), ('tasman', [1988]), ('angula', [1991]), ('asp', [1994]), ('geometry', [1997, 2202]), ('texas', [1998]), ('from', [2003]), ('morality', [2003]), ('asl', [2004]), ('auschwitz', [2006]), ('camp', [2006]), ('concentration', [2006]), ('archery', [2007]), ('aalto', [2009]), ('alvar', [2009]), ('british', [2011]), ('comparison', [2011]), ('semantics', [2014]), ('circumpolar', [2015]), ('current', [2015]), ('arbor', [2017, 2067]), ('ayer', [2018]), ('weil', [2019]), ('achaeans', [2020]), ('homer', [2020]), ('atle', [2021]), ('selberg', [2021]), ('aeschylus', [2023]), ('road', [2024]), ('crandall', [2025]), ('wiles', [2027]), ('ambient', [2028]), ('anne', [2029]), ('brontë', [2029]), ('augustine', [2030]), ('hippo', [2030]), ('acting', [2032]), ('delian', [2037]), ('league', [2037, 2357]), ('horch', [2038]), ('avionics', [2039]), ('ares', [2041]), ('grothendieck', [2042]), ('alcoholics', [2047]), ('anonymous', [2047]), ('compositing', [2049]), ('array', [2052]), ('data', [2052, 2349]), ('structure', [2052]), ('advance', [2053]), ('australia', [2053]), ('fair', [2053]), ('announcement', [2061]), ('automatic', [2061]), ('circuit', [2061]), ('amerigo', [2062]), ('vespucci', [2062]), ('aristide', [2063]), ('maillol', [2063]), ('canova', [2064]), ('auguste', [2065, 2083]), ('rodin', [2065]), ('ann', [2067, 2422]), ('michigan', [2067, 2346]), ('1701', [2070]), ('settlement', [2070]), ('hijacking', [2075]), ('weishaupt', [2077]), ('acorn', [2078]), ('electron', [2078]), ('deep', [2080]), ('fire', [2080]), ('upon', [2080]), ('aeronautics', [2082]), ('louis', [2083]), ('lumière', [2083]), ('acts', [2084]), ('apostles', [2084]), ('assyria', [2085]), ('abijah', [2086]), ('ark', [2087, 2134]), ('aphasia', [2088]), ('aorta', [2089]), ('abimelech', [2093]), ('tridgell', [2099]), ('applesoft', [2100]), ('basic', [2100]), ('asterix', [2101]), ('cardinals', [2102]), ('atlanta', [2103, 2140]), ('falcons', [2103]), ('heathenry', [2104]), ('ansible', [2106]), ('adalbert', [2108]), ('prague', [2108]), ('canterbury', [2110, 2345]), ('ælfheah', [2110]), ('algebra', [2112]), ('regularity', [2113]), ('aix', [2114]), ('ibm', [2114]), ('appletalk', [2115]), ('series', [2116, 2139]), ('avl', [2118]), ('tree', [2118]), ('aliphatic', [2120]), ('astrology', [2122]), ('abyssinia', [2123]), ('extension', [2125]), ('ani', [2126]), ('difranco', [2126]), ('arene', [2127]), ('diamondbacks', [2129]), ('aesthetics', [2130]), ('covenant', [2134]), ('angles', [2136]), ('aster', [2137]), ('ct-80', [2137]), ('wellesley', [2138]), ('animated', [2139]), ('lists', [2139]), ('television', [2139, 2393]), ('braves', [2140]), ('atari', [2141, 2234]), ('projects', [2142]), ('aaliyah', [2144]), ('armour', [2147]), ('armoured', [2148]), ('fighting', [2148]), ('vehicle', [2148]), ('anton', [2151, 2313, 2447]), ('drexler', [2151]), ('front', [2152]), ('quiet', [2152]), ('western', [2152]), ('african', [2154]), ('license', [2161]), ('afrikaans', [2162]), ('aeolus', [2163]), ('abc', [2166]), ('alford', [2167]), ('plea', [2167]), ('abcd', [2170]), ('anti-realism', [2171]), ('arsenal', [2174]), ('massoud', [2176]), ('atlantis', [2178]), ('autobiography', [2179]), ('arcadius', [2180]), ('arabs', [2185]), ('armadillo', [2186]), ('arab', [2187]), ('world', [2187]), ('arcology', [2193]), ('amstrad', [2197]), ('cpc', [2197]), ('abdulaziz', [2198]), ('al-omari', [2198]), ('aage', [2201]), ('bohr', [2201]), ('analytic', [2202]), ('angels', [2207]), ('arctic', [2208]), ('fox', [2208]), ('anglo-saxon', [2209]), ('folklore', [2210]), (\"meier's\", [2215]), ('sid', [2215]), ('sayyaf', [2216]), ('armenian', [2217]), ('additive', [2218]), ('synthesis', [2218]), ('carrier', [2219]), ('apicomplexa', [2221]), ('argentine', [2222]), ('hominem', [2226]), ('sussex', [2233]), ('ælle', [2233]), ('afghan', [2235]), ('acadia', [2236]), ('guitar', [2237]), ('steel-string', [2237]), ('john', [2238]), ('xxiii', [2238]), ('salieri', [2241]), ('cobble', [2244]), ('hill', [2244, 2314]), ('tunnel', [2244]), ('annapolis', [2245]), ('valley', [2245]), ('analgesic', [2246]), ('abiotic', [2250]), ('stress', [2250]), ('accusative', [2251]), ('case', [2251, 2333]), ('apostolic', [2257]), ('succession', [2257]), ('ascorbic', [2268]), ('afc', [2273]), ('eddington', [2274]), ('korner', [2282]), ('gun', [2284]), ('destroyer', [2286]), ('tank', [2286]), ('armored', [2287]), ('car', [2287]), ('military', [2287]), ('anti-aircraft', [2288]), ('self-propelled', [2288]), ('weapon', [2288]), ('alkmaar', [2289]), ('adrenal', [2296]), ('gland', [2296]), ('a360media', [2299]), ('saint', [2304]), ('titus', [2304]), ('actinide', [2308]), ('miller', [2310]), ('diabelli', [2313]), ('anita', [2314]), ('audio', [2316, 2322, 2429]), ('file', [2316]), ('format', [2316]), ('victor', [2319]), ('processing', [2322]), (\"amdahl's\", [2323]), ('ayahuasca', [2328]), ('leng', [2329]), ('abbe', [2330]), ('acn', [2331]), ('ablative', [2333]), ('adamic', [2335]), ('city', [2338]), ('fall', [2338]), ('mahagonny', [2338]), ('rise', [2338]), ('avery', [2339]), ('hopwood', [2339]), ('felix', [2340]), ('alkaloid', [2341]), ('adventism', [2343]), ('albion', [2346]), ('anointing', [2348]), ('sick', [2348]), ('type', [2349]), ('roma', [2358]), ('nidal', [2360]), ('organization', [2360]), ('antibody', [2362]), ('scarlatti', [2363]), ('aston', [2369]), ('martin', [2369]), ('pike', [2371]), ('alf', [2372]), ('tales', [2372]), ('abdul', [2376]), ('dostum', [2376]), ('rashid', [2376]), ('andhra', [2377]), ('pradesh', [2377]), ('accelerated', [2380]), ('graphics', [2380]), ('port', [2380]), ('aagesen', [2381]), ('aalen', [2382]), ('alois', [2383]), ('alzheimer', [2383]), ('aedile', [2384]), ('antidepressant', [2388]), ('auger', [2389]), ('effect', [2389]), ('akio', [2391]), ('morita', [2391]), ('anode', [2392]), ('adhesive', [2396]), ('anthony', [2397]), ('hopkins', [2397]), ('ardal', [2398]), (\"o'hanlon\", [2398]), ('devices', [2400]), ('micro', [2400]), ('albrecht', [2402, 2421, 2440]), ('dürer', [2402]), ('rules', [2403]), ('aon', [2405]), ('company', [2405]), ('alban', [2406]), ('berg', [2406]), ('cappella', [2411]), ('arrangement', [2414]), ('athanasian', [2416]), ('creed', [2416]), ('alicante', [2417]), ('widdecombe', [2422]), ('aurangzeb', [2425]), ('alexandrine', [2427]), ('arc', [2431]), ('minute', [2431]), ('second', [2431]), ('alberto', [2433]), ('giacometti', [2433]), ('anthem', [2439]), ('altdorfer', [2440]), ('ascania', [2441]), ('house', [2441]), ('acceleration', [2443]), ('conservation', [2444]), ('cultural', [2444]), ('restoration', [2444]), ('chekhov', [2447]), ('action', [2448]), ('against', [2448]), ('hunger', [2448]), ('apoptosis', [2457])]\n"
          ]
        }
      ]
    },
    {
      "cell_type": "code",
      "source": [
        "NUM_BUCKETS = 124\n",
        "def token2bucket_id(token):\n",
        "  return int(_hash(token),16) % NUM_BUCKETS\n",
        "\n",
        "def partition_postings_and_write(postings):\n",
        "  ''' A function that partitions the posting lists into buckets, writes out \n",
        "  all posting lists in a bucket to disk, and returns the posting locations for \n",
        "  each bucket. Partitioning should be done through the use of `token2bucket` \n",
        "  above. Writing to disk should use the function  `write_a_posting_list`, a \n",
        "  static method implemented in inverted_index_colab.py under the InvertedIndex \n",
        "  class. \n",
        "  Parameters:\n",
        "  -----------\n",
        "    postings: RDD\n",
        "      An RDD where each item is a (w, posting_list) pair.\n",
        "  Returns:\n",
        "  --------\n",
        "    RDD\n",
        "      An RDD where each item is a posting locations dictionary for a bucket. The\n",
        "      posting locations maintain a list for each word of file locations and \n",
        "      offsets its posting list was written to. See `write_a_posting_list` for \n",
        "      more details.\n",
        "  '''\n",
        " \n",
        "  '''\n",
        "  taking a posting of the form (w, posting_list)\n",
        "  and returning (bucket_id, (w, posting_list))\n",
        "  '''\n",
        "\n",
        "  def mapping_bucket_id(term, posting):\n",
        "    return (token2bucket_id(term), posting)\n",
        "\n",
        "  def write_id(id_mapped_postings):\n",
        "    return InvertedIndex.write_a_posting_list(id_mapped_postings)\n",
        "\n",
        "  locations = postings.map(lambda x: mapping_bucket_id(x[0], x)).groupByKey().map(lambda x: write_id(x))\n",
        "\n",
        "  return locations\n",
        "  # def mapping_bucket_id(posting):\n",
        "  #   return (token2bucket_id(posting[0]), posting)\n",
        "  \n",
        "  # def write_id(id_mapped_postings):\n",
        "  #   return InvertedIndex.write_a_posting_list(id_mapped_postings)\n",
        "\n",
        "  # locations = postings.flatMap(lambda x: )\n",
        "  # locations = postings.map(mapping_bucket_id).groupByKey().map(write_id)\n",
        "  \n",
        "  #return locations"
      ],
      "metadata": {
        "id": "BvUVJE2boV8W"
      },
      "execution_count": 140,
      "outputs": []
    },
    {
      "cell_type": "code",
      "source": [
        "posting_locs_list = partition_postings_and_write(postings).collect()\n",
        "print(posting_locs_list)"
      ],
      "metadata": {
        "id": "6cGVBYeXoeS4",
        "outputId": "d83154b0-c62f-4f98-970f-a78211513219",
        "colab": {
          "base_uri": "https://localhost:8080/"
        }
      },
      "execution_count": 141,
      "outputs": [
        {
          "output_type": "stream",
          "name": "stdout",
          "text": [
            "[defaultdict(<class 'list'>, {'anarchism': [('81_000.bin', 0)], 'agricultural': [('81_000.bin', 4)], 'schopenhauer': [('81_000.bin', 8)], 'politician': [('81_000.bin', 12)], 'disabilities': [('81_000.bin', 16)], 'abydos': [('81_000.bin', 20)], 'amyntas': [('81_000.bin', 32)], 'titus': [('81_000.bin', 40)], 'mahagonny': [('81_000.bin', 44)]}), defaultdict(<class 'list'>, {'autism': [('59_000.bin', 0)], 'abel': [('59_000.bin', 4)], 'angst': [('59_000.bin', 12)], 'casa': [('59_000.bin', 16)], 'arachnophobia': [('59_000.bin', 24)], 'serbia': [('59_000.bin', 28)], 'anderson': [('59_000.bin', 32)], 'andromeda': [('59_000.bin', 36)], 'achaeans': [('59_000.bin', 40)], 'angles': [('59_000.bin', 44)]}), defaultdict(<class 'list'>, {'albedo': [('2_000.bin', 0)], 'angolan': [('2_000.bin', 4)], 'aluminium': [('2_000.bin', 8)], 'antiparticle': [('2_000.bin', 12)], 'acacia': [('2_000.bin', 16)], 'voting': [('2_000.bin', 20)], 'acorn': [('2_000.bin', 24)], 'fox': [('2_000.bin', 28)], 'hill': [('2_000.bin', 32)]}), defaultdict(<class 'list'>, {'alabama': [('32_000.bin', 0)], 'amphibian': [('32_000.bin', 16)], 'alcohol': [('32_000.bin', 20)], 'intelligence': [('32_000.bin', 28)], 'with': [('32_000.bin', 36)], 'agassiz': [('32_000.bin', 40)], 'archbishop': [('32_000.bin', 44)], 'aquila': [('32_000.bin', 52)], 'capellanus': [('32_000.bin', 56)], 'deep': [('32_000.bin', 60)]}), defaultdict(<class 'list'>, {'achilles': [('31_000.bin', 0)], 'argon': [('31_000.bin', 8)], 'achill': [('31_000.bin', 12)], 'agapanthus': [('31_000.bin', 16)], 'khan': [('31_000.bin', 20)], 'agesilaus': [('31_000.bin', 28)], 'absorption': [('31_000.bin', 32)], '1701': [('31_000.bin', 36)], 'assyria': [('31_000.bin', 40)], 'anointing': [('31_000.bin', 44)], 'roma': [('31_000.bin', 48)], 'aedile': [('31_000.bin', 52)], 'minute': [('31_000.bin', 56)]}), defaultdict(<class 'list'>, {'abraham': [('66_000.bin', 0)], 'anxiety': [('66_000.bin', 8)], 'andré': [('66_000.bin', 12)], 'abbotsford': [('66_000.bin', 24)], 'adam': [('66_000.bin', 28)], 'agathocles': [('66_000.bin', 36)], 'synthesis': [('66_000.bin', 40)]}), defaultdict(<class 'list'>, {'lincoln': [('90_000.bin', 0)], 'book': [('90_000.bin', 4)], 'camus': [('90_000.bin', 12)], 'auto': [('90_000.bin', 16)], 'celt': [('90_000.bin', 20)], 'alessandro': [('90_000.bin', 24)], 'anaxagoras': [('90_000.bin', 40)], 'weil': [('90_000.bin', 44)], 'rodin': [('90_000.bin', 48)], 'abyssinia': [('90_000.bin', 52)], 'ascorbic': [('90_000.bin', 56)]}), defaultdict(<class 'list'>, {'aristotle': [('122_000.bin', 0)], 'anthropologists': [('122_000.bin', 4)], 'revolutionary': [('122_000.bin', 8)], 'chemistry': [('122_000.bin', 12)], 'milne': [('122_000.bin', 24)], 'atp': [('122_000.bin', 28)], 'compositing': [('122_000.bin', 32)], 'aesthetics': [('122_000.bin', 36)], 'rise': [('122_000.bin', 40)]}), defaultdict(<class 'list'>, {'american': [('55_000.bin', 0)], 'international': [('55_000.bin', 88)], 'anatole': [('55_000.bin', 92)], 'assembly': [('55_000.bin', 96)], 'arianism': [('55_000.bin', 104)], 'almost': [('55_000.bin', 108)], 'party': [('55_000.bin', 112)], 'cuisine': [('55_000.bin', 116)], 'hungary': [('55_000.bin', 128)], 'centauri': [('55_000.bin', 132)], 'ct-80': [('55_000.bin', 140)]}), defaultdict(<class 'list'>, {'paris': [('65_000.bin', 0)], 'acid': [('65_000.bin', 4)], 'armed': [('65_000.bin', 16)], 'great': [('65_000.bin', 28)], 'author': [('65_000.bin', 40)], 'alumni': [('65_000.bin', 44)], 'antoninus': [('65_000.bin', 48)], 'liège': [('65_000.bin', 52)], 'auschwitz': [('65_000.bin', 56)], 'fire': [('65_000.bin', 60)]}), defaultdict(<class 'list'>, {'academy': [('51_000.bin', 0)], 'arithmetic': [('51_000.bin', 8)], 'morality': [('51_000.bin', 12)], 'atle': [('51_000.bin', 16)], 'ambient': [('51_000.bin', 20)], 'anthem': [('51_000.bin', 24)]}), defaultdict(<class 'list'>, {'award': [('93_000.bin', 0)], 'ashes': [('93_000.bin', 4)], 'scottish': [('93_000.bin', 8)], 'alger': [('93_000.bin', 12)], 'alyattes': [('93_000.bin', 16)], 'ambiorix': [('93_000.bin', 20)], 'upon': [('93_000.bin', 24)], 'acadia': [('93_000.bin', 28)], 'tank': [('93_000.bin', 32)], 'scarlatti': [('93_000.bin', 36)]}), defaultdict(<class 'list'>, {'best': [('87_000.bin', 0)], 'animalia': [('87_000.bin', 4)], 'spider-man': [('87_000.bin', 8)], 'artistic': [('87_000.bin', 12)], 'alcaeus': [('87_000.bin', 20)], 'solid': [('87_000.bin', 24)], 'deco': [('87_000.bin', 28)], 'ibm': [('87_000.bin', 32)], 'salieri': [('87_000.bin', 36)], 'fall': [('87_000.bin', 40)], 'organization': [('87_000.bin', 44)]}), defaultdict(<class 'list'>, {'design': [('58_000.bin', 0)], 'science': [('58_000.bin', 4)], 'astronomer': [('58_000.bin', 8)], 'android': [('58_000.bin', 16)], 'novel': [('58_000.bin', 20)], 'aircraft': [('58_000.bin', 24)], 'antimony': [('58_000.bin', 36)], 'marple': [('58_000.bin', 40)], \"america's\": [('58_000.bin', 44)], 'accordion': [('58_000.bin', 48)], 'foundation': [('58_000.bin', 52)], 'labor': [('58_000.bin', 56)], 'people': [('58_000.bin', 60)], 'alexandrists': [('58_000.bin', 64)], 'ammonius': [('58_000.bin', 68)], 'ambroise': [('58_000.bin', 76)], 'hippo': [('58_000.bin', 80)], 'aorta': [('58_000.bin', 84)], 'restoration': [('58_000.bin', 88)]}), defaultdict(<class 'list'>, {'for': [('0_000.bin', 0)], 'parsons': [('0_000.bin', 8)], 'komnenos': [('0_000.bin', 12)], 'algardi': [('0_000.bin', 24)], 'andronikos': [('0_000.bin', 28)], 'allegory': [('0_000.bin', 40)], 'democrats': [('0_000.bin', 44)], 'arab': [('0_000.bin', 48)], 'cappella': [('0_000.bin', 52)]}), defaultdict(<class 'list'>, {'production': [('99_000.bin', 0)], 'animation': [('99_000.bin', 4)], 'algebraically': [('99_000.bin', 8)], 'duke': [('99_000.bin', 12)], 'albertus': [('99_000.bin', 16)], 'afonso': [('99_000.bin', 20)], 'complexity': [('99_000.bin', 48)], 'amasis': [('99_000.bin', 52)], 'macedon': [('99_000.bin', 56)], 'anastasius': [('99_000.bin', 64)], 'andriscus': [('99_000.bin', 76)], 'palaiologos': [('99_000.bin', 80)], 'aster': [('99_000.bin', 88)], 'steel-string': [('99_000.bin', 92)]}), defaultdict(<class 'list'>, {'awards': [('96_000.bin', 0)], 'america': [('96_000.bin', 4)], 'antioch': [('96_000.bin', 8)], 'bachchan': [('96_000.bin', 12)], 'abadan': [('96_000.bin', 16)], 'aalto': [('96_000.bin', 20)], 'settlement': [('96_000.bin', 24)], 'adrenal': [('96_000.bin', 28)], 'file': [('96_000.bin', 32)], 'pike': [('96_000.bin', 36)]}), defaultdict(<class 'list'>, {'actrius': [('18_000.bin', 0)], 'warhol': [('18_000.bin', 4)], 'kurosawa': [('18_000.bin', 8)], 'physics': [('18_000.bin', 12)], 'mytilene': [('18_000.bin', 16)], 'apus': [('18_000.bin', 20)], 'weishaupt': [('18_000.bin', 24)], 'korner': [('18_000.bin', 28)], 'devices': [('18_000.bin', 32)]}), defaultdict(<class 'list'>, {'atomic': [('10_000.bin', 0)], 'affirming': [('10_000.bin', 24)], 'alfred': [('10_000.bin', 28)], 'acupuncture': [('10_000.bin', 64)], 'proserpine': [('10_000.bin', 68)], 'magnitude': [('10_000.bin', 72)], 'aeolus': [('10_000.bin', 80)], 'nidal': [('10_000.bin', 84)], 'chekhov': [('10_000.bin', 88)]}), defaultdict(<class 'list'>, {'time': [('67_000.bin', 0)], 'altruism': [('67_000.bin', 8)], 'andre': [('67_000.bin', 12)], 'relations': [('67_000.bin', 16)], 'ratio': [('67_000.bin', 28)], 'ahmed': [('67_000.bin', 32)], 'scotland': [('67_000.bin', 44)], 'arkansas': [('67_000.bin', 56)], 'graphics': [('67_000.bin', 60)]}), defaultdict(<class 'list'>, {'ayn': [('75_000.bin', 0)], 'journal': [('75_000.bin', 4)], 'war': [('75_000.bin', 8)], 'angle': [('75_000.bin', 16)], 'analytical': [('75_000.bin', 20)], 'abensberg': [('75_000.bin', 28)], 'miletus': [('75_000.bin', 32)], 'asp': [('75_000.bin', 36)], 'argentine': [('75_000.bin', 40)]}), defaultdict(<class 'list'>, {'rand': [('83_000.bin', 0)], 'institute': [('83_000.bin', 4)], 'astronaut': [('83_000.bin', 12)], 'sea': [('83_000.bin', 16)], 'alp': [('83_000.bin', 20)], 'history': [('83_000.bin', 24)], 'americans': [('83_000.bin', 32)], 'computer': [('83_000.bin', 40)], 'almoravid': [('83_000.bin', 48)], 'alphons': [('83_000.bin', 52)], 'bakr': [('83_000.bin', 56)], 'louis': [('83_000.bin', 60)], 'anthony': [('83_000.bin', 64)]}), defaultdict(<class 'list'>, {'alain': [('109_000.bin', 0)], 'argument': [('109_000.bin', 8)], 'anglican': [('109_000.bin', 16)], 'kaijser': [('109_000.bin', 20)], 'hercule': [('109_000.bin', 24)], 'avicenna': [('109_000.bin', 28)], 'decay': [('109_000.bin', 32)], 'alcamenes': [('109_000.bin', 36)], 'alypius': [('109_000.bin', 40)], 'schwarzenegger': [('109_000.bin', 44)], 'aimery': [('109_000.bin', 48)], 'iran': [('109_000.bin', 52)], 'afc': [('109_000.bin', 56)], 'arrangement': [('109_000.bin', 60)]}), defaultdict(<class 'list'>, {'connes': [('114_000.bin', 0)], 'clockwork': [('114_000.bin', 4)], 'process': [('114_000.bin', 8)], 'wonderland': [('114_000.bin', 12)], 'alboin': [('114_000.bin', 16)], 'numerals': [('114_000.bin', 20)], 'cauchy': [('114_000.bin', 24)], 'territory': [('114_000.bin', 28)], 'aix': [('114_000.bin', 32)], 'armadillo': [('114_000.bin', 36)], 'cobble': [('114_000.bin', 40)], 'ardal': [('114_000.bin', 44)]}), defaultdict(<class 'list'>, {'allan': [('15_000.bin', 0)], 'egypt': [('15_000.bin', 4)], 'ak-47': [('15_000.bin', 12)], 'ancylopoda': [('15_000.bin', 16)], 'alder': [('15_000.bin', 20)], 'adiabatic': [('15_000.bin', 24)], 'absalom': [('15_000.bin', 28)], 'sick': [('15_000.bin', 32)]}), defaultdict(<class 'list'>, {'dwan': [('41_000.bin', 0)], 'art': [('41_000.bin', 4)], 'derleth': [('41_000.bin', 20)], 'absolute': [('41_000.bin', 24)], 'northern': [('41_000.bin', 36)], 'adelaide': [('41_000.bin', 40)], 'acapulco': [('41_000.bin', 44)], 'shah': [('41_000.bin', 48)], 'marcellinus': [('41_000.bin', 56)], 'arizona': [('41_000.bin', 60)], 'ally': [('41_000.bin', 72)], 'alf': [('41_000.bin', 76)], 'hopkins': [('41_000.bin', 80)], 'alicante': [('41_000.bin', 84)]}), defaultdict(<class 'list'>, {'algeria': [('105_000.bin', 0)], 'football': [('105_000.bin', 4)], 'asphalt': [('105_000.bin', 16)], 'anatomy': [('105_000.bin', 20)], 'motor': [('105_000.bin', 24)], 'crowley': [('105_000.bin', 28)], 'avl': [('105_000.bin', 32)]}), defaultdict(<class 'list'>, {'atlas': [('39_000.bin', 0)], 'united': [('39_000.bin', 8)], 'acoustics': [('39_000.bin', 20)], 'mackenzie': [('39_000.bin', 24)], 'apocrypha': [('39_000.bin', 28)], 'oregon': [('39_000.bin', 32)], 'alberto': [('39_000.bin', 36)]}), defaultdict(<class 'list'>, {'characters': [('84_000.bin', 0)], 'arable': [('84_000.bin', 4)], 'shot': [('84_000.bin', 8)], 'anisotropy': [('84_000.bin', 12)], 'property': [('84_000.bin', 16)], 'ampère': [('84_000.bin', 24)], 'archimedean': [('84_000.bin', 28)], 'horch': [('84_000.bin', 32)], 'angels': [('84_000.bin', 36)]}), defaultdict(<class 'list'>, {'list': [('104_000.bin', 0)], 'beautiful': [('104_000.bin', 16)], 'vogt': [('104_000.bin', 20)], 'islands': [('104_000.bin', 24)], 'ahenobarbus': [('104_000.bin', 32)], 'triumph': [('104_000.bin', 36)], 'cyprus': [('104_000.bin', 40)], 'ambush': [('104_000.bin', 44)], 'british': [('104_000.bin', 48)], 'selberg': [('104_000.bin', 52)], 'gun': [('104_000.bin', 56)], 'city': [('104_000.bin', 60)]}), defaultdict(<class 'list'>, {'shrugged': [('103_000.bin', 0)], 'variance': [('103_000.bin', 4)], 'tarkovsky': [('103_000.bin', 12)], 'alloy': [('103_000.bin', 16)], 'durrani': [('103_000.bin', 20)], 'arnold': [('103_000.bin', 24)], 'ælfheah': [('103_000.bin', 28)], 'format': [('103_000.bin', 32)], 'house': [('103_000.bin', 36)]}), defaultdict(<class 'list'>, {'anthropology': [('113_000.bin', 0)], 'minor': [('113_000.bin', 4)], 'markov': [('113_000.bin', 8)], 'cartier': [('113_000.bin', 12)], 'compound': [('113_000.bin', 16)], 'jagiellon': [('113_000.bin', 24)], 'allori': [('113_000.bin', 28)], 'andronicus': [('113_000.bin', 32)], 'concentration': [('113_000.bin', 44)], 'advance': [('113_000.bin', 48)], 'arctic': [('113_000.bin', 52)], 'apoptosis': [('113_000.bin', 56)]}), defaultdict(<class 'list'>, {'alchemy': [('23_000.bin', 0)], 'aquarius': [('23_000.bin', 4)], 'kournikova': [('23_000.bin', 8)], 'doubleday': [('23_000.bin', 12)], 'abbot': [('23_000.bin', 16)], 'difranco': [('23_000.bin', 20)]}), defaultdict(<class 'list'>, {'alien': [('82_000.bin', 0)], 'alkali': [('82_000.bin', 4)], 'atlantic': [('82_000.bin', 8)], 'anazarbus': [('82_000.bin', 16)], 'hymn': [('82_000.bin', 20)], 'ibn': [('82_000.bin', 24)], 'australia': [('82_000.bin', 28)], 'amerigo': [('82_000.bin', 32)], 'apostles': [('82_000.bin', 36)], 'destroyer': [('82_000.bin', 40)], 'aurangzeb': [('82_000.bin', 44)]}), defaultdict(<class 'list'>, {'ascii': [('37_000.bin', 0)], 'audi': [('37_000.bin', 8)], 'jakob': [('37_000.bin', 12)], 'all': [('37_000.bin', 16)], 'river': [('37_000.bin', 28)], 'albuquerque': [('37_000.bin', 40)], 'amazons': [('37_000.bin', 44)], 'acetylene': [('37_000.bin', 48)], 'selkirk': [('37_000.bin', 52)], 'airlines': [('37_000.bin', 56)], 'apparent': [('37_000.bin', 64)], 'guitar': [('37_000.bin', 68)], 'cultural': [('37_000.bin', 72)]}), defaultdict(<class 'list'>, {'austin': [('11_000.bin', 0)], 'demographics': [('11_000.bin', 8)], 'diceless': [('11_000.bin', 24)], 'amethyst': [('11_000.bin', 28)], 'army': [('11_000.bin', 32)], 'aldine': [('11_000.bin', 36)], 'xii': [('11_000.bin', 40)]}), defaultdict(<class 'list'>, {'disambiguation': [('107_000.bin', 0)], 'austroasiatic': [('107_000.bin', 72)], 'forces': [('107_000.bin', 76)], 'einstein': [('107_000.bin', 88)], 'mouthwash': [('107_000.bin', 92)], 'poirot': [('107_000.bin', 96)], 'anglicanism': [('107_000.bin', 100)], 'angilbert': [('107_000.bin', 104)], 'empire': [('107_000.bin', 108)], 'consent': [('107_000.bin', 112)], 'anthemius': [('107_000.bin', 116)], 'prague': [('107_000.bin', 120)], 'massoud': [('107_000.bin', 124)]}), defaultdict(<class 'list'>, {'apollo': [('115_000.bin', 0)], 'anatolia': [('115_000.bin', 56)], 'astatine': [('115_000.bin', 60)], 'racing': [('115_000.bin', 64)], 'augustin-jean': [('115_000.bin', 68)], 'philosophy': [('115_000.bin', 72)], 'turing': [('115_000.bin', 76)], 'apostolic': [('115_000.bin', 80)]}), defaultdict(<class 'list'>, {'agassi': [('7_000.bin', 0)], 'politics': [('7_000.bin', 4)], 'video': [('7_000.bin', 20)], 'agnosticism': [('7_000.bin', 24)], 'dodo': [('7_000.bin', 28)], 'brandenburg-kulmbach': [('7_000.bin', 32)], 'amathus': [('7_000.bin', 36)], 'anaxarchus': [('7_000.bin', 40)], 'antibiotic': [('7_000.bin', 44)], 'antiprism': [('7_000.bin', 48)], 'flight': [('7_000.bin', 52)], 'antlia': [('7_000.bin', 56)], 'homer': [('7_000.bin', 60)], 'acts': [('7_000.bin', 64)], 'abimelech': [('7_000.bin', 68)], 'type': [('7_000.bin', 72)], 'rules': [('7_000.bin', 76)], 'hunger': [('7_000.bin', 80)]}), defaultdict(<class 'list'>, {'languages': [('91_000.bin', 0)], 'affidavit': [('91_000.bin', 12)], 'acute': [('91_000.bin', 16)], 'anguilla': [('91_000.bin', 20)], 'güell': [('91_000.bin', 28)], 'lesser': [('91_000.bin', 32)], 'kolmogorov': [('91_000.bin', 36)], 'lavoisier': [('91_000.bin', 40)], 'delian': [('91_000.bin', 44)], 'alban': [('91_000.bin', 48)]}), defaultdict(<class 'list'>, {'afroasiatic': [('69_000.bin', 0)], 'standards': [('69_000.bin', 4)], 'allocution': [('69_000.bin', 8)], 'abbey': [('69_000.bin', 12)], 'syracuse': [('69_000.bin', 16)], 'structure': [('69_000.bin', 20)], 'applesoft': [('69_000.bin', 24)], 'arsenal': [('69_000.bin', 28)], 'dostum': [('69_000.bin', 32)]}), defaultdict(<class 'list'>, {'andorra': [('16_000.bin', 0)], 'alphabet': [('16_000.bin', 4)], 'park': [('16_000.bin', 20)], 'prussia': [('16_000.bin', 24)], 'lampsacus': [('16_000.bin', 28)], 'human': [('16_000.bin', 32)], 'alternative': [('16_000.bin', 36)], 'diamondbacks': [('16_000.bin', 40)], 'fighting': [('16_000.bin', 44)], \"amdahl's\": [('16_000.bin', 48)]}), defaultdict(<class 'list'>, {'mean': [('43_000.bin', 0)], 'algae': [('43_000.bin', 4)], 'roleplaying': [('43_000.bin', 8)], 'aetolus': [('43_000.bin', 12)], 'triphosphate': [('43_000.bin', 16)], 'augustin-louis': [('43_000.bin', 20)], 'ara': [('43_000.bin', 24)], 'asterix': [('43_000.bin', 28)], 'plea': [('43_000.bin', 32)], 'abdulaziz': [('43_000.bin', 36)], 'self-propelled': [('43_000.bin', 40)]}), defaultdict(<class 'list'>, {'conference': [('46_000.bin', 0)], 'answer': [('46_000.bin', 4)], 'axon': [('46_000.bin', 8)], 'fresnel': [('46_000.bin', 12)], 'antimatter': [('46_000.bin', 16)], 'amos': [('46_000.bin', 20)], 'elder': [('46_000.bin', 28)], 'amiga': [('46_000.bin', 32)], 'avionics': [('46_000.bin', 36)], 'announcement': [('46_000.bin', 40)], 'bohr': [('46_000.bin', 44)], 'pradesh': [('46_000.bin', 48)]}), defaultdict(<class 'list'>, {'animal': [('118_000.bin', 0)], 'governors': [('118_000.bin', 8)], 'ask': [('118_000.bin', 12)], 'russel': [('118_000.bin', 16)], 'lory': [('118_000.bin', 20)], 'doukas': [('118_000.bin', 24)], 'semantics': [('118_000.bin', 28)], 'armoured': [('118_000.bin', 32)]}), defaultdict(<class 'list'>, {'farm': [('121_000.bin', 0)], 'annual': [('121_000.bin', 4)], 'aries': [('121_000.bin', 8)], 'bell': [('121_000.bin', 12)], 'engine': [('121_000.bin', 16)], 'allosaurus': [('121_000.bin', 20)], 'zero': [('121_000.bin', 24)], 'ajax': [('121_000.bin', 28)], 'amphipolis': [('121_000.bin', 44)], 'attorney': [('121_000.bin', 48)], 'circumpolar': [('121_000.bin', 52)], 'array': [('121_000.bin', 56)], 'abdul': [('121_000.bin', 60)], 'conservation': [('121_000.bin', 64)]}), defaultdict(<class 'list'>, {'alaska': [('60_000.bin', 0)], 'algol': [('60_000.bin', 4)], 'aquaculture': [('60_000.bin', 12)], 'wilhelm': [('60_000.bin', 16)], 'africa': [('60_000.bin', 20)], 'giacometti': [('60_000.bin', 32)]}), defaultdict(<class 'list'>, {'agriculture': [('35_000.bin', 0)], 'azerbaijan': [('35_000.bin', 4)], 'abugida': [('35_000.bin', 20)], 'asociación': [('35_000.bin', 24)], 'algebraic': [('35_000.bin', 28)], 'artist': [('35_000.bin', 40)], 'standard': [('35_000.bin', 44)], 'alaric': [('35_000.bin', 48)], 'adalbert': [('35_000.bin', 56)], 'african': [('35_000.bin', 60)]}), defaultdict(<class 'list'>, {'aldous': [('28_000.bin', 0)], 'nobel': [('28_000.bin', 4)], 'disease': [('28_000.bin', 8)], 'actinium': [('28_000.bin', 12)], 'aalborg': [('28_000.bin', 16)], 'architect': [('28_000.bin', 20)], 'programming': [('28_000.bin', 24)], 'ambrosia': [('28_000.bin', 32)], 'amalaric': [('28_000.bin', 36)], 'tsarevich': [('28_000.bin', 40)], 'antipope': [('28_000.bin', 44)], 'hermann': [('28_000.bin', 60)], 'arbor': [('28_000.bin', 64)], 'apicomplexa': [('28_000.bin', 72)]}), defaultdict(<class 'list'>, {'huxley': [('62_000.bin', 0)], 'number': [('62_000.bin', 4)], 'aardwolf': [('62_000.bin', 20)], 'arabian': [('62_000.bin', 24)], 'africanus': [('62_000.bin', 28)], 'agamemnon': [('62_000.bin', 32)], 'younger': [('62_000.bin', 36)], 'technique': [('62_000.bin', 40)], 'alkmaar': [('62_000.bin', 44)], 'rashid': [('62_000.bin', 48)]}), defaultdict(<class 'list'>, {'ada': [('76_000.bin', 0)], 'underground': [('76_000.bin', 12)], 'analog': [('76_000.bin', 16)], 'vivaldi': [('76_000.bin', 32)], 'aachen': [('76_000.bin', 36)], 'alciato': [('76_000.bin', 40)], 'animated': [('76_000.bin', 44)], 'anti-realism': [('76_000.bin', 48)]}), defaultdict(<class 'list'>, {'aberdeen': [('53_000.bin', 0)], 'jackson': [('53_000.bin', 8)], 'aragon': [('53_000.bin', 12)], 'hermiae': [('53_000.bin', 24)], 'alcoholics': [('53_000.bin', 28)], 'anonymous': [('53_000.bin', 32)], 'analytic': [('53_000.bin', 36)]}), defaultdict(<class 'list'>, {'analysis': [('80_000.bin', 0)], 'asterales': [('80_000.bin', 12)], 'april': [('80_000.bin', 16)], 'alcidamas': [('80_000.bin', 116)], 'aaliyah': [('80_000.bin', 120)]}), defaultdict(<class 'list'>, {'alkane': [('116_000.bin', 0)], 'articles': [('116_000.bin', 4)], 'abalone': [('116_000.bin', 8)], 'alphorn': [('116_000.bin', 12)], 'embla': [('116_000.bin', 16)], 'alemanni': [('116_000.bin', 20)], 'gel': [('116_000.bin', 24)], 'augustine': [('116_000.bin', 28)], 'astrology': [('116_000.bin', 32)]}), defaultdict(<class 'list'>, {'appellate': [('77_000.bin', 0)], 'aruba': [('77_000.bin', 8)], 'alvin': [('77_000.bin', 12)], 'field': [('77_000.bin', 16)], 'karpov': [('77_000.bin', 20)], 'astronomical': [('77_000.bin', 24)], 'ashoka': [('77_000.bin', 28)], 'atanasoff': [('77_000.bin', 32)], 'aspirin': [('77_000.bin', 36)], 'agnes': [('77_000.bin', 40)], 'petrovich': [('77_000.bin', 44)], 'al-haytham': [('77_000.bin', 48)], 'abm': [('77_000.bin', 52)], 'kolbe': [('77_000.bin', 56)], 'wiles': [('77_000.bin', 60)], 'quiet': [('77_000.bin', 64)], 'carrier': [('77_000.bin', 68)], 'saint': [('77_000.bin', 72)]}), defaultdict(<class 'list'>, {'procedure': [('89_000.bin', 0)], 'apiales': [('89_000.bin', 4)], 'amino': [('89_000.bin', 8)], 'carnegie': [('89_000.bin', 12)], 'television': [('89_000.bin', 16)], 'annapolis': [('89_000.bin', 24)]}), defaultdict(<class 'list'>, {'states': [('88_000.bin', 0)], 'adobe': [('88_000.bin', 12)], 'algorithms': [('88_000.bin', 20)], 'messagepad': [('88_000.bin', 32)], 'amine': [('88_000.bin', 36)], 'allomorph': [('88_000.bin', 40)], 'archimedes': [('88_000.bin', 44)], 'antimicrobial': [('88_000.bin', 48)], 'circuit': [('88_000.bin', 52)], 'aage': [('88_000.bin', 56)]}), defaultdict(<class 'list'>, {'the': [('79_000.bin', 0)], 'johnston': [('79_000.bin', 104)], 'applied': [('79_000.bin', 108)], 'abatement': [('79_000.bin', 112)], 'iowa': [('79_000.bin', 116)], 'awk': [('79_000.bin', 120)], 'battler': [('79_000.bin', 124)], 'ānanda': [('79_000.bin', 128)], 'absalon': [('79_000.bin', 132)], 'canterbury': [('79_000.bin', 136)], 'alkaloid': [('79_000.bin', 144)]}), defaultdict(<class 'list'>, {'law': [('100_000.bin', 0)], 'adventure': [('100_000.bin', 12)], 'ankara': [('100_000.bin', 16)], 'andrey': [('100_000.bin', 20)], 'afterlife': [('100_000.bin', 24)], 'ambrose': [('100_000.bin', 28)], 'wallace': [('100_000.bin', 40)], 'ahmad': [('100_000.bin', 44)], 'road': [('100_000.bin', 52)], 'algebra': [('100_000.bin', 56)], 'regularity': [('100_000.bin', 60)], 'abcd': [('100_000.bin', 64)], 'stress': [('100_000.bin', 68)], 'ayahuasca': [('100_000.bin', 72)], \"o'hanlon\": [('100_000.bin', 76)]}), defaultdict(<class 'list'>, {'court': [('111_000.bin', 0)], 'modulation': [('111_000.bin', 4)], 'margrave': [('111_000.bin', 8)], 'adaptive': [('111_000.bin', 12)], 'agarose': [('111_000.bin', 16)], 'cardinals': [('111_000.bin', 20)], 'alford': [('111_000.bin', 24)]}), defaultdict(<class 'list'>, {'arraignment': [('27_000.bin', 0)], 'andrei': [('27_000.bin', 4)], 'speer': [('27_000.bin', 8)], 'amalric': [('27_000.bin', 12)], 'aotus': [('27_000.bin', 24)], 'effect': [('27_000.bin', 28)]}), defaultdict(<class 'list'>, {'assistive': [('34_000.bin', 0)], 'alfons': [('34_000.bin', 4)], 'anarcho-capitalism': [('34_000.bin', 8)], 'carrel': [('34_000.bin', 12)], 'project': [('34_000.bin', 16)], 'anbar': [('34_000.bin', 20)], 'adrian': [('34_000.bin', 24)], 'abraxas': [('34_000.bin', 28)], 'amarasimha': [('34_000.bin', 32)], 'apuleius': [('34_000.bin', 36)], 'amitabh': [('34_000.bin', 40)], 'spalding': [('34_000.bin', 44)], 'aeon': [('34_000.bin', 48)], 'comparison': [('34_000.bin', 52)]}), defaultdict(<class 'list'>, {'technology': [('86_000.bin', 0)], 'cavefish': [('86_000.bin', 4)], 'theory': [('86_000.bin', 8)], 'pius': [('86_000.bin', 12)], 'antonio': [('86_000.bin', 16)], 'hellespont': [('86_000.bin', 32)], 'lille': [('86_000.bin', 36)], 'abijah': [('86_000.bin', 40)]}), defaultdict(<class 'list'>, {'abacus': [('21_000.bin', 0)], 'arslan': [('21_000.bin', 4)], 'and': [('21_000.bin', 8)], 'gide': [('21_000.bin', 60)], 'language': [('21_000.bin', 64)], 'alcott': [('21_000.bin', 88)], 'abu': [('21_000.bin', 92)], 'mythology': [('21_000.bin', 104)], 'aon': [('21_000.bin', 108)]}), defaultdict(<class 'list'>, {'national': [('40_000.bin', 0)], 'anthophyta': [('40_000.bin', 8)], 'andy': [('40_000.bin', 12)], 'august': [('40_000.bin', 16)], 'apache': [('40_000.bin', 148)], 'epirus': [('40_000.bin', 152)], 'rhodes': [('40_000.bin', 160)], 'alphonse': [('40_000.bin', 164)], 'gland': [('40_000.bin', 168)], 'company': [('40_000.bin', 172)]}), defaultdict(<class 'list'>, {'modest': [('9_000.bin', 0)], 'archipelago': [('9_000.bin', 4)], 'amazing': [('9_000.bin', 8)], 'arecales': [('9_000.bin', 16)], 'alfonso': [('9_000.bin', 20)], 'lato': [('9_000.bin', 80)], 'sensu': [('9_000.bin', 84)], 'aga': [('9_000.bin', 88)], 'aloe': [('9_000.bin', 96)], 'atlanta': [('9_000.bin', 100)], 'miller': [('9_000.bin', 108)], 'alois': [('9_000.bin', 112)]}), defaultdict(<class 'list'>, {'proposal': [('56_000.bin', 0)], 'aberdeenshire': [('56_000.bin', 4)], 'geography': [('56_000.bin', 8)], 'act': [('56_000.bin', 28)], 'alphonso': [('56_000.bin', 36)], 'approval': [('56_000.bin', 40)], 'count': [('56_000.bin', 44)], 'english': [('56_000.bin', 48)], 'fair': [('56_000.bin', 60)], 'world': [('56_000.bin', 64)], 'arcology': [('56_000.bin', 68)]}), defaultdict(<class 'list'>, {'metal': [('30_000.bin', 0)], 'asteroid': [('30_000.bin', 4)], 'land': [('30_000.bin', 8)], 'ataxia': [('30_000.bin', 12)], 'asa': [('30_000.bin', 16)], 'alabaster': [('30_000.bin', 24)], 'australian': [('30_000.bin', 28)], 'aimoin': [('30_000.bin', 48)], 'ani': [('30_000.bin', 52)], 'weapon': [('30_000.bin', 56)], 'avery': [('30_000.bin', 60)], 'altdorfer': [('30_000.bin', 64)]}), defaultdict(<class 'list'>, {'consequent': [('92_000.bin', 0)], 'aardvark': [('92_000.bin', 4)], 'communion': [('92_000.bin', 8)], 'lovelace': [('92_000.bin', 12)], 'alps': [('92_000.bin', 16)], 'amaranth': [('92_000.bin', 20)], 'acceleration': [('92_000.bin', 24)]}), defaultdict(<class 'list'>, {'ambiguity': [('71_000.bin', 0)], 'orange': [('71_000.bin', 4)], 'antisymmetric': [('71_000.bin', 8)], 'relation': [('71_000.bin', 12)], 'alcibiades': [('71_000.bin', 16)], 'chinese': [('71_000.bin', 20)], 'magnus': [('71_000.bin', 24)], 'asturias': [('71_000.bin', 28)], 'ambros': [('71_000.bin', 32)], 'anah': [('71_000.bin', 36)], 'longjumeau': [('71_000.bin', 40)]}), defaultdict(<class 'list'>, {'asia': [('102_000.bin', 0)], 'transport': [('102_000.bin', 8)], 'alismatales': [('102_000.bin', 20)], 'abbreviation': [('102_000.bin', 24)], 'anagram': [('102_000.bin', 28)], 'asgard': [('102_000.bin', 32)], 'amalasuintha': [('102_000.bin', 36)], 'andreani': [('102_000.bin', 40)], 'aliphatic': [('102_000.bin', 44)]}), defaultdict(<class 'list'>, {'confederation': [('61_000.bin', 0)], 'astronomy': [('61_000.bin', 4)], 'abortion': [('61_000.bin', 8)], 'abner': [('61_000.bin', 12)], 'amplitude': [('61_000.bin', 20)], 'poitiers': [('61_000.bin', 24)], 'capital': [('61_000.bin', 28)], 'acting': [('61_000.bin', 32)]}), defaultdict(<class 'list'>, {'ocean': [('5_000.bin', 0)], 'apple': [('5_000.bin', 4)], 'antigua': [('5_000.bin', 24)], 'aarhus': [('5_000.bin', 44)], 'afro': [('5_000.bin', 48)], 'aleister': [('5_000.bin', 52)], 'orbital': [('5_000.bin', 56)], 'xiii': [('5_000.bin', 60)], 'amazon': [('5_000.bin', 64)], 'traversari': [('5_000.bin', 68)], 'concerning': [('5_000.bin', 72)], 'mcbeal': [('5_000.bin', 76)], 'andreas': [('5_000.bin', 80)], 'geometry': [('5_000.bin', 88)], 'lumière': [('5_000.bin', 96)], 'processing': [('5_000.bin', 100)], 'acn': [('5_000.bin', 104)], 'aston': [('5_000.bin', 108)], 'albrecht': [('5_000.bin', 112)]}), defaultdict(<class 'list'>, {'arthur': [('50_000.bin', 0)], 'foreign': [('50_000.bin', 20)], 'anaconda': [('50_000.bin', 32)], 'ahab': [('50_000.bin', 36)], 'nyse': [('50_000.bin', 40)], 'agate': [('50_000.bin', 44)], 'solzhenitsyn': [('50_000.bin', 48)], 'marcius': [('50_000.bin', 52)], 'antoine': [('50_000.bin', 56)], 'antwerp': [('50_000.bin', 60)], 'ann': [('50_000.bin', 64)], 'series': [('50_000.bin', 72)], 'sid': [('50_000.bin', 80)], 'accusative': [('50_000.bin', 84)], 'felix': [('50_000.bin', 88)]}), defaultdict(<class 'list'>, {'angola': [('33_000.bin', 0)], 'day': [('33_000.bin', 24)], 'batlló': [('33_000.bin', 32)], 'bear': [('33_000.bin', 36)], 'mathematician': [('33_000.bin', 40)], 'jarry': [('33_000.bin', 44)], 'xxiii': [('33_000.bin', 48)]}), defaultdict(<class 'list'>, {'economy': [('49_000.bin', 0)], 'calculating': [('49_000.bin', 20)], 'revolution': [('49_000.bin', 24)], 'cuarón': [('49_000.bin', 32)], 'annales': [('49_000.bin', 36)], 'berry': [('49_000.bin', 40)], 'agasias': [('49_000.bin', 44)], 'agrippina': [('49_000.bin', 48)], 'appletalk': [('49_000.bin', 56)], 'creed': [('49_000.bin', 60)]}), defaultdict(<class 'list'>, {'albert': [('45_000.bin', 0)], 'azincourt': [('45_000.bin', 60)], 'michigan': [('45_000.bin', 64)], 'ark': [('45_000.bin', 72)], 'wellesley': [('45_000.bin', 80)], 'projects': [('45_000.bin', 84)], 'anton': [('45_000.bin', 88)], 'alexandrine': [('45_000.bin', 100)]}), defaultdict(<class 'list'>, {'sidney': [('54_000.bin', 0)], 'film': [('54_000.bin', 4)], 'allen': [('54_000.bin', 8)], 'royal': [('54_000.bin', 12)], 'agrarianism': [('54_000.bin', 20)], 'ambracia': [('54_000.bin', 24)], 'ancus': [('54_000.bin', 28)], 'understanding': [('54_000.bin', 32)], 'missile': [('54_000.bin', 36)], 'electron': [('54_000.bin', 40)]}), defaultdict(<class 'list'>, {'robot': [('85_000.bin', 0)], 'actinopterygii': [('85_000.bin', 4)], 'algorithm': [('85_000.bin', 8)], 'alpha': [('85_000.bin', 12)], 'encephalomyelitis': [('85_000.bin', 32)], 'grothendieck': [('85_000.bin', 36)], 'auguste': [('85_000.bin', 40)]}), defaultdict(<class 'list'>, {'alberta': [('72_000.bin', 0)], 'constellation': [('72_000.bin', 8)], 'allegiance': [('72_000.bin', 20)], 'closed': [('72_000.bin', 24)], 'schweitzer': [('72_000.bin', 28)], 'alan': [('72_000.bin', 32)], 'extreme': [('72_000.bin', 52)], 'alligatoridae': [('72_000.bin', 56)], 'anaximenes': [('72_000.bin', 60)], 'smith': [('72_000.bin', 68)], 'university': [('72_000.bin', 72)], 'texas': [('72_000.bin', 84)], 'maillol': [('72_000.bin', 88)], 'anode': [('72_000.bin', 92)]}), defaultdict(<class 'list'>, {'afghanistan': [('38_000.bin', 0)], 'alexander': [('38_000.bin', 4)], 'plague': [('38_000.bin', 124)], 'france': [('38_000.bin', 128)], 'animism': [('38_000.bin', 132)], 'ainu': [('38_000.bin', 136)], 'alcmene': [('38_000.bin', 140)], 'angula': [('38_000.bin', 144)], 'afrikaans': [('38_000.bin', 148)], 'amstrad': [('38_000.bin', 152)], 'abbe': [('38_000.bin', 156)]}), defaultdict(<class 'list'>, {'albania': [('25_000.bin', 0)], 'korzybski': [('25_000.bin', 4)], 'poverty': [('25_000.bin', 8)], 'antarctica': [('25_000.bin', 12)], 'andrea': [('25_000.bin', 20)], 'medicine': [('25_000.bin', 28)], 'annealing': [('25_000.bin', 32)], 'archery': [('25_000.bin', 36)], 'league': [('25_000.bin', 40)], 'aphasia': [('25_000.bin', 48)], 'ælle': [('25_000.bin', 52)], 'andhra': [('25_000.bin', 56)], 'ascania': [('25_000.bin', 60)]}), defaultdict(<class 'list'>, {'allah': [('36_000.bin', 0)], 'game': [('36_000.bin', 4)], 'abbess': [('36_000.bin', 16)], 'anchor': [('36_000.bin', 20)], 'grace': [('36_000.bin', 24)], 'angelos': [('36_000.bin', 28)], 'andocides': [('36_000.bin', 32)], 'navis': [('36_000.bin', 36)], 'atari': [('36_000.bin', 40)]}), defaultdict(<class 'list'>, {'amateur': [('98_000.bin', 0)], 'anime': [('98_000.bin', 8)], 'arne': [('98_000.bin', 12)], '1990': [('98_000.bin', 16)], 'anadyr': [('98_000.bin', 20)], 'iii': [('98_000.bin', 24)], 'actium': [('98_000.bin', 76)], 'union': [('98_000.bin', 80)], 'ablative': [('98_000.bin', 84)], 'tales': [('98_000.bin', 88)]}), defaultdict(<class 'list'>, {'aikido': [('17_000.bin', 0)], 'advanced': [('17_000.bin', 4)], 'area': [('17_000.bin', 16)], 'actaeon': [('17_000.bin', 24)], 'albertosaurus': [('17_000.bin', 28)], 'dasyproctidae': [('17_000.bin', 32)], 'alarums': [('17_000.bin', 36)], 'puy': [('17_000.bin', 40)], 'alvar': [('17_000.bin', 44)], 'vespucci': [('17_000.bin', 48)], 'tridgell': [('17_000.bin', 52)], 'basic': [('17_000.bin', 56)], 'martin': [('17_000.bin', 60)], 'port': [('17_000.bin', 64)], 'alzheimer': [('17_000.bin', 68)]}), defaultdict(<class 'list'>, {'agnostida': [('8_000.bin', 0)], 'ancyra': [('8_000.bin', 4)], 'adhesive': [('8_000.bin', 8)]}), defaultdict(<class 'list'>, {'abstract': [('95_000.bin', 0)], 'altenberg': [('95_000.bin', 8)], 'armenia': [('95_000.bin', 12)], 'athene': [('95_000.bin', 40)], 'augustus': [('95_000.bin', 44)], 'agliardi': [('95_000.bin', 48)], 'ambrosius': [('95_000.bin', 52)]}), defaultdict(<class 'list'>, {'ampere': [('97_000.bin', 0)], 'akira': [('97_000.bin', 4)], 'spain': [('97_000.bin', 8)], 'affix': [('97_000.bin', 12)], 'electrophoresis': [('97_000.bin', 16)], 'fleming': [('97_000.bin', 20)], 'morita': [('97_000.bin', 24)]}), defaultdict(<class 'list'>, {'plant': [('74_000.bin', 0)], 'ashmore': [('74_000.bin', 4)], 'andré-marie': [('74_000.bin', 8)], 'excursions': [('74_000.bin', 12)], 'antigen': [('74_000.bin', 16)], 'covenant': [('74_000.bin', 20)]}), defaultdict(<class 'list'>, {'asteroids': [('44_000.bin', 0)], 'anna': [('44_000.bin', 4)], 'island': [('44_000.bin', 8)], 'amber': [('44_000.bin', 12)], 'arminianism': [('44_000.bin', 24)], 'milà': [('44_000.bin', 28)], 'adventures': [('44_000.bin', 32)], 'bena': [('44_000.bin', 36)], 'extension': [('44_000.bin', 40)], 'sussex': [('44_000.bin', 44)], 'albion': [('44_000.bin', 48)], 'micro': [('44_000.bin', 52)]}), defaultdict(<class 'list'>, {'asparagales': [('22_000.bin', 0)], 'acoustic': [('22_000.bin', 4)], 'town': [('22_000.bin', 12)], 'autosome': [('22_000.bin', 16)], 'current': [('22_000.bin', 20)], 'armour': [('22_000.bin', 24)], 'abiotic': [('22_000.bin', 28)], 'victor': [('22_000.bin', 32)]}), defaultdict(<class 'list'>, {'asterism': [('63_000.bin', 0)], 'aristophanes': [('63_000.bin', 4)], 'aphrodite': [('63_000.bin', 8)], 'apatosaurus': [('63_000.bin', 12)], 'agathon': [('63_000.bin', 16)], 'audio': [('63_000.bin', 20)]}), defaultdict(<class 'list'>, {'arabic': [('70_000.bin', 0)], 'aaron': [('70_000.bin', 12)], 'software': [('70_000.bin', 16)], 'kay': [('70_000.bin', 20)], \"alice's\": [('70_000.bin', 24)], 'acre': [('70_000.bin', 28)], 'argo': [('70_000.bin', 32)]}), defaultdict(<class 'list'>, {'hitchcock': [('26_000.bin', 0)], 'abba': [('26_000.bin', 4)], 'sign': [('26_000.bin', 8)], 'greece': [('26_000.bin', 12)], 'lydia': [('26_000.bin', 16)], 'autpert': [('26_000.bin', 20)], 'radiation': [('26_000.bin', 24)], 'front': [('26_000.bin', 28)], 'autobiography': [('26_000.bin', 32)]}), defaultdict(<class 'list'>, {'altaic': [('120_000.bin', 0)], 'force': [('120_000.bin', 4)], 'apl': [('120_000.bin', 8)], 'amram': [('120_000.bin', 16)], 'jordan': [('120_000.bin', 20)], 'tunnel': [('120_000.bin', 24)], 'actinide': [('120_000.bin', 28)], 'akio': [('120_000.bin', 32)]}), defaultdict(<class 'list'>, {'austrian': [('20_000.bin', 0)], 'maria': [('20_000.bin', 8)], 'toffler': [('20_000.bin', 12)], 'agatha': [('20_000.bin', 16)], 'azerbaijani': [('20_000.bin', 20)], 'line': [('20_000.bin', 24)], 'state': [('20_000.bin', 28)], 'brontë': [('20_000.bin', 32)], 'sayyaf': [('20_000.bin', 36)], 'military': [('20_000.bin', 40)], 'hopwood': [('20_000.bin', 44)], 'antidepressant': [('20_000.bin', 48)]}), defaultdict(<class 'list'>, {'german': [('4_000.bin', 0)], 'aspect': [('4_000.bin', 4)], 'abscess': [('4_000.bin', 8)], 'sound': [('4_000.bin', 12)], 'álfheimr': [('4_000.bin', 16)], 'severus': [('4_000.bin', 20)], 'anacharsis': [('4_000.bin', 24)], 'auriga': [('4_000.bin', 28)], 'tasman': [('4_000.bin', 32)], 'falcons': [('4_000.bin', 36)]}), defaultdict(<class 'list'>, {'axiom': [('112_000.bin', 0)], 'ginsberg': [('112_000.bin', 12)], 'automorphism': [('112_000.bin', 16)], 'ammonia': [('112_000.bin', 20)], 'akkadian': [('112_000.bin', 24)], 'andrew': [('112_000.bin', 28)], 'ambrosiaster': [('112_000.bin', 52)], 'jerusalem': [('112_000.bin', 56)], 'resistance': [('112_000.bin', 60)], 'vehicle': [('112_000.bin', 64)], 'western': [('112_000.bin', 68)]}), defaultdict(<class 'list'>, {'choice': [('42_000.bin', 0)], 'aeronautics': [('42_000.bin', 4)], 'succession': [('42_000.bin', 8)], 'aagesen': [('42_000.bin', 12)]}), defaultdict(<class 'list'>, {'attila': [('119_000.bin', 0)], 'system': [('119_000.bin', 4)], 'program': [('119_000.bin', 12)], 'asl': [('119_000.bin', 16)], 'abc': [('119_000.bin', 20)], 'hominem': [('119_000.bin', 24)]}), defaultdict(<class 'list'>, {'aegean': [('52_000.bin', 0)], 'school': [('52_000.bin', 4)], 'lawson': [('52_000.bin', 12)], 'anno': [('52_000.bin', 16)], 'aeneas': [('52_000.bin', 20)], 'algiers': [('52_000.bin', 24)], 'beverley': [('52_000.bin', 28)], 'ægir': [('52_000.bin', 32)], 'amway': [('52_000.bin', 36)], 'liberties': [('52_000.bin', 40)], 'folklore': [('52_000.bin', 44)], 'a360media': [('52_000.bin', 48)], 'widdecombe': [('52_000.bin', 52)], 'arc': [('52_000.bin', 56)], 'second': [('52_000.bin', 60)]}), defaultdict(<class 'list'>, {'amsterdam': [('48_000.bin', 0)], 'van': [('48_000.bin', 4)], 'merania': [('48_000.bin', 8)], 'aikin': [('48_000.bin', 12)], 'abzyme': [('48_000.bin', 16)], 'al-qaeda': [('48_000.bin', 20)], 'cpc': [('48_000.bin', 24)], 'eddington': [('48_000.bin', 28)], 'armored': [('48_000.bin', 32)]}), defaultdict(<class 'list'>, {'museum': [('94_000.bin', 0)], 'apiaceae': [('94_000.bin', 4)], 'applet': [('94_000.bin', 8)], 'balas': [('94_000.bin', 12)], 'dynasty': [('94_000.bin', 16)], 'ammianus': [('94_000.bin', 20)], 'ampicillin': [('94_000.bin', 24)], 'car': [('94_000.bin', 28)]}), defaultdict(<class 'list'>, {'work': [('12_000.bin', 0)], 'graham': [('12_000.bin', 4)], 'anatoly': [('12_000.bin', 8)], 'ardipithecus': [('12_000.bin', 12)], 'johnson': [('12_000.bin', 16)], 'hijacking': [('12_000.bin', 20)], 'adamic': [('12_000.bin', 24)], 'antibody': [('12_000.bin', 28)], 'berg': [('12_000.bin', 32)]}), defaultdict(<class 'list'>, {'inc': [('64_000.bin', 0)], 'ethics': [('64_000.bin', 8)], 'aleksandr': [('64_000.bin', 12)], 'anita': [('64_000.bin', 16)], 'aalen': [('64_000.bin', 20)]}), defaultdict(<class 'list'>, {'aztlan': [('29_000.bin', 0)], 'almond': [('29_000.bin', 4)], 'defence': [('29_000.bin', 8)], 'antisemitism': [('29_000.bin', 12)], 'samoa': [('29_000.bin', 20)], 'athens': [('29_000.bin', 32)], 'antarctic': [('29_000.bin', 40)], 'ealdred': [('29_000.bin', 48)], 'jannaeus': [('29_000.bin', 52)], 'alexios': [('29_000.bin', 56)], 'ambergris': [('29_000.bin', 72)], 'allotropy': [('29_000.bin', 76)], 'approximant': [('29_000.bin', 80)], 'airline': [('29_000.bin', 84)], 'atlantis': [('29_000.bin', 88)], 'armenian': [('29_000.bin', 92)], 'diabelli': [('29_000.bin', 96)]}), defaultdict(<class 'list'>, {'civil': [('110_000.bin', 0)], 'prince': [('110_000.bin', 8)], 'associative': [('110_000.bin', 12)], 'tree': [('110_000.bin', 20)], 'anti-aircraft': [('110_000.bin', 24)]}), defaultdict(<class 'list'>, {'ancient': [('123_000.bin', 0)], 'asteraceae': [('123_000.bin', 8)], 'municipality': [('123_000.bin', 12)], 'andes': [('123_000.bin', 16)], 'domini': [('123_000.bin', 20)], 'borders': [('123_000.bin', 24)], 'adder': [('123_000.bin', 28)], 'portugal': [('123_000.bin', 32)], 'anglo-saxon': [('123_000.bin', 56)], 'case': [('123_000.bin', 60)], 'adventism': [('123_000.bin', 68)], 'dürer': [('123_000.bin', 72)]}), defaultdict(<class 'list'>, {'brothers': [('68_000.bin', 0)], 'encryption': [('68_000.bin', 4)], 'alcuin': [('68_000.bin', 8)], 'aare': [('68_000.bin', 12)], 'press': [('68_000.bin', 16)], 'amaryllis': [('68_000.bin', 20)], 'saccas': [('68_000.bin', 24)], 'arcadius': [('68_000.bin', 28)], 'john': [('68_000.bin', 32)]}), defaultdict(<class 'list'>, {'neuron': [('78_000.bin', 0)], 'anaximander': [('78_000.bin', 4)], 'astrometry': [('78_000.bin', 8)], 'poet': [('78_000.bin', 12)], 'amati': [('78_000.bin', 16)], 'anti-ballistic': [('78_000.bin', 20)], 'braves': [('78_000.bin', 24)]}), defaultdict(<class 'list'>, {'abjad': [('6_000.bin', 0)], 'disseminated': [('6_000.bin', 4)], 'christie': [('6_000.bin', 8)], 'alexis': [('6_000.bin', 12)], 'assault': [('6_000.bin', 24)], 'age': [('6_000.bin', 32)], 'allophone': [('6_000.bin', 36)], 'astoria': [('6_000.bin', 40)], 'acquire': [('6_000.bin', 44)], 'camp': [('6_000.bin', 48)], 'aristide': [('6_000.bin', 52)], 'arene': [('6_000.bin', 56)]}), defaultdict(<class 'list'>, {'arsenic': [('57_000.bin', 0)], 'miss': [('57_000.bin', 4)], 'abduction': [('57_000.bin', 8)], 'acropolis': [('57_000.bin', 12)], 'canova': [('57_000.bin', 20)], 'lists': [('57_000.bin', 24)]}), defaultdict(<class 'list'>, {'americium': [('47_000.bin', 0)], 'atom': [('47_000.bin', 4)], 'aol': [('47_000.bin', 8)], 'ailanthus': [('47_000.bin', 12)], 'aphrodisias': [('47_000.bin', 16)], 'allele': [('47_000.bin', 20)], 'athanasian': [('47_000.bin', 24)], 'against': [('47_000.bin', 28)]}), defaultdict(<class 'list'>, {'barbuda': [('73_000.bin', 0)], 'alternate': [('73_000.bin', 20)], 'ambrosians': [('73_000.bin', 24)], 'tralles': [('73_000.bin', 28)], 'heathenry': [('73_000.bin', 32)], 'drexler': [('73_000.bin', 36)], 'action': [('73_000.bin', 40)]}), defaultdict(<class 'list'>, {'aramaic': [('24_000.bin', 0)], 'value': [('24_000.bin', 8)], 'adenosine': [('24_000.bin', 12)], 'natural': [('24_000.bin', 16)], 'arabs': [('24_000.bin', 20)], 'additive': [('24_000.bin', 24)], 'analgesic': [('24_000.bin', 28)]}), defaultdict(<class 'list'>, {'signal': [('13_000.bin', 0)], 'athena': [('13_000.bin', 8)], 'treaty': [('13_000.bin', 12)], 'ames': [('13_000.bin', 16)], 'abdominal': [('13_000.bin', 20)], 'agis': [('13_000.bin', 24)], 'alexei': [('13_000.bin', 28)], 'cyrrhus': [('13_000.bin', 32)], 'atmosphere': [('13_000.bin', 36)], 'ayckbourn': [('13_000.bin', 40)]}), defaultdict(<class 'list'>, {'souls': [('3_000.bin', 0)], 'telecommunications': [('3_000.bin', 4)], 'unit': [('3_000.bin', 12)], 'word': [('3_000.bin', 20)], 'aromatic': [('3_000.bin', 24)], \"meier's\": [('3_000.bin', 28)], 'valley': [('3_000.bin', 32)]}), defaultdict(<class 'list'>, {'garner': [('1_000.bin', 0)], 'enquiry': [('1_000.bin', 4)], 'crandall': [('1_000.bin', 8)], 'automatic': [('1_000.bin', 12)], 'license': [('1_000.bin', 16)]}), defaultdict(<class 'list'>, {'artificial': [('108_000.bin', 0)], 'amide': [('108_000.bin', 8)], 'ayer': [('108_000.bin', 12)], 'ares': [('108_000.bin', 16)], 'data': [('108_000.bin', 20)]}), defaultdict(<class 'list'>, {'surgery': [('19_000.bin', 0)], 'york': [('19_000.bin', 4)], 'alexius': [('19_000.bin', 8)], 'actinophryid': [('19_000.bin', 12)], 'aeschylus': [('19_000.bin', 16)], 'afghan': [('19_000.bin', 20)]}), defaultdict(<class 'list'>, {'bronson': [('14_000.bin', 0)], 'volta': [('14_000.bin', 4)], 'ansible': [('14_000.bin', 8)]}), defaultdict(<class 'list'>, {'asic': [('117_000.bin', 0)], 'planthopper': [('117_000.bin', 4)], 'from': [('117_000.bin', 8)], 'leng': [('117_000.bin', 12)]}), defaultdict(<class 'list'>, {'brandenburg': [('106_000.bin', 0)], 'pherae': [('106_000.bin', 4)], 'aurelianus': [('106_000.bin', 8)], 'ammon': [('106_000.bin', 12)], 'arthritis': [('106_000.bin', 16)], 'anne': [('106_000.bin', 20)], 'al-omari': [('106_000.bin', 24)]}), defaultdict(<class 'list'>, {'russia': [('101_000.bin', 0)], 'andaman': [('101_000.bin', 8)], 'adhemar': [('101_000.bin', 12)], 'accelerated': [('101_000.bin', 16)], 'auger': [('101_000.bin', 20)]})]\n"
          ]
        }
      ]
    },
    {
      "cell_type": "code",
      "source": [
        "def calculate_df(postings):\n",
        "  ''' Takes a posting list RDD and calculate the df for each token.\n",
        "  Parameters:\n",
        "  -----------\n",
        "    postings: RDD\n",
        "      An RDD where each element is a (token, posting_list) pair.\n",
        "  Returns:\n",
        "  --------\n",
        "    RDD\n",
        "      An RDD where each element is a (token, df) pair.\n",
        "  '''\n",
        "  # YOUR CODE HERE\n",
        "  def to_df(posting):\n",
        "    return (posting[0], len(posting[1]))\n",
        "\n",
        "  return postings.map(to_df)"
      ],
      "metadata": {
        "id": "fSCgXAIXHN-h"
      },
      "execution_count": 147,
      "outputs": []
    },
    {
      "cell_type": "code",
      "source": [
        "# global statistics\n",
        "w2df = calculate_df(postings)\n",
        "w2df_dict = w2df.collectAsMap()"
      ],
      "metadata": {
        "id": "fLOqHG_kHe7u"
      },
      "execution_count": 149,
      "outputs": []
    },
    {
      "cell_type": "code",
      "source": [
        "# merge the posting locations into a single dict and run more tests (5 points)\n",
        "super_posting_locs = defaultdict(list)\n",
        "for posting_loc in posting_locs_list:\n",
        "  for k, v in posting_loc.items():\n",
        "    super_posting_locs[k].extend(v)"
      ],
      "metadata": {
        "id": "Z-TQVmYko7Ls"
      },
      "execution_count": 142,
      "outputs": []
    },
    {
      "cell_type": "code",
      "source": [
        "# Create inverted index instance\n",
        "inverted = InvertedIndex()\n",
        "# Adding the posting locations dictionary to the inverted index\n",
        "inverted.posting_locs = super_posting_locs\n",
        "# Add the token - df dictionary to the inverted index\n",
        "inverted.df = w2df_dict\n",
        "# write the global stats out\n",
        "inverted.write_index('.', 'index')"
      ],
      "metadata": {
        "id": "N34GUpPvFi1Y"
      },
      "execution_count": 150,
      "outputs": []
    },
    {
      "cell_type": "code",
      "source": [
        "TUPLE_SIZE = 4       \n",
        "TF_MASK = 2 ** 16 - 1 # Masking the 16 low bits of an integer\n",
        "from contextlib import closing\n",
        "\n",
        "def read_posting_list(inverted, w):\n",
        "  with closing(MultiFileReader()) as reader:\n",
        "    locs = inverted.posting_locs[w]\n",
        "    b = reader.read(locs, inverted.df[w] * TUPLE_SIZE)\n",
        "    posting_list = []\n",
        "    for i in range(inverted.df[w]):\n",
        "      doc_id = int.from_bytes(b[i*TUPLE_SIZE:i*TUPLE_SIZE+4], 'big')\n",
        "      posting_list.append(doc_id)\n",
        "    return posting_list"
      ],
      "metadata": {
        "id": "rEsSaeXAGR6u"
      },
      "execution_count": 151,
      "outputs": []
    },
    {
      "cell_type": "code",
      "source": [
        "pl = read_posting_list(inverted, 'alabama')\n",
        "print(pl)"
      ],
      "metadata": {
        "id": "TZ7j5sZVGTcB",
        "outputId": "3d8a4c89-cd21-4e01-e098-e59c295eca35",
        "colab": {
          "base_uri": "https://localhost:8080/"
        }
      },
      "execution_count": 153,
      "outputs": [
        {
          "output_type": "stream",
          "name": "stdout",
          "text": [
            "[303, 1285, 1286, 1484]\n"
          ]
        }
      ]
    }
  ]
}