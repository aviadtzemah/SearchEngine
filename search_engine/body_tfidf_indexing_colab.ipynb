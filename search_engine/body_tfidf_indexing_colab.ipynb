{
  "nbformat": 4,
  "nbformat_minor": 0,
  "metadata": {
    "colab": {
      "name": "text_tfidf_indexing.ipynb",
      "provenance": [],
      "collapsed_sections": []
    },
    "kernelspec": {
      "name": "python3",
      "display_name": "Python 3"
    },
    "language_info": {
      "name": "python"
    }
  },
  "cells": [
    {
      "cell_type": "code",
      "execution_count": 79,
      "metadata": {
        "colab": {
          "base_uri": "https://localhost:8080/"
        },
        "id": "K1LKwjRt-9nn",
        "outputId": "5d85335f-c79c-442f-815a-73debc693e3b"
      },
      "outputs": [
        {
          "output_type": "stream",
          "name": "stdout",
          "text": [
            "[nltk_data] Downloading package stopwords to /root/nltk_data...\n",
            "[nltk_data]   Package stopwords is already up-to-date!\n"
          ]
        }
      ],
      "source": [
        "import sys\n",
        "from collections import Counter, OrderedDict\n",
        "import itertools\n",
        "from itertools import islice, count, groupby\n",
        "import pandas as pd\n",
        "import os\n",
        "import re\n",
        "from operator import itemgetter\n",
        "import nltk\n",
        "from nltk.stem.porter import *\n",
        "from nltk.corpus import stopwords\n",
        "from time import time\n",
        "from timeit import timeit\n",
        "from pathlib import Path\n",
        "import pickle\n",
        "import pandas as pd\n",
        "import numpy as np\n",
        "from google.cloud import storage\n",
        "\n",
        "import hashlib\n",
        "def _hash(s):\n",
        "    return hashlib.blake2b(bytes(s, encoding='utf8'), digest_size=5).hexdigest()\n",
        "\n",
        "nltk.download('stopwords')\n",
        "\n",
        "from body_inverted_index_colab import *"
      ]
    },
    {
      "cell_type": "code",
      "source": [
        "# These will already be installed in the testing environment so disregard the \n",
        "# amount of time (~1 minute) it takes to install. \n",
        "!pip install -q pyspark\n",
        "!pip install -U -q PyDrive\n",
        "!apt-get update\n",
        "!apt install openjdk-8-jdk-headless -qq \n",
        "!pip install -q graphframes\n",
        "import os\n",
        "os.environ[\"JAVA_HOME\"] = \"/usr/lib/jvm/java-8-openjdk-amd64\"\n",
        "graphframes_jar = 'https://repos.spark-packages.org/graphframes/graphframes/0.8.2-spark3.2-s_2.12/graphframes-0.8.2-spark3.2-s_2.12.jar'\n",
        "spark_jars = '/usr/local/lib/python3.7/dist-packages/pyspark/jars'\n",
        "!wget -N -P $spark_jars $graphframes_jar"
      ],
      "metadata": {
        "colab": {
          "base_uri": "https://localhost:8080/"
        },
        "id": "sIRJoc5o_Db2",
        "outputId": "573fb4b5-c4fa-44da-9d2a-50f771859b3a"
      },
      "execution_count": 2,
      "outputs": [
        {
          "output_type": "stream",
          "name": "stdout",
          "text": [
            "\u001b[K     |████████████████████████████████| 281.3 MB 41 kB/s \n",
            "\u001b[K     |████████████████████████████████| 198 kB 46.1 MB/s \n",
            "\u001b[?25h  Building wheel for pyspark (setup.py) ... \u001b[?25l\u001b[?25hdone\n",
            "Get:1 https://cloud.r-project.org/bin/linux/ubuntu bionic-cran40/ InRelease [3,626 B]\n",
            "Ign:2 https://developer.download.nvidia.com/compute/cuda/repos/ubuntu1804/x86_64  InRelease\n",
            "Get:3 http://security.ubuntu.com/ubuntu bionic-security InRelease [88.7 kB]\n",
            "Ign:4 https://developer.download.nvidia.com/compute/machine-learning/repos/ubuntu1804/x86_64  InRelease\n",
            "Hit:5 https://developer.download.nvidia.com/compute/cuda/repos/ubuntu1804/x86_64  Release\n",
            "Hit:6 https://developer.download.nvidia.com/compute/machine-learning/repos/ubuntu1804/x86_64  Release\n",
            "Get:7 http://ppa.launchpad.net/c2d4u.team/c2d4u4.0+/ubuntu bionic InRelease [15.9 kB]\n",
            "Hit:9 http://archive.ubuntu.com/ubuntu bionic InRelease\n",
            "Get:11 http://archive.ubuntu.com/ubuntu bionic-updates InRelease [88.7 kB]\n",
            "Hit:12 http://ppa.launchpad.net/cran/libgit2/ubuntu bionic InRelease\n",
            "Get:13 http://security.ubuntu.com/ubuntu bionic-security/main amd64 Packages [2,489 kB]\n",
            "Hit:14 http://archive.ubuntu.com/ubuntu bionic-backports InRelease\n",
            "Get:15 http://archive.ubuntu.com/ubuntu bionic-updates/multiverse amd64 Packages [34.5 kB]\n",
            "Get:16 http://archive.ubuntu.com/ubuntu bionic-updates/universe amd64 Packages [2,238 kB]\n",
            "Get:17 http://security.ubuntu.com/ubuntu bionic-security/multiverse amd64 Packages [26.8 kB]\n",
            "Get:18 http://security.ubuntu.com/ubuntu bionic-security/restricted amd64 Packages [716 kB]\n",
            "Get:19 http://security.ubuntu.com/ubuntu bionic-security/universe amd64 Packages [1,459 kB]\n",
            "Get:20 http://ppa.launchpad.net/deadsnakes/ppa/ubuntu bionic InRelease [15.9 kB]\n",
            "Get:21 http://archive.ubuntu.com/ubuntu bionic-updates/restricted amd64 Packages [749 kB]\n",
            "Get:22 http://archive.ubuntu.com/ubuntu bionic-updates/main amd64 Packages [2,927 kB]\n",
            "Get:23 http://ppa.launchpad.net/graphics-drivers/ppa/ubuntu bionic InRelease [21.3 kB]\n",
            "Get:24 http://ppa.launchpad.net/c2d4u.team/c2d4u4.0+/ubuntu bionic/main Sources [1,822 kB]\n",
            "Get:25 http://ppa.launchpad.net/c2d4u.team/c2d4u4.0+/ubuntu bionic/main amd64 Packages [934 kB]\n",
            "Get:26 http://ppa.launchpad.net/deadsnakes/ppa/ubuntu bionic/main amd64 Packages [45.3 kB]\n",
            "Get:27 http://ppa.launchpad.net/graphics-drivers/ppa/ubuntu bionic/main amd64 Packages [44.7 kB]\n",
            "Fetched 13.7 MB in 13s (1,089 kB/s)\n",
            "Reading package lists... Done\n",
            "The following additional packages will be installed:\n",
            "  openjdk-8-jre-headless\n",
            "Suggested packages:\n",
            "  openjdk-8-demo openjdk-8-source libnss-mdns fonts-dejavu-extra\n",
            "  fonts-ipafont-gothic fonts-ipafont-mincho fonts-wqy-microhei\n",
            "  fonts-wqy-zenhei fonts-indic\n",
            "The following NEW packages will be installed:\n",
            "  openjdk-8-jdk-headless openjdk-8-jre-headless\n",
            "0 upgraded, 2 newly installed, 0 to remove and 59 not upgraded.\n",
            "Need to get 36.5 MB of archives.\n",
            "After this operation, 143 MB of additional disk space will be used.\n",
            "Selecting previously unselected package openjdk-8-jre-headless:amd64.\n",
            "(Reading database ... 155225 files and directories currently installed.)\n",
            "Preparing to unpack .../openjdk-8-jre-headless_8u312-b07-0ubuntu1~18.04_amd64.deb ...\n",
            "Unpacking openjdk-8-jre-headless:amd64 (8u312-b07-0ubuntu1~18.04) ...\n",
            "Selecting previously unselected package openjdk-8-jdk-headless:amd64.\n",
            "Preparing to unpack .../openjdk-8-jdk-headless_8u312-b07-0ubuntu1~18.04_amd64.deb ...\n",
            "Unpacking openjdk-8-jdk-headless:amd64 (8u312-b07-0ubuntu1~18.04) ...\n",
            "Setting up openjdk-8-jre-headless:amd64 (8u312-b07-0ubuntu1~18.04) ...\n",
            "update-alternatives: using /usr/lib/jvm/java-8-openjdk-amd64/jre/bin/orbd to provide /usr/bin/orbd (orbd) in auto mode\n",
            "update-alternatives: using /usr/lib/jvm/java-8-openjdk-amd64/jre/bin/servertool to provide /usr/bin/servertool (servertool) in auto mode\n",
            "update-alternatives: using /usr/lib/jvm/java-8-openjdk-amd64/jre/bin/tnameserv to provide /usr/bin/tnameserv (tnameserv) in auto mode\n",
            "Setting up openjdk-8-jdk-headless:amd64 (8u312-b07-0ubuntu1~18.04) ...\n",
            "update-alternatives: using /usr/lib/jvm/java-8-openjdk-amd64/bin/idlj to provide /usr/bin/idlj (idlj) in auto mode\n",
            "update-alternatives: using /usr/lib/jvm/java-8-openjdk-amd64/bin/wsimport to provide /usr/bin/wsimport (wsimport) in auto mode\n",
            "update-alternatives: using /usr/lib/jvm/java-8-openjdk-amd64/bin/jsadebugd to provide /usr/bin/jsadebugd (jsadebugd) in auto mode\n",
            "update-alternatives: using /usr/lib/jvm/java-8-openjdk-amd64/bin/native2ascii to provide /usr/bin/native2ascii (native2ascii) in auto mode\n",
            "update-alternatives: using /usr/lib/jvm/java-8-openjdk-amd64/bin/javah to provide /usr/bin/javah (javah) in auto mode\n",
            "update-alternatives: using /usr/lib/jvm/java-8-openjdk-amd64/bin/hsdb to provide /usr/bin/hsdb (hsdb) in auto mode\n",
            "update-alternatives: using /usr/lib/jvm/java-8-openjdk-amd64/bin/clhsdb to provide /usr/bin/clhsdb (clhsdb) in auto mode\n",
            "update-alternatives: using /usr/lib/jvm/java-8-openjdk-amd64/bin/xjc to provide /usr/bin/xjc (xjc) in auto mode\n",
            "update-alternatives: using /usr/lib/jvm/java-8-openjdk-amd64/bin/schemagen to provide /usr/bin/schemagen (schemagen) in auto mode\n",
            "update-alternatives: using /usr/lib/jvm/java-8-openjdk-amd64/bin/extcheck to provide /usr/bin/extcheck (extcheck) in auto mode\n",
            "update-alternatives: using /usr/lib/jvm/java-8-openjdk-amd64/bin/jhat to provide /usr/bin/jhat (jhat) in auto mode\n",
            "update-alternatives: using /usr/lib/jvm/java-8-openjdk-amd64/bin/wsgen to provide /usr/bin/wsgen (wsgen) in auto mode\n",
            "\u001b[K     |████████████████████████████████| 154 kB 5.1 MB/s \n",
            "\u001b[?25h--2022-01-06 10:49:16--  https://repos.spark-packages.org/graphframes/graphframes/0.8.2-spark3.2-s_2.12/graphframes-0.8.2-spark3.2-s_2.12.jar\n",
            "Resolving repos.spark-packages.org (repos.spark-packages.org)... 13.226.124.24, 13.226.124.87, 13.226.124.26, ...\n",
            "Connecting to repos.spark-packages.org (repos.spark-packages.org)|13.226.124.24|:443... connected.\n",
            "HTTP request sent, awaiting response... 200 OK\n",
            "Length: 247880 (242K) [binary/octet-stream]\n",
            "Saving to: ‘/usr/local/lib/python3.7/dist-packages/pyspark/jars/graphframes-0.8.2-spark3.2-s_2.12.jar’\n",
            "\n",
            "graphframes-0.8.2-s 100%[===================>] 242.07K  --.-KB/s    in 0.04s   \n",
            "\n",
            "2022-01-06 10:49:16 (6.06 MB/s) - ‘/usr/local/lib/python3.7/dist-packages/pyspark/jars/graphframes-0.8.2-spark3.2-s_2.12.jar’ saved [247880/247880]\n",
            "\n"
          ]
        }
      ]
    },
    {
      "cell_type": "code",
      "source": [
        "import pyspark\n",
        "from pyspark.sql import *\n",
        "from pyspark.sql.functions import *\n",
        "from pyspark import SparkContext, SparkConf\n",
        "from pyspark.sql import SQLContext\n",
        "from pyspark.ml.feature import Tokenizer, RegexTokenizer\n",
        "from graphframes import *"
      ],
      "metadata": {
        "id": "_FhAzmn__ezv"
      },
      "execution_count": 3,
      "outputs": []
    },
    {
      "cell_type": "code",
      "source": [
        "# Initializing spark context\n",
        "# create a spark context and session\n",
        "conf = SparkConf().set(\"spark.ui.port\", \"4050\")\n",
        "sc = pyspark.SparkContext(conf=conf)\n",
        "sc.addPyFile(str(Path(spark_jars) / Path(graphframes_jar).name))\n",
        "spark = SparkSession.builder.getOrCreate()"
      ],
      "metadata": {
        "id": "wiROG1hY_ghF"
      },
      "execution_count": 4,
      "outputs": []
    },
    {
      "cell_type": "code",
      "source": [
        "spark"
      ],
      "metadata": {
        "colab": {
          "base_uri": "https://localhost:8080/",
          "height": 219
        },
        "id": "nerWcAwM_hD9",
        "outputId": "d1f56188-6afd-4ebf-d628-bce1c9a4d8ef"
      },
      "execution_count": 5,
      "outputs": [
        {
          "output_type": "execute_result",
          "data": {
            "text/html": [
              "\n",
              "            <div>\n",
              "                <p><b>SparkSession - in-memory</b></p>\n",
              "                \n",
              "        <div>\n",
              "            <p><b>SparkContext</b></p>\n",
              "\n",
              "            <p><a href=\"http://b6adc4a4fbde:4050\">Spark UI</a></p>\n",
              "\n",
              "            <dl>\n",
              "              <dt>Version</dt>\n",
              "                <dd><code>v3.2.0</code></dd>\n",
              "              <dt>Master</dt>\n",
              "                <dd><code>local[*]</code></dd>\n",
              "              <dt>AppName</dt>\n",
              "                <dd><code>pyspark-shell</code></dd>\n",
              "            </dl>\n",
              "        </div>\n",
              "        \n",
              "            </div>\n",
              "        "
            ],
            "text/plain": [
              "<pyspark.sql.session.SparkSession at 0x7f6fa5315950>"
            ]
          },
          "metadata": {},
          "execution_count": 5
        }
      ]
    },
    {
      "cell_type": "code",
      "source": [
        "# Authenticate your user\n",
        "# The authentication should be done with the email connected to your GCP account\n",
        "from google.colab import auth\n",
        "auth.authenticate_user()\n"
      ],
      "metadata": {
        "id": "dvJ_CUj0_iui"
      },
      "execution_count": 6,
      "outputs": []
    },
    {
      "cell_type": "code",
      "source": [
        "# Copy one wikidumps files \n",
        "import os\n",
        "from pathlib import Path\n",
        "from google.colab import auth\n",
        "\n",
        "project_id = 'core-period-321814'\n",
        "!gcloud config set project {project_id}\n",
        "\n",
        "data_bucket_name = 'wikidata_preprocessed'\n",
        "try:\n",
        "    if os.environ[\"wikidata_preprocessed\"] is not None:\n",
        "        pass  \n",
        "except:\n",
        "      !mkdir wikidumps\n",
        "      !gsutil cp gs://{data_bucket_name}/multistream1_preprocessed.parquet \"wikidumps/\" "
      ],
      "metadata": {
        "colab": {
          "base_uri": "https://localhost:8080/"
        },
        "id": "j8mf6fEx_n-l",
        "outputId": "775f514c-a7de-43a5-de09-d5a9fe01da16"
      },
      "execution_count": 7,
      "outputs": [
        {
          "output_type": "stream",
          "name": "stdout",
          "text": [
            "Updated property [core/project].\n",
            "\u001b[1;33mWARNING:\u001b[0m You do not appear to have access to project [core-period-321814] or it does not exist.\n",
            "Copying gs://wikidata_preprocessed/multistream1_preprocessed.parquet...\n",
            "- [1 files][316.7 MiB/316.7 MiB]                                                \n",
            "Operation completed over 1 objects/316.7 MiB.                                    \n"
          ]
        }
      ]
    },
    {
      "cell_type": "code",
      "source": [
        "from pathlib import Path \n",
        "import os\n",
        "\n",
        "try:\n",
        "    if os.environ[\"wikidata_preprocessed\"] is not None:\n",
        "      path = os.environ[\"wikidata_preprocessed\"]+\"/wikidumps/*\"\n",
        "except:\n",
        "      path = \"wikidumps/*\"\n",
        "\n",
        "parquetFile = spark.read.parquet(path)\n",
        "parquetFile.show()"
      ],
      "metadata": {
        "colab": {
          "base_uri": "https://localhost:8080/"
        },
        "id": "e1tJ59Wd_p1z",
        "outputId": "54afe39c-0298-4db9-9eaf-4da48012a25c"
      },
      "execution_count": 8,
      "outputs": [
        {
          "output_type": "stream",
          "name": "stdout",
          "text": [
            "+---+--------------------+--------------------+--------------------+\n",
            "| id|               title|                text|         anchor_text|\n",
            "+---+--------------------+--------------------+--------------------+\n",
            "| 12|           Anarchism|'''Anarchism''' i...|[{23040, politica...|\n",
            "| 25|              Autism|'''Autism''' is a...|[{492271, Clinica...|\n",
            "| 39|              Albedo|thumb|upright=1.3...|[{679294, diffuse...|\n",
            "|290|                   A|'''A''', or '''a'...|[{290, See below}...|\n",
            "|303|             Alabama|'''Alabama''' () ...|[{351590, Yellowh...|\n",
            "|305|            Achilles|thumb|260px|Ancie...|[{1076007, potter...|\n",
            "|307|     Abraham Lincoln|'''Abraham Lincol...|[{1827174, Alexan...|\n",
            "|308|           Aristotle|'''Aristotle''' (...|[{1389981, bust},...|\n",
            "|309|An American in Paris|'''''An American ...|[{13066, George G...|\n",
            "|316|Academy Award for...|The '''Academy Aw...|[{39842, Academy ...|\n",
            "|324|      Academy Awards|The '''Academy Aw...|[{649481, film in...|\n",
            "|330|             Actrius|'''''Actresses'''...|[{5282, Catalan},...|\n",
            "|332|     Animalia (book)|'''''Animalia''''...|[{2511084, Graeme...|\n",
            "|334|International Ato...|'''International ...|[{25453985, atomi...|\n",
            "|336|            Altruism|thumb|Giving alms...|[{657573, alms}, ...|\n",
            "|339|            Ayn Rand|'''Alice O'Connor...|[{24320051, St. P...|\n",
            "|340|        Alain Connes|'''Alain Connes''...|[{1201522, Dragui...|\n",
            "|344|          Allan Dwan|'''Allan Dwan''' ...|[{64646, Toronto}...|\n",
            "|358|             Algeria|'''Algeria''', of...|[{803, Arabic}, {...|\n",
            "|359|List of Atlas Shr...|This is a list of...|[{339, Ayn Rand},...|\n",
            "+---+--------------------+--------------------+--------------------+\n",
            "only showing top 20 rows\n",
            "\n"
          ]
        }
      ]
    },
    {
      "cell_type": "code",
      "source": [
        "# take the 'text' and 'id' or the first 1000 rows and create an RDD from it\n",
        "doc_text_pairs = parquetFile.limit(1000).select(\"text\", \"id\").rdd"
      ],
      "metadata": {
        "id": "E_ejDW7E_7tG"
      },
      "execution_count": 9,
      "outputs": []
    },
    {
      "cell_type": "code",
      "source": [
        "english_stopwords = frozenset(stopwords.words('english'))\n",
        "corpus_stopwords = ['category', 'references', 'also', 'links', 'extenal', 'see', 'thumb']\n",
        "RE_WORD = re.compile(r\"\"\"[\\#\\@\\w](['\\-]?\\w){2,24}\"\"\", re.UNICODE)\n",
        "\n",
        "all_stopwords = english_stopwords.union(corpus_stopwords)\n",
        "\n",
        "def word_tf(text, id):\n",
        "  ''' Count the frequency of each word in `text` (tf) that is not included in \n",
        "  `all_stopwords` and return entries that will go into our posting lists. \n",
        "  Parameters:\n",
        "  -----------\n",
        "    text: str\n",
        "      Text of one document\n",
        "    id: int\n",
        "      Document id\n",
        "  Returns:\n",
        "  --------\n",
        "    List of tuples\n",
        "      A list of (token, (doc_id, tf)) pairs \n",
        "      for example: [(\"Anarchism\", (12, 5)), ...]\n",
        "  '''\n",
        "  tokens = [token.group() for token in RE_WORD.finditer(text.lower())]\n",
        "  # YOUR CODE HERE\n",
        "  count = {}\n",
        "  \n",
        "  doc_length = 0\n",
        "  for token in tokens:\n",
        "    if token not in all_stopwords:\n",
        "      doc_length += 1 # counting only the words that are not stopwords\n",
        "      count[token] = count.get(token, 0) + 1 # counting\n",
        "\n",
        "  if doc_length != 0:\n",
        "    count_list = []\n",
        "    for key in count:\n",
        "      count_list.append((key, (id, (count[key]/doc_length)))) # creating the list and calculating the tf\n",
        "\n",
        "  return count_list"
      ],
      "metadata": {
        "id": "pLEf4jOZA5ac"
      },
      "execution_count": 25,
      "outputs": []
    },
    {
      "cell_type": "code",
      "source": [
        "word_counts = doc_text_pairs.flatMap(lambda x: word_tf(x[0], x[1]))"
      ],
      "metadata": {
        "id": "JHb0c24CBAqJ"
      },
      "execution_count": 26,
      "outputs": []
    },
    {
      "cell_type": "code",
      "source": [
        "print(word_counts.take(10))"
      ],
      "metadata": {
        "colab": {
          "base_uri": "https://localhost:8080/"
        },
        "id": "DRIhpr-VBBf5",
        "outputId": "6dcb4569-04ea-4a9d-ba50-cf9d480ecdee"
      },
      "execution_count": 27,
      "outputs": [
        {
          "output_type": "stream",
          "name": "stdout",
          "text": [
            "[('anarchism', (12, 0.029911462072266092)), ('political', (12, 0.006221584111031347)), ('philosophy', (12, 0.0014357501794687725)), ('movement', (12, 0.005503709021296961)), ('sceptical', (12, 0.00023929169657812874)), ('authority', (12, 0.004307250538406317)), ('rejects', (12, 0.00023929169657812874)), ('involuntary', (12, 0.00023929169657812874)), ('coercive', (12, 0.0004785833931562575)), ('forms', (12, 0.0021536252692031586))]\n"
          ]
        }
      ]
    },
    {
      "cell_type": "code",
      "source": [
        "def reduce_word_counts(unsorted_pl):\n",
        "  ''' Returns a sorted posting list by wiki_id.\n",
        "  Parameters:\n",
        "  -----------\n",
        "    unsorted_pl: list of tuples\n",
        "      A list of (wiki_id, tf) tuples \n",
        "  Returns:\n",
        "  --------\n",
        "    list of tuples\n",
        "      A sorted posting list.\n",
        "  '''\n",
        "  # YOUR CODE HERE\n",
        "  return sorted(unsorted_pl)"
      ],
      "metadata": {
        "id": "J5qPzpm0BMKI"
      },
      "execution_count": 28,
      "outputs": []
    },
    {
      "cell_type": "code",
      "source": [
        "postings = word_counts.groupByKey().mapValues(reduce_word_counts)"
      ],
      "metadata": {
        "id": "uT2a5lNJBNaZ"
      },
      "execution_count": 29,
      "outputs": []
    },
    {
      "cell_type": "code",
      "source": [
        "print(postings.take(10))"
      ],
      "metadata": {
        "colab": {
          "base_uri": "https://localhost:8080/"
        },
        "id": "atJFZczOBOf3",
        "outputId": "604b956a-14fb-4df6-9dd8-94787e57111c"
      },
      "execution_count": 30,
      "outputs": [
        {
          "output_type": "stream",
          "name": "stdout",
          "text": [
            "[('anarchism', [(12, 0.029911462072266092), (339, 0.0014038371548900327), (983, 0.00031308703819661864), (1023, 0.01635563011113441)]), ('political', [(12, 0.006221584111031347), (303, 0.0006037918125830214), (307, 0.002949489984023596), (308, 0.0016189088554314393), (336, 0.000257201646090535), (339, 0.004679457182966776), (358, 0.002224199288256228), (359, 0.0007654037504783774), (569, 0.004679457182966776), (594, 9.845426799251748e-05), (600, 0.001530221882172915), (620, 0.002877321475281193), (624, 0.0006886103842445945), (627, 0.0006185567010309278), (643, 0.003257328990228013), (663, 0.0004409171075837742), (665, 0.0012961762799740765), (676, 0.0002961208172934557), (677, 0.000462962962962963), (689, 0.0008726003490401396), (690, 0.0006754474839581223), (691, 0.002352941176470588), (700, 0.0008038585209003215), (701, 0.003659347970725216), (705, 0.004273504273504274), (706, 0.0005434782608695652), (717, 0.0006263701847792045), (736, 0.0004107338444687842), (737, 0.0010877447425670776), (738, 0.0009751869108245747), (740, 0.0005717552887364208), (746, 0.0012973533990659055), (751, 0.00040306328093510683), (752, 0.001484230055658627), (771, 0.0011420539400860933), (783, 0.000253613999492772), (802, 0.0005206525511975009), (803, 0.00033982782057091076), (808, 0.00013449899125756557), (825, 0.0008695652173913044), (841, 0.0003654970760233918), (842, 0.0011367942402425162), (846, 0.01812688821752266), (854, 0.00032), (857, 0.0012978585334198572), (863, 0.0017246335153779822), (872, 0.0007606876616461281), (874, 0.0008175500749420902), (880, 0.0001114951499609767), (881, 0.0017873100983020554), (888, 0.0003720238095238095), (905, 0.009079118028534372), (911, 0.003115264797507788), (930, 0.0013351134846461949), (931, 0.00022742779167614282), (933, 0.0037313432835820895), (951, 0.001796138302649304), (954, 0.0021963540522732263), (974, 0.00030892801977139327), (981, 0.00016809547823163558), (983, 0.0012523481527864746), (1008, 0.00029682398337785694), (1016, 0.00046533271288971617), (1017, 0.0012479942948832234), (1023, 0.003564688613965192), (1028, 0.0022619782027555007), (1030, 0.004217791411042945), (1036, 0.002173913043478261), (1051, 0.0005227391531625719), (1057, 0.002403846153846154), (1058, 0.0014388489208633094), (1070, 0.0041753653444676405), (1078, 0.002584439889492915), (1087, 0.0005753739930955121), (1093, 0.008928571428571428), (1094, 0.0008007687379884689), (1096, 0.0010362694300518134), (1097, 0.0006611570247933885), (1098, 0.00032536196518626975), (1111, 0.006944444444444444), (1129, 0.0003621876131836291), (1130, 0.0004266211604095563), (1141, 0.00018150467374534896), (1148, 0.0002958579881656805), (1164, 0.00038284839203675346), (1167, 0.0014492753623188406), (1168, 0.0007818608287724785), (1169, 0.004032258064516129), (1171, 0.0005494505494505495), (1174, 0.00019353590090961874), (1175, 0.0010814708002883922), (1177, 0.00046146746654360867), (1182, 0.00021500752526338422), (1192, 0.002824858757062147), (1193, 0.004821213338690237), (1203, 0.0004209640075773521), (1214, 0.00038679731820526046), (1216, 0.000415915707749896), (1217, 0.0004636068613815484), (1227, 0.0014204545454545455), (1235, 0.002857142857142857), (1239, 0.0005279134221987594), (1241, 0.0025974025974025974), (1252, 0.0003465003465003465), (1254, 0.0002744990392533626), (1256, 0.0003176620076238882), (1259, 0.0006828269033799932), (1261, 0.00037936267071320183), (1270, 0.0008333333333333334), (1273, 0.003605769230769231), (1274, 0.0007704160246533128), (1285, 0.0009140767824497258), (1286, 0.001081081081081081), (1288, 0.0003707823507601038), (1298, 0.0007293946024799417), (1305, 0.0008183306055646482), (1306, 0.0003636363636363636), (1316, 0.00395882818685669), (1324, 0.004956629491945477), (1332, 0.00035829451809387314), (1334, 0.00030665440049064706), (1348, 0.0002231644722160232), (1363, 0.0010626992561105207), (1370, 0.0013989274889251574), (1376, 0.0014499758337361043), (1395, 0.0010035122930255895), (1397, 0.00020092425155716296), (1409, 0.0053475935828877), (1417, 0.0009765625), (1438, 0.0005659309564233164), (1442, 0.0008441193021947102), (1461, 0.00042140750105351877), (1486, 0.00043252595155709344), (1490, 0.00032829940906106366), (1491, 0.0003201024327784891), (1494, 0.00048828125), (1495, 0.002858627858627859), (1499, 0.0007220216606498195), (1500, 0.002183406113537118), (1513, 0.0017452006980802793), (1514, 0.003352891869237217), (1519, 0.0003215434083601286), (1520, 0.00046008741660915573), (1527, 0.000655307994757536), (1530, 0.0008490405841399219), (1537, 0.00015436863229391788), (1541, 0.0003885003885003885), (1546, 0.0033463469046291134), (1550, 0.0008525149190110827), (1556, 0.000846740050804403), (1557, 0.0009930486593843098), (1560, 0.0004266211604095563), (1566, 0.001789442290486132), (1570, 0.0011609907120743034), (1571, 0.0036429872495446266), (1575, 0.0008282716731087797), (1576, 0.00028876696505919725), (1577, 0.0068322981366459624), (1583, 0.0005063291139240507), (1592, 0.0012610340479192938), (1595, 0.0041841004184100415), (1613, 0.000970873786407767), (1616, 0.001184834123222749), (1617, 0.0019267822736030828), (1623, 0.0024022292687614108), (1624, 0.0030056355666875393), (1625, 0.0024875621890547263), (1627, 0.0001543924656476764), (1640, 0.00015845349389954048), (1644, 0.0014727540500736377), (1649, 0.0010998075336816058), (1655, 0.0019455252918287938), (1657, 0.0020093770931011385), (1659, 0.0017064846416382253), (1660, 0.0014992503748125937), (1661, 0.0013568521031207597), (1676, 0.0015936254980079682), (1677, 0.0022988505747126436), (1683, 0.004201680672268907), (1686, 0.003003003003003003), (1687, 0.001160092807424594), (1688, 0.0009871668311944718), (1710, 0.0004889975550122249), (1711, 0.00034258307639602604), (1715, 0.001359064963305246), (1719, 0.0003201024327784891), (1734, 0.0014204545454545455), (1737, 0.0019665683382497543), (1750, 0.0004591368227731864), (1752, 0.0014641288433382138), (1762, 0.0008319467554076539), (1767, 0.0009293680297397769), (1770, 0.00018556318426424197), (1781, 0.0003448275862068965), (1787, 0.000302571860816944), (1791, 0.0005299417064122947), (1806, 0.002246559955068801), (1812, 0.003006012024048096), (1814, 0.0010354110581901014), (1822, 0.0004918839153959665), (1826, 0.0005382131324004305), (1828, 0.0007438631291842301), (1837, 0.0023923444976076554), (1841, 0.00020855057351407716), (1842, 0.0017094017094017094), (1845, 0.00019364833462432224), (1854, 0.0004095004095004095), (1857, 0.0009239297813366184), (1859, 0.00026437541308658297), (1874, 0.0019157088122605363), (1880, 0.0047169811320754715), (1881, 0.00013757050488375291), (1921, 0.0009541984732824427), (1930, 0.0011151824119802454), (1934, 0.000749063670411985), (1938, 0.0008552856654122477), (1942, 0.0003487358326068004), (1943, 0.004497138184791497), (1950, 0.0021440057173485795), (1955, 0.0004506534474988734), (1965, 0.0004086636697997548), (1973, 0.002464824894731437), (1990, 0.0005875440658049354), (1994, 0.004201680672268907), (1998, 0.0005589714924538849), (2006, 0.0014347202295552368), (2007, 0.0002420135527589545), (2009, 0.00032102728731942215), (2011, 0.0001668613382279326), (2018, 0.0006086427267194157), (2030, 0.001679902260232132), (2042, 0.0016728002676480427), (2047, 0.0010683760683760685), (2053, 0.0005649717514124294), (2067, 0.0005063291139240507), (2070, 0.0017373175816539264), (2075, 0.0024982155603140615), (2076, 0.0005065856129685917), (2084, 0.0009852216748768472), (2085, 0.00031104199066874026), (2101, 0.0003040437823046519), (2104, 0.006501950585175552), (2108, 0.001006036217303823), (2122, 0.001224889759921607), (2126, 0.0016914749661705007), (2130, 0.0014543339150668994), (2140, 0.0001422475106685633), (2148, 0.00019868865487780648), (2151, 0.013513513513513514), (2152, 0.00042122999157540015), (2154, 0.002144133412745682), (2162, 0.0002405002405002405), (2166, 0.006389776357827476), (2167, 0.0007127583749109052), (2176, 0.00280250576986482), (2178, 0.0002414875633904854), (2180, 0.0005452562704471102), (2185, 0.000758150113722517), (2187, 0.0019105846388995033), (2194, 0.0003403675970047651), (2210, 0.00048828125), (2216, 0.0007332722273143905), (2224, 0.0003454231433506045), (2226, 0.0014295925661186562), (2235, 0.004329004329004329), (2236, 0.001004016064257028), (2238, 0.002364066193853428), (2241, 0.0016505541145956143), (2299, 0.0025), (2303, 0.00034965034965034965), (2310, 0.0006377551020408163), (2314, 0.0010035122930255895), (2321, 0.00024113817217265494), (2326, 0.00037257824143070045), (2331, 0.00847457627118644), (2332, 0.004555808656036446), (2338, 0.0004623208506703652), (2345, 0.0006325110689437065), (2371, 0.002357100766057749), (2376, 0.004776119402985075), (2377, 0.00022706630336058128), (2384, 0.0012953367875647669), (2398, 0.0012048192771084338), (2406, 0.000687757909215956), (2417, 0.00047664442326024784), (2418, 0.00034626038781163435), (2422, 0.0010615711252653928), (2425, 0.001597444089456869), (2439, 0.00047080979284369113), (2447, 0.000327653997378768)]), ('philosophy', [(12, 0.0014357501794687725), (305, 0.00022799817601459188), (307, 0.00012289541600098315), (308, 0.00453294479520803), (336, 0.001800411522633745), (339, 0.0070191857744501636), (359, 0.0015308075009567547), (569, 0.0009358914365933552), (572, 0.001564945226917058), (573, 0.002607823470411234), (594, 9.845426799251748e-05), (620, 0.000523149359142035), (627, 0.0002061855670103093), (628, 0.001966181675186787), (655, 0.0004492362982929021), (661, 0.007575757575757576), (665, 0.0012961762799740765), (676, 0.0005922416345869114), (677, 0.000925925925925926), (689, 0.0006544502617801048), (700, 0.009378349410503752), (713, 0.0005945303210463733), (736, 0.0009583789704271632), (751, 0.0024183796856106408), (752, 0.0012987012987012987), (775, 0.00016329196603527107), (783, 0.000380420999239158), (803, 0.00022655188038060717), (854, 0.00064), (864, 0.0008494733265375467), (872, 0.00015213753232922562), (894, 0.0025227043390514633), (902, 0.00041109969167523125), (921, 0.0029154518950437317), (928, 0.002944062806673209), (954, 0.00021963540522732265), (983, 0.0034439574201628053), (988, 0.004048582995951417), (1011, 0.00035001750087504374), (1017, 0.0005348546978070957), (1023, 0.0014678129586915495), (1028, 0.00020563438206868187), (1029, 0.002553626149131767), (1049, 0.0021929824561403508), (1130, 0.010238907849829351), (1134, 0.0030372057706909645), (1141, 9.075233687267448e-05), (1164, 0.0007656967840735069), (1167, 0.021256038647342997), (1168, 0.003518373729476153), (1177, 0.00046146746654360867), (1178, 0.0008722958827634334), (1182, 0.00021500752526338422), (1193, 0.0016070711128967456), (1194, 0.007751937984496124), (1198, 0.0005224660397074191), (1212, 0.0017605633802816902), (1216, 0.00013863856924996534), (1239, 0.0002639567110993797), (1247, 0.0008517887563884157), (1256, 0.0003176620076238882), (1293, 0.003468208092485549), (1306, 0.0003636363636363636), (1309, 0.0019230769230769232), (1316, 0.000395882818685669), (1324, 0.0012391573729863693), (1363, 0.004250797024442083), (1370, 0.00023315458148752622), (1384, 0.0021354484441732766), (1418, 0.000578368999421631), (1423, 0.00032690421706440013), (1428, 0.0004399472063352398), (1449, 0.0008438818565400844), (1485, 0.005820721769499418), (1494, 0.00048828125), (1529, 0.0005232862375719519), (1537, 0.00015436863229391788), (1546, 0.0005577244841048522), (1573, 0.0029991431019708655), (1599, 0.0009633911368015414), (1623, 0.00019217834150091285), (1625, 0.0006784260515603799), (1627, 0.0003087849312953528), (1640, 0.00047536048169862145), (1645, 0.000998003992015968), (1655, 0.0019455252918287938), (1656, 0.00546448087431694), (1719, 0.0003201024327784891), (1723, 0.0033613445378151263), (1724, 0.02356902356902357), (1735, 0.00019603999215840032), (1737, 0.014749262536873156), (1738, 0.007692307692307693), (1748, 0.004410143329658214), (1751, 0.004545454545454545), (1756, 0.005851375073142188), (1764, 0.00641025641025641), (1789, 0.0022197558268590455), (1794, 0.0003508771929824561), (1814, 0.002899150962932284), (1822, 0.00024594195769798326), (1828, 0.0002479543763947434), (1837, 0.0007974481658692185), (1859, 0.00013218770654329148), (1869, 0.0008620689655172414), (1921, 0.00011927480916030534), (1938, 0.0005131713992473486), (1941, 0.0029940119760479044), (1980, 0.00020222446916076846), (2018, 0.017650639074863056), (2030, 0.0018326206475259622), (2042, 0.00033456005352960856), (2047, 0.0007122507122507123), (2062, 0.00037383177570093456), (2077, 0.0022675736961451248), (2122, 0.0007349338559529642), (2130, 0.0075625363583478765), (2171, 0.016967126193001062), (2175, 8.609556607834697e-05), (2178, 0.0007244626901714562), (2185, 0.0010108668182966893), (2197, 0.0003637686431429611), (2215, 0.0011435105774728416), (2226, 0.0007147962830593281), (2273, 0.0005252100840336134), (2274, 0.0016812373907195697), (2304, 0.002544529262086514), (2338, 0.0009246417013407304), (2349, 0.00047393364928909954), (2371, 0.0005892751915144372), (2411, 0.00031133250311332503), (2422, 0.0007077140835102619), (2425, 0.0001774937877174299), (2433, 0.0005720823798627002), (2447, 0.000327653997378768)]), ('movement', [(12, 0.005503709021296961), (25, 0.000936768149882904), (303, 0.0006037918125830214), (307, 0.0003686862480029495), (308, 0.0008094544277157196), (336, 0.0007716049382716049), (339, 0.0018717828731867104), (358, 0.0001482799525504152), (569, 0.0002339728591483388), (593, 0.0032353734160150984), (600, 0.00019127773527161438), (620, 0.000523149359142035), (621, 0.0002828854314002829), (624, 0.0002754441536978378), (627, 0.0004123711340206186), (628, 0.0007864726700747149), (653, 0.0010186757215619694), (655, 0.0004492362982929021), (657, 0.000216076058772688), (662, 0.00014671361502347418), (663, 0.0002204585537918871), (665, 0.0006480881399870382), (674, 0.0007987220447284345), (679, 0.0017152658662092624), (680, 0.0005586592178770949), (690, 0.00033772374197906115), (691, 0.00026143790849673205), (701, 0.00083166999334664), (705, 0.002849002849002849), (710, 0.0013333333333333333), (713, 0.0011890606420927466), (736, 0.0002738225629791895), (737, 0.00024172105390379503), (738, 0.00010835410120273052), (746, 0.0003892060197197717), (751, 0.0036275695284159614), (752, 0.0007421150278293135), (771, 8.785030308354564e-05), (782, 0.0004409171075837742), (800, 0.001278363694471077), (802, 0.0006942034015966678), (803, 0.00022655188038060717), (808, 0.00013449899125756557), (825, 0.0008695652173913044), (844, 0.00025896672277612325), (849, 0.0016409583196586807), (856, 0.0002464065708418891), (859, 0.0030864197530864196), (863, 0.0002874389192296637), (864, 0.0008494733265375467), (872, 0.00015213753232922562), (894, 0.0005045408678102926), (905, 0.0025940337224383916), (909, 0.0020234722784297854), (914, 0.0007518796992481203), (928, 0.0004906771344455348), (951, 0.000898069151324652), (958, 0.0003632401017072285), (969, 0.007190549563430919), (981, 0.0005042864346949068), (983, 0.0012523481527864746), (1004, 0.0009111617312072893), (1008, 0.0008904719501335708), (1010, 0.00032562683165092806), (1017, 0.0008914244963451596), (1022, 0.00029761904761904765), (1023, 0.0012581253931641854), (1029, 0.0005107252298263534), (1032, 0.0008771929824561404), (1049, 0.0021929824561403508), (1055, 0.0006816632583503749), (1057, 0.001201923076923077), (1058, 0.0007194244604316547), (1070, 0.006263048016701462), (1078, 0.00035647446751626416), (1087, 0.0008630609896432681), (1088, 0.0005599104143337066), (1093, 0.0012755102040816326), (1098, 0.00032536196518626975), (1130, 0.00021331058020477816), (1134, 0.0007593014426727411), (1141, 0.00018150467374534896), (1144, 0.0007593014426727411), (1162, 0.0008384572386808273), (1164, 0.0007656967840735069), (1167, 0.0004830917874396135), (1168, 0.0011727912431587178), (1174, 0.0003870718018192375), (1177, 0.0009229349330872173), (1181, 0.002290950744558992), (1182, 0.00021500752526338422), (1192, 0.00423728813559322), (1193, 0.002812374447569305), (1196, 0.0007722007722007722), (1198, 0.0010449320794148381), (1201, 0.004810776138550353), (1203, 0.0004209640075773521), (1214, 0.002707581227436823), (1247, 0.0017035775127768314), (1254, 0.0002744990392533626), (1264, 0.00264783759929391), (1270, 0.0005555555555555556), (1274, 0.0007704160246533128), (1304, 0.0045045045045045045), (1306, 0.001090909090909091), (1315, 0.00047393364928909954), (1324, 0.0012391573729863693), (1333, 0.00031259768677711783), (1338, 0.0006920415224913495), (1346, 0.0005920663114268798), (1347, 0.00020362451639177357), (1358, 0.0008382229673093043), (1361, 0.000513347022587269), (1363, 0.0010626992561105207), (1374, 0.0013297872340425532), (1384, 0.0003050640634533252), (1395, 0.0010035122930255895), (1416, 0.000335795836131632), (1423, 0.00032690421706440013), (1425, 0.00036845983787767134), (1442, 0.0008441193021947102), (1461, 0.00014046916701783958), (1482, 0.001218026796589525), (1491, 0.0003201024327784891), (1495, 0.0012993762993762994), (1496, 0.0003901677721420211), (1530, 0.00033961623365596876), (1546, 0.0016731734523145567), (1573, 0.000856898029134533), (1583, 0.0005063291139240507), (1592, 0.00031525851197982345), (1617, 0.0009633911368015414), (1623, 0.0004804458537522821), (1624, 0.0003757044458359424), (1625, 0.0002261420171867933), (1639, 0.0003487966515521451), (1644, 0.000589101620029455), (1649, 0.00192466318394281), (1653, 0.0008460236886632825), (1695, 0.0003118178983473651), (1701, 0.0002633658151171978), (1715, 0.0002718129926610492), (1726, 0.002061855670103093), (1740, 0.008849557522123894), (1750, 0.0009182736455463728), (1776, 0.001026167265264238), (1781, 0.000689655172413793), (1788, 0.009433962264150943), (1800, 0.0010922992900054614), (1812, 0.000501002004008016), (1826, 0.0005382131324004305), (1845, 0.0005809450038729666), (1862, 0.0003139717425431711), (1869, 0.002586206896551724), (1881, 0.0008254230293025176), (1884, 0.0003852080123266564), (1905, 0.0025929127052722557), (1909, 0.0005005005005005005), (1910, 0.0034448818897637795), (1921, 0.0016698473282442748), (1930, 0.0003186235462800701), (1938, 0.00034211426616489907), (1942, 0.0001743679163034002), (1943, 0.002044153720359771), (1944, 0.0002565418163160595), (1950, 0.0005360014293371449), (1957, 0.0036253776435045317), (1965, 0.0004086636697997548), (1973, 0.00010270103728047654), (1986, 0.0029940119760479044), (1998, 0.0006707657909446618), (2006, 0.00013042911177774878), (2007, 0.000484027105517909), (2018, 0.0006086427267194157), (2030, 0.00015271838729383018), (2032, 0.0005558643690939411), (2047, 0.0007122507122507123), (2064, 0.0005927682276229994), (2065, 0.0004946821667078902), (2067, 0.0007594936708860759), (2077, 0.0011337868480725624), (2084, 0.0009852216748768472), (2085, 0.00020736132711249351), (2088, 0.0009794319294809011), (2104, 0.005201560468140442), (2122, 0.0007349338559529642), (2126, 0.0013531799729364006), (2130, 0.00029086678301337986), (2147, 0.0009828009828009828), (2148, 0.00019868865487780648), (2151, 0.0019305019305019305), (2154, 0.0027397260273972603), (2162, 0.000481000481000481), (2175, 0.0002582866982350409), (2176, 0.0011539729640619848), (2178, 0.0002414875633904854), (2179, 0.0009276437847866419), (2185, 0.00025271670457417233), (2186, 0.0018726591760299626), (2187, 0.0019105846388995033), (2194, 0.0003403675970047651), (2201, 0.0011350737797956867), (2210, 0.000244140625), (2215, 0.0011435105774728416), (2219, 0.0005693680015183147), (2224, 0.0003454231433506045), (2233, 0.0007616146230007616), (2241, 0.0004715868898844612), (2257, 0.0013986013986013986), (2287, 0.0006901311249137336), (2310, 0.00031887755102040814), (2314, 0.0005017561465127947), (2333, 0.0047562425683709865), (2335, 0.00424929178470255), (2343, 0.014598540145985401), (2348, 0.0003961965134706815), (2357, 0.00020052135552436334), (2360, 0.0029154518950437317), (2376, 0.0011940298507462687), (2377, 0.0006811989100817438), (2395, 0.0003419972640218878), (2402, 0.0006195786864931846), (2403, 0.0002463054187192118), (2411, 0.00031133250311332503), (2414, 0.001954397394136808), (2418, 0.00034626038781163435), (2428, 0.0017396346767178893), (2431, 0.00066711140760507), (2433, 0.0005720823798627002), (2439, 0.0023540489642184556), (2444, 0.00043535045711797995)]), ('sceptical', [(12, 0.00023929169657812874), (620, 0.0002615746795710175), (824, 0.00029036004645760743), (1130, 0.00021331058020477816), (1177, 0.00015382248884786957), (1575, 0.0002760905577029266), (1586, 0.0014104372355430183), (1756, 0.0017554125219426564), (1814, 0.0002070822116380203), (2030, 0.00015271838729383018), (2162, 0.0002405002405002405), (2422, 0.00035385704175513094)]), ('authority', [(12, 0.004307250538406317), (303, 0.00024151672503320854), (307, 0.0002457908320019663), (358, 0.0002965599051008304), (359, 0.0003827018752391887), (586, 0.0002897710808461316), (620, 0.0002615746795710175), (624, 0.0002754441536978378), (643, 0.0016286644951140066), (665, 0.0006480881399870382), (690, 0.00033772374197906115), (691, 0.00130718954248366), (711, 0.000721240533717995), (717, 0.0006263701847792045), (737, 0.00024172105390379503), (738, 0.0004334164048109221), (740, 0.0005717552887364208), (746, 0.0007784120394395433), (765, 0.00022639800769753225), (771, 0.0004392515154177282), (783, 0.000507227998985544), (786, 0.0007010164738871364), (795, 0.001694915254237288), (825, 0.0008695652173913044), (854, 0.00032), (856, 0.00016427104722792606), (863, 0.00019162594615310913), (864, 0.00016989466530750936), (874, 0.0001362583458236817), (881, 0.002680965147453083), (909, 0.0020234722784297854), (914, 0.0007518796992481203), (922, 0.00034258307639602604), (931, 0.00022742779167614282), (954, 0.0008785416209092906), (974, 0.00030892801977139327), (983, 0.00031308703819661864), (1006, 0.0004730368968779565), (1017, 0.00017828489926903192), (1023, 0.001887188089746278), (1046, 0.008695652173913044), (1072, 0.0034129692832764505), (1081, 0.0008635578583765112), (1093, 0.0012755102040816326), (1111, 0.003472222222222222), (1141, 0.00018150467374534896), (1143, 0.003056768558951965), (1148, 0.00014792899408284024), (1168, 0.00039093041438623924), (1170, 0.0018820577164366374), (1174, 0.00019353590090961874), (1177, 0.00015382248884786957), (1182, 0.00021500752526338422), (1214, 0.0018050541516245488), (1217, 0.0004636068613815484), (1227, 0.0014204545454545455), (1239, 0.00013197835554968986), (1256, 0.0003176620076238882), (1273, 0.002403846153846154), (1288, 0.0018539117538005192), (1291, 0.0005230125523012552), (1301, 0.0056657223796034), (1306, 0.0003636363636363636), (1336, 0.0023094688221709007), (1338, 0.0002306805074971165), (1359, 0.0015723270440251573), (1370, 0.00023315458148752622), (1395, 0.0002508780732563974), (1408, 0.0004897159647404506), (1437, 0.0008873114463176575), (1441, 0.0015444015444015444), (1446, 0.00025673940949935817), (1461, 0.00014046916701783958), (1494, 0.00016276041666666666), (1495, 0.0002598752598752599), (1520, 0.0006901311249137336), (1530, 0.00016980811682798438), (1537, 0.00030873726458783575), (1544, 0.00045248868778280545), (1545, 0.0008896797153024911), (1550, 0.00042625745950554135), (1556, 0.000846740050804403), (1557, 0.0006620324395895399), (1558, 0.00033456005352960856), (1560, 0.0008532423208191126), (1566, 0.0005964807634953773), (1570, 0.0007739938080495357), (1573, 0.0004284490145672665), (1575, 0.0016565433462175593), (1583, 0.0010126582278481013), (1587, 0.0016778523489932886), (1593, 0.0018832391713747645), (1595, 0.001394700139470014), (1600, 0.0005589714924538849), (1612, 0.00980392156862745), (1616, 0.002369668246445498), (1625, 0.0002261420171867933), (1629, 0.00033783783783783786), (1640, 0.0009507209633972429), (1644, 0.0002945508100147275), (1649, 0.00027495188342040145), (1653, 0.0008460236886632825), (1695, 0.0003118178983473651), (1715, 0.0005436259853220984), (1719, 0.0003201024327784891), (1722, 0.0007524454477050414), (1735, 0.00039207998431680063), (1750, 0.0004591368227731864), (1755, 0.000341180484476288), (1760, 0.001092896174863388), (1794, 0.0003508771929824561), (1802, 0.0007942811755361397), (1805, 0.0002442598925256473), (1807, 0.0025252525252525255), (1814, 0.0008283288465520812), (1828, 0.0002479543763947434), (1841, 0.0004171011470281543), (1842, 0.00042735042735042735), (1845, 0.000774593338497289), (1857, 0.0006159531875577456), (1864, 0.0005393743257820927), (1897, 0.00029895366218236175), (1921, 0.00035782442748091603), (1923, 0.0010626992561105207), (1930, 0.00015931177314003505), (1938, 0.00034211426616489907), (1940, 0.0038314176245210726), (1942, 0.0001743679163034002), (1944, 0.0007696254489481786), (1950, 8.933357155619081e-05), (1973, 0.0008216082982438123), (1998, 0.0004471771939631079), (2003, 0.002068252326783868), (2006, 0.00013042911177774878), (2030, 0.0010690287110568112), (2039, 0.0006161429451632779), (2042, 0.00033456005352960856), (2047, 0.00035612535612535614), (2067, 0.00025316455696202533), (2070, 0.0010423905489923557), (2075, 0.00035688793718772306), (2078, 0.00018982536066818528), (2084, 0.001477832512315271), (2085, 0.00010368066355624676), (2110, 0.0014492753623188406), (2122, 0.0002449779519843214), (2126, 0.00033829499323410016), (2129, 0.0007651109410864575), (2134, 0.0003869969040247678), (2154, 0.00023823704586063132), (2176, 0.0006594131223211342), (2178, 0.0002414875633904854), (2180, 0.0005452562704471102), (2187, 0.00038211692777990065), (2192, 0.0003951007506914263), (2194, 0.0003403675970047651), (2207, 0.0008576329331046312), (2221, 0.0005393743257820927), (2226, 0.004288777698355968), (2257, 0.003321678321678322), (2273, 0.00017507002801120448), (2304, 0.002544529262086514), (2315, 0.0002966478789676654), (2345, 0.003795066413662239), (2348, 0.0003961965134706815), (2371, 0.0005892751915144372), (2376, 0.0005970149253731343), (2377, 0.00022706630336058128), (2384, 0.0012953367875647669), (2405, 0.0015278838808250573), (2417, 0.0009532888465204957), (2425, 0.0010649627263045794)]), ('rejects', [(12, 0.00023929169657812874), (305, 0.00022799817601459188), (359, 0.0003827018752391887), (841, 0.0003654970760233918), (894, 0.0010090817356205853), (1023, 0.000838750262109457), (1030, 0.0007668711656441718), (1152, 0.0004616805170821791), (1174, 0.00019353590090961874), (1214, 0.00012893243940175349), (1306, 0.0003636363636363636), (1460, 0.0010204081632653062), (1756, 0.0011702750146284377), (2062, 0.00037383177570093456), (2122, 0.0002449779519843214), (2257, 0.00017482517482517483)]), ('involuntary', [(12, 0.00023929169657812874), (662, 0.00014671361502347418), (864, 0.00016989466530750936), (881, 0.0008936550491510277), (1023, 0.0004193751310547285), (1306, 0.0003636363636363636), (1466, 0.00036563071297989033), (1644, 0.0002945508100147275), (1750, 0.0004591368227731864), (1806, 0.00014040999719180006), (1950, 0.00026800071466857243), (2030, 0.00015271838729383018)]), ('coercive', [(12, 0.0004785833931562575), (569, 0.0002339728591483388), (691, 0.0005228758169934641), (771, 0.0002635509092506369), (1023, 0.000838750262109457), (1030, 0.0003834355828220859)]), ('forms', [(12, 0.0021536252692031586), (25, 0.000702576112412178), (290, 0.006769825918762089), (305, 0.00045599635202918376), (308, 0.002266472397604015), (334, 0.001440922190201729), (336, 0.000257201646090535), (339, 0.0004679457182966776), (358, 0.0001482799525504152), (569, 0.0007019185774450163), (573, 0.00020060180541624874), (586, 0.0002897710808461316), (594, 0.0010829969479176922), (599, 0.0006176652254478073), (620, 0.0002615746795710175), (621, 0.00014144271570014144), (633, 0.002615233736515201), (639, 0.0009835259404966806), (640, 0.0005076142131979696), (655, 0.0004492362982929021), (656, 0.00031969309462915604), (657, 0.0006482281763180639), (663, 0.0002204585537918871), (666, 0.0013798959770724977), (670, 0.0017787264318747777), (674, 0.0005324813631522897), (676, 0.0002961208172934557), (677, 0.000462962962962963), (682, 0.002033898305084746), (690, 0.0006754474839581223), (698, 0.00039300451955197487), (700, 0.0008038585209003215), (701, 0.00016633399866932801), (704, 0.0008888888888888889), (717, 0.0004697776385844034), (734, 0.0006079027355623101), (737, 0.00024172105390379503), (738, 0.00010835410120273052), (740, 0.0017152658662092624), (746, 0.0003892060197197717), (751, 0.0008061265618702137), (752, 0.0027829313543599257), (765, 0.0006791940230925968), (771, 8.785030308354564e-05), (782, 0.0008818342151675485), (783, 0.000253613999492772), (784, 0.0012195121951219512), (786, 0.0003505082369435682), (787, 0.002188183807439825), (788, 0.0047169811320754715), (800, 0.0006391818472355385), (802, 0.0003471017007983339), (803, 0.002378794743996375), (824, 0.0005807200929152149), (825, 0.0026086956521739132), (840, 0.0016622340425531915), (843, 0.000357653791130186), (844, 0.00025896672277612325), (848, 0.00014854426619132502), (849, 0.0003281916639317361), (852, 0.00015979546180888463), (854, 0.00032), (857, 0.0006489292667099286), (874, 0.0008175500749420902), (876, 0.0019588638589618022), (877, 0.0026833631484794273), (878, 0.0019636720667648502), (896, 0.0011661807580174927), (897, 0.00233843537414966), (898, 0.0030698388334612432), (900, 0.0009845749917952085), (901, 0.001394700139470014), (902, 0.0022610483042137717), (904, 0.002672147995889003), (905, 0.0012970168612191958), (911, 0.003115264797507788), (915, 0.0019157088122605363), (922, 0.0013703323055841042), (928, 0.0009813542688910696), (956, 0.0010741138560687433), (958, 0.0003632401017072285), (960, 0.0009049773755656109), (967, 0.0007047216349541931), (969, 0.0005136106831022085), (974, 0.00030892801977139327), (984, 0.00017556179775280898), (988, 0.0020242914979757085), (991, 0.0007968127490039841), (1012, 0.00033818058843422386), (1017, 0.00017828489926903192), (1023, 0.0020968756552736424), (1028, 0.00041126876413736374), (1055, 0.0006816632583503749), (1064, 0.0011406844106463879), (1078, 0.0013367792531859906), (1082, 0.0022598870056497176), (1091, 0.0017574692442882249), (1129, 0.0003621876131836291), (1130, 0.0008532423208191126), (1140, 0.0008413967185527977), (1141, 9.075233687267448e-05), (1148, 0.0004437869822485207), (1158, 0.0015625), (1160, 0.001644736842105263), (1162, 0.00027948574622694243), (1164, 0.00019142419601837673), (1167, 0.0004830917874396135), (1168, 0.0007818608287724785), (1170, 0.0006273525721455458), (1171, 0.001098901098901099), (1174, 0.0003870718018192375), (1177, 0.00030764497769573913), (1178, 0.0008722958827634334), (1187, 0.003179650238473768), (1192, 0.0014124293785310734), (1196, 0.0003861003861003861), (1198, 0.001567398119122257), (1200, 0.0019455252918287938), (1201, 0.0012828736369467607), (1206, 0.0004658746797111577), (1207, 0.0018791105543376136), (1212, 0.0017605633802816902), (1214, 0.0019339865910263023), (1216, 0.0005545542769998614), (1235, 0.0005714285714285715), (1239, 0.00013197835554968986), (1241, 0.0006493506493506494), (1242, 0.0003698224852071006), (1252, 0.0003465003465003465), (1267, 0.0008305647840531562), (1270, 0.0005555555555555556), (1274, 0.0007704160246533128), (1285, 0.0009140767824497258), (1300, 0.0010152284263959391), (1313, 0.005333333333333333), (1316, 0.0011876484560570072), (1317, 0.0012315270935960591), (1322, 0.0007961783439490446), (1324, 0.0024783147459727386), (1325, 0.00043196544276457883), (1335, 0.0011494252873563218), (1346, 0.0002960331557134399), (1349, 0.0009587727708533077), (1361, 0.000513347022587269), (1365, 0.0007676069852235655), (1366, 0.0008992805755395684), (1367, 0.00037425149700598805), (1368, 0.0004874482086278333), (1370, 0.00023315458148752622), (1372, 0.0011534025374855825), (1376, 0.0009666505558240696), (1387, 0.0005963029218843172), (1395, 0.0002508780732563974), (1412, 0.0005865102639296188), (1418, 0.000578368999421631), (1422, 0.0011148272017837235), (1423, 0.00032690421706440013), (1437, 0.0008873114463176575), (1445, 0.0005707762557077625), (1460, 0.0010204081632653062), (1482, 0.001218026796589525), (1486, 0.00043252595155709344), (1494, 0.0003255208333333333), (1523, 0.004895960832313341), (1525, 0.0005054334091483447), (1530, 0.00033961623365596876), (1537, 0.0006174745291756715), (1542, 0.0005213764337851929), (1546, 0.0005577244841048522), (1558, 0.00033456005352960856), (1614, 0.0015432098765432098), (1623, 9.608917075045643e-05), (1625, 0.0002261420171867933), (1627, 0.0001543924656476764), (1634, 0.0006151322534344885), (1645, 0.000249500998003992), (1649, 0.0008248556502612042), (1650, 0.0023781212841854932), (1695, 0.0003118178983473651), (1701, 0.0002633658151171978), (1715, 0.0002718129926610492), (1737, 0.0009832841691248771), (1748, 0.0033076074972436605), (1764, 0.01282051282051282), (1776, 0.001026167265264238), (1786, 0.006097560975609756), (1791, 0.00026497085320614734), (1800, 0.0005461496450027307), (1805, 0.0004885197850512946), (1832, 0.004158004158004158), (1837, 0.0023923444976076554), (1839, 0.008149010477299184), (1845, 0.00019364833462432224), (1847, 0.004301075268817204), (1851, 0.005338078291814947), (1854, 0.0004095004095004095), (1857, 0.0003079765937788728), (1859, 0.00013218770654329148), (1881, 0.0020635575732562937), (1884, 0.0015408320493066256), (1890, 0.0017236426314277506), (1897, 0.002391629297458894), (1909, 0.002002002002002002), (1910, 0.000984251968503937), (1911, 0.002936857562408223), (1912, 0.0011025358324145535), (1921, 0.00011927480916030534), (1923, 0.0010626992561105207), (1930, 0.00047793531942010514), (1938, 0.00017105713308244953), (1941, 0.0029940119760479044), (1942, 0.0001743679163034002), (1948, 0.000628140703517588), (1950, 8.933357155619081e-05), (1969, 0.00020842017507294707), (1973, 0.00010270103728047654), (1997, 0.0009196811771919068), (1998, 0.0004471771939631079), (2007, 0.002420135527589545), (2009, 0.0012841091492776886), (2011, 0.0021691973969631237), (2017, 0.0005173305742369374), (2019, 0.0020920502092050207), (2021, 0.0022172949002217295), (2030, 0.00015271838729383018), (2032, 0.0022234574763757642), (2063, 0.0015455950540958269), (2065, 0.0004946821667078902), (2076, 0.0005065856129685917), (2078, 0.00018982536066818528), (2080, 0.00231839258114374), (2086, 0.0032679738562091504), (2088, 0.0031831537708129284), (2089, 0.002523128679562658), (2101, 0.0003040437823046519), (2104, 0.0013003901170351106), (2112, 0.001443001443001443), (2113, 0.001128668171557562), (2122, 0.0004899559039686428), (2125, 0.0045045045045045045), (2130, 0.0017452006980802793), (2136, 0.001034126163391934), (2142, 0.0011587485515643105), (2147, 0.0009828009828009828), (2154, 0.00047647409172126264), (2162, 0.000481000481000481), (2171, 0.0021208907741251328), (2175, 0.0002582866982350409), (2185, 0.000758150113722517), (2202, 0.000646830530401035), (2204, 0.005806451612903226), (2210, 0.000244140625), (2215, 0.0005717552887364208), (2217, 0.0013804527885146328), (2218, 0.0005834305717619603), (2221, 0.0016181229773462784), (2226, 0.0007147962830593281), (2237, 0.000819672131147541), (2245, 0.0013774104683195593), (2246, 0.006673209028459273), (2250, 0.0013937282229965157), (2251, 0.004518072289156626), (2257, 0.00017482517482517483), (2268, 0.005186721991701245), (2296, 0.00040933278755628325), (2303, 0.0013986013986013986), (2308, 0.001993024414549078), (2341, 0.00042936882782310007), (2348, 0.002377179080824089), (2358, 0.00021105951878429716), (2362, 0.0009289363678588017), (2363, 0.0020833333333333333), (2377, 0.0009082652134423251), (2382, 0.000163826998689384), (2388, 0.0002358490566037736), (2393, 0.00020885547201336674), (2396, 0.0008503401360544217), (2402, 0.0006195786864931846), (2403, 0.0002463054187192118), (2411, 0.0006226650062266501), (2416, 0.000576036866359447), (2427, 0.002560819462227913), (2433, 0.0005720823798627002), (2439, 0.00047080979284369113), (2443, 0.000980392156862745), (2457, 0.0005221932114882506)])]\n"
          ]
        }
      ]
    },
    {
      "cell_type": "code",
      "source": [
        "postings_filtered = postings.filter(lambda x: len(x[1])>10)"
      ],
      "metadata": {
        "id": "dwyiICXDZYTn"
      },
      "execution_count": 31,
      "outputs": []
    },
    {
      "cell_type": "code",
      "source": [
        "print(postings_filtered.take(10))"
      ],
      "metadata": {
        "colab": {
          "base_uri": "https://localhost:8080/"
        },
        "id": "s-nr9jYwc9ks",
        "outputId": "75e9d913-1d7b-4bfa-d79b-4a6e66a8130e"
      },
      "execution_count": 42,
      "outputs": [
        {
          "output_type": "stream",
          "name": "stdout",
          "text": [
            "[('political', [(12, 0.006221584111031347), (303, 0.0006037918125830214), (307, 0.002949489984023596), (308, 0.0016189088554314393), (336, 0.000257201646090535), (339, 0.004679457182966776), (358, 0.002224199288256228), (359, 0.0007654037504783774), (569, 0.004679457182966776), (594, 9.845426799251748e-05), (600, 0.001530221882172915), (620, 0.002877321475281193), (624, 0.0006886103842445945), (627, 0.0006185567010309278), (643, 0.003257328990228013), (663, 0.0004409171075837742), (665, 0.0012961762799740765), (676, 0.0002961208172934557), (677, 0.000462962962962963), (689, 0.0008726003490401396), (690, 0.0006754474839581223), (691, 0.002352941176470588), (700, 0.0008038585209003215), (701, 0.003659347970725216), (705, 0.004273504273504274), (706, 0.0005434782608695652), (717, 0.0006263701847792045), (736, 0.0004107338444687842), (737, 0.0010877447425670776), (738, 0.0009751869108245747), (740, 0.0005717552887364208), (746, 0.0012973533990659055), (751, 0.00040306328093510683), (752, 0.001484230055658627), (771, 0.0011420539400860933), (783, 0.000253613999492772), (802, 0.0005206525511975009), (803, 0.00033982782057091076), (808, 0.00013449899125756557), (825, 0.0008695652173913044), (841, 0.0003654970760233918), (842, 0.0011367942402425162), (846, 0.01812688821752266), (854, 0.00032), (857, 0.0012978585334198572), (863, 0.0017246335153779822), (872, 0.0007606876616461281), (874, 0.0008175500749420902), (880, 0.0001114951499609767), (881, 0.0017873100983020554), (888, 0.0003720238095238095), (905, 0.009079118028534372), (911, 0.003115264797507788), (930, 0.0013351134846461949), (931, 0.00022742779167614282), (933, 0.0037313432835820895), (951, 0.001796138302649304), (954, 0.0021963540522732263), (974, 0.00030892801977139327), (981, 0.00016809547823163558), (983, 0.0012523481527864746), (1008, 0.00029682398337785694), (1016, 0.00046533271288971617), (1017, 0.0012479942948832234), (1023, 0.003564688613965192), (1028, 0.0022619782027555007), (1030, 0.004217791411042945), (1036, 0.002173913043478261), (1051, 0.0005227391531625719), (1057, 0.002403846153846154), (1058, 0.0014388489208633094), (1070, 0.0041753653444676405), (1078, 0.002584439889492915), (1087, 0.0005753739930955121), (1093, 0.008928571428571428), (1094, 0.0008007687379884689), (1096, 0.0010362694300518134), (1097, 0.0006611570247933885), (1098, 0.00032536196518626975), (1111, 0.006944444444444444), (1129, 0.0003621876131836291), (1130, 0.0004266211604095563), (1141, 0.00018150467374534896), (1148, 0.0002958579881656805), (1164, 0.00038284839203675346), (1167, 0.0014492753623188406), (1168, 0.0007818608287724785), (1169, 0.004032258064516129), (1171, 0.0005494505494505495), (1174, 0.00019353590090961874), (1175, 0.0010814708002883922), (1177, 0.00046146746654360867), (1182, 0.00021500752526338422), (1192, 0.002824858757062147), (1193, 0.004821213338690237), (1203, 0.0004209640075773521), (1214, 0.00038679731820526046), (1216, 0.000415915707749896), (1217, 0.0004636068613815484), (1227, 0.0014204545454545455), (1235, 0.002857142857142857), (1239, 0.0005279134221987594), (1241, 0.0025974025974025974), (1252, 0.0003465003465003465), (1254, 0.0002744990392533626), (1256, 0.0003176620076238882), (1259, 0.0006828269033799932), (1261, 0.00037936267071320183), (1270, 0.0008333333333333334), (1273, 0.003605769230769231), (1274, 0.0007704160246533128), (1285, 0.0009140767824497258), (1286, 0.001081081081081081), (1288, 0.0003707823507601038), (1298, 0.0007293946024799417), (1305, 0.0008183306055646482), (1306, 0.0003636363636363636), (1316, 0.00395882818685669), (1324, 0.004956629491945477), (1332, 0.00035829451809387314), (1334, 0.00030665440049064706), (1348, 0.0002231644722160232), (1363, 0.0010626992561105207), (1370, 0.0013989274889251574), (1376, 0.0014499758337361043), (1395, 0.0010035122930255895), (1397, 0.00020092425155716296), (1409, 0.0053475935828877), (1417, 0.0009765625), (1438, 0.0005659309564233164), (1442, 0.0008441193021947102), (1461, 0.00042140750105351877), (1486, 0.00043252595155709344), (1490, 0.00032829940906106366), (1491, 0.0003201024327784891), (1494, 0.00048828125), (1495, 0.002858627858627859), (1499, 0.0007220216606498195), (1500, 0.002183406113537118), (1513, 0.0017452006980802793), (1514, 0.003352891869237217), (1519, 0.0003215434083601286), (1520, 0.00046008741660915573), (1527, 0.000655307994757536), (1530, 0.0008490405841399219), (1537, 0.00015436863229391788), (1541, 0.0003885003885003885), (1546, 0.0033463469046291134), (1550, 0.0008525149190110827), (1556, 0.000846740050804403), (1557, 0.0009930486593843098), (1560, 0.0004266211604095563), (1566, 0.001789442290486132), (1570, 0.0011609907120743034), (1571, 0.0036429872495446266), (1575, 0.0008282716731087797), (1576, 0.00028876696505919725), (1577, 0.0068322981366459624), (1583, 0.0005063291139240507), (1592, 0.0012610340479192938), (1595, 0.0041841004184100415), (1613, 0.000970873786407767), (1616, 0.001184834123222749), (1617, 0.0019267822736030828), (1623, 0.0024022292687614108), (1624, 0.0030056355666875393), (1625, 0.0024875621890547263), (1627, 0.0001543924656476764), (1640, 0.00015845349389954048), (1644, 0.0014727540500736377), (1649, 0.0010998075336816058), (1655, 0.0019455252918287938), (1657, 0.0020093770931011385), (1659, 0.0017064846416382253), (1660, 0.0014992503748125937), (1661, 0.0013568521031207597), (1676, 0.0015936254980079682), (1677, 0.0022988505747126436), (1683, 0.004201680672268907), (1686, 0.003003003003003003), (1687, 0.001160092807424594), (1688, 0.0009871668311944718), (1710, 0.0004889975550122249), (1711, 0.00034258307639602604), (1715, 0.001359064963305246), (1719, 0.0003201024327784891), (1734, 0.0014204545454545455), (1737, 0.0019665683382497543), (1750, 0.0004591368227731864), (1752, 0.0014641288433382138), (1762, 0.0008319467554076539), (1767, 0.0009293680297397769), (1770, 0.00018556318426424197), (1781, 0.0003448275862068965), (1787, 0.000302571860816944), (1791, 0.0005299417064122947), (1806, 0.002246559955068801), (1812, 0.003006012024048096), (1814, 0.0010354110581901014), (1822, 0.0004918839153959665), (1826, 0.0005382131324004305), (1828, 0.0007438631291842301), (1837, 0.0023923444976076554), (1841, 0.00020855057351407716), (1842, 0.0017094017094017094), (1845, 0.00019364833462432224), (1854, 0.0004095004095004095), (1857, 0.0009239297813366184), (1859, 0.00026437541308658297), (1874, 0.0019157088122605363), (1880, 0.0047169811320754715), (1881, 0.00013757050488375291), (1921, 0.0009541984732824427), (1930, 0.0011151824119802454), (1934, 0.000749063670411985), (1938, 0.0008552856654122477), (1942, 0.0003487358326068004), (1943, 0.004497138184791497), (1950, 0.0021440057173485795), (1955, 0.0004506534474988734), (1965, 0.0004086636697997548), (1973, 0.002464824894731437), (1990, 0.0005875440658049354), (1994, 0.004201680672268907), (1998, 0.0005589714924538849), (2006, 0.0014347202295552368), (2007, 0.0002420135527589545), (2009, 0.00032102728731942215), (2011, 0.0001668613382279326), (2018, 0.0006086427267194157), (2030, 0.001679902260232132), (2042, 0.0016728002676480427), (2047, 0.0010683760683760685), (2053, 0.0005649717514124294), (2067, 0.0005063291139240507), (2070, 0.0017373175816539264), (2075, 0.0024982155603140615), (2076, 0.0005065856129685917), (2084, 0.0009852216748768472), (2085, 0.00031104199066874026), (2101, 0.0003040437823046519), (2104, 0.006501950585175552), (2108, 0.001006036217303823), (2122, 0.001224889759921607), (2126, 0.0016914749661705007), (2130, 0.0014543339150668994), (2140, 0.0001422475106685633), (2148, 0.00019868865487780648), (2151, 0.013513513513513514), (2152, 0.00042122999157540015), (2154, 0.002144133412745682), (2162, 0.0002405002405002405), (2166, 0.006389776357827476), (2167, 0.0007127583749109052), (2176, 0.00280250576986482), (2178, 0.0002414875633904854), (2180, 0.0005452562704471102), (2185, 0.000758150113722517), (2187, 0.0019105846388995033), (2194, 0.0003403675970047651), (2210, 0.00048828125), (2216, 0.0007332722273143905), (2224, 0.0003454231433506045), (2226, 0.0014295925661186562), (2235, 0.004329004329004329), (2236, 0.001004016064257028), (2238, 0.002364066193853428), (2241, 0.0016505541145956143), (2299, 0.0025), (2303, 0.00034965034965034965), (2310, 0.0006377551020408163), (2314, 0.0010035122930255895), (2321, 0.00024113817217265494), (2326, 0.00037257824143070045), (2331, 0.00847457627118644), (2332, 0.004555808656036446), (2338, 0.0004623208506703652), (2345, 0.0006325110689437065), (2371, 0.002357100766057749), (2376, 0.004776119402985075), (2377, 0.00022706630336058128), (2384, 0.0012953367875647669), (2398, 0.0012048192771084338), (2406, 0.000687757909215956), (2417, 0.00047664442326024784), (2418, 0.00034626038781163435), (2422, 0.0010615711252653928), (2425, 0.001597444089456869), (2439, 0.00047080979284369113), (2447, 0.000327653997378768)]), ('philosophy', [(12, 0.0014357501794687725), (305, 0.00022799817601459188), (307, 0.00012289541600098315), (308, 0.00453294479520803), (336, 0.001800411522633745), (339, 0.0070191857744501636), (359, 0.0015308075009567547), (569, 0.0009358914365933552), (572, 0.001564945226917058), (573, 0.002607823470411234), (594, 9.845426799251748e-05), (620, 0.000523149359142035), (627, 0.0002061855670103093), (628, 0.001966181675186787), (655, 0.0004492362982929021), (661, 0.007575757575757576), (665, 0.0012961762799740765), (676, 0.0005922416345869114), (677, 0.000925925925925926), (689, 0.0006544502617801048), (700, 0.009378349410503752), (713, 0.0005945303210463733), (736, 0.0009583789704271632), (751, 0.0024183796856106408), (752, 0.0012987012987012987), (775, 0.00016329196603527107), (783, 0.000380420999239158), (803, 0.00022655188038060717), (854, 0.00064), (864, 0.0008494733265375467), (872, 0.00015213753232922562), (894, 0.0025227043390514633), (902, 0.00041109969167523125), (921, 0.0029154518950437317), (928, 0.002944062806673209), (954, 0.00021963540522732265), (983, 0.0034439574201628053), (988, 0.004048582995951417), (1011, 0.00035001750087504374), (1017, 0.0005348546978070957), (1023, 0.0014678129586915495), (1028, 0.00020563438206868187), (1029, 0.002553626149131767), (1049, 0.0021929824561403508), (1130, 0.010238907849829351), (1134, 0.0030372057706909645), (1141, 9.075233687267448e-05), (1164, 0.0007656967840735069), (1167, 0.021256038647342997), (1168, 0.003518373729476153), (1177, 0.00046146746654360867), (1178, 0.0008722958827634334), (1182, 0.00021500752526338422), (1193, 0.0016070711128967456), (1194, 0.007751937984496124), (1198, 0.0005224660397074191), (1212, 0.0017605633802816902), (1216, 0.00013863856924996534), (1239, 0.0002639567110993797), (1247, 0.0008517887563884157), (1256, 0.0003176620076238882), (1293, 0.003468208092485549), (1306, 0.0003636363636363636), (1309, 0.0019230769230769232), (1316, 0.000395882818685669), (1324, 0.0012391573729863693), (1363, 0.004250797024442083), (1370, 0.00023315458148752622), (1384, 0.0021354484441732766), (1418, 0.000578368999421631), (1423, 0.00032690421706440013), (1428, 0.0004399472063352398), (1449, 0.0008438818565400844), (1485, 0.005820721769499418), (1494, 0.00048828125), (1529, 0.0005232862375719519), (1537, 0.00015436863229391788), (1546, 0.0005577244841048522), (1573, 0.0029991431019708655), (1599, 0.0009633911368015414), (1623, 0.00019217834150091285), (1625, 0.0006784260515603799), (1627, 0.0003087849312953528), (1640, 0.00047536048169862145), (1645, 0.000998003992015968), (1655, 0.0019455252918287938), (1656, 0.00546448087431694), (1719, 0.0003201024327784891), (1723, 0.0033613445378151263), (1724, 0.02356902356902357), (1735, 0.00019603999215840032), (1737, 0.014749262536873156), (1738, 0.007692307692307693), (1748, 0.004410143329658214), (1751, 0.004545454545454545), (1756, 0.005851375073142188), (1764, 0.00641025641025641), (1789, 0.0022197558268590455), (1794, 0.0003508771929824561), (1814, 0.002899150962932284), (1822, 0.00024594195769798326), (1828, 0.0002479543763947434), (1837, 0.0007974481658692185), (1859, 0.00013218770654329148), (1869, 0.0008620689655172414), (1921, 0.00011927480916030534), (1938, 0.0005131713992473486), (1941, 0.0029940119760479044), (1980, 0.00020222446916076846), (2018, 0.017650639074863056), (2030, 0.0018326206475259622), (2042, 0.00033456005352960856), (2047, 0.0007122507122507123), (2062, 0.00037383177570093456), (2077, 0.0022675736961451248), (2122, 0.0007349338559529642), (2130, 0.0075625363583478765), (2171, 0.016967126193001062), (2175, 8.609556607834697e-05), (2178, 0.0007244626901714562), (2185, 0.0010108668182966893), (2197, 0.0003637686431429611), (2215, 0.0011435105774728416), (2226, 0.0007147962830593281), (2273, 0.0005252100840336134), (2274, 0.0016812373907195697), (2304, 0.002544529262086514), (2338, 0.0009246417013407304), (2349, 0.00047393364928909954), (2371, 0.0005892751915144372), (2411, 0.00031133250311332503), (2422, 0.0007077140835102619), (2425, 0.0001774937877174299), (2433, 0.0005720823798627002), (2447, 0.000327653997378768)]), ('movement', [(12, 0.005503709021296961), (25, 0.000936768149882904), (303, 0.0006037918125830214), (307, 0.0003686862480029495), (308, 0.0008094544277157196), (336, 0.0007716049382716049), (339, 0.0018717828731867104), (358, 0.0001482799525504152), (569, 0.0002339728591483388), (593, 0.0032353734160150984), (600, 0.00019127773527161438), (620, 0.000523149359142035), (621, 0.0002828854314002829), (624, 0.0002754441536978378), (627, 0.0004123711340206186), (628, 0.0007864726700747149), (653, 0.0010186757215619694), (655, 0.0004492362982929021), (657, 0.000216076058772688), (662, 0.00014671361502347418), (663, 0.0002204585537918871), (665, 0.0006480881399870382), (674, 0.0007987220447284345), (679, 0.0017152658662092624), (680, 0.0005586592178770949), (690, 0.00033772374197906115), (691, 0.00026143790849673205), (701, 0.00083166999334664), (705, 0.002849002849002849), (710, 0.0013333333333333333), (713, 0.0011890606420927466), (736, 0.0002738225629791895), (737, 0.00024172105390379503), (738, 0.00010835410120273052), (746, 0.0003892060197197717), (751, 0.0036275695284159614), (752, 0.0007421150278293135), (771, 8.785030308354564e-05), (782, 0.0004409171075837742), (800, 0.001278363694471077), (802, 0.0006942034015966678), (803, 0.00022655188038060717), (808, 0.00013449899125756557), (825, 0.0008695652173913044), (844, 0.00025896672277612325), (849, 0.0016409583196586807), (856, 0.0002464065708418891), (859, 0.0030864197530864196), (863, 0.0002874389192296637), (864, 0.0008494733265375467), (872, 0.00015213753232922562), (894, 0.0005045408678102926), (905, 0.0025940337224383916), (909, 0.0020234722784297854), (914, 0.0007518796992481203), (928, 0.0004906771344455348), (951, 0.000898069151324652), (958, 0.0003632401017072285), (969, 0.007190549563430919), (981, 0.0005042864346949068), (983, 0.0012523481527864746), (1004, 0.0009111617312072893), (1008, 0.0008904719501335708), (1010, 0.00032562683165092806), (1017, 0.0008914244963451596), (1022, 0.00029761904761904765), (1023, 0.0012581253931641854), (1029, 0.0005107252298263534), (1032, 0.0008771929824561404), (1049, 0.0021929824561403508), (1055, 0.0006816632583503749), (1057, 0.001201923076923077), (1058, 0.0007194244604316547), (1070, 0.006263048016701462), (1078, 0.00035647446751626416), (1087, 0.0008630609896432681), (1088, 0.0005599104143337066), (1093, 0.0012755102040816326), (1098, 0.00032536196518626975), (1130, 0.00021331058020477816), (1134, 0.0007593014426727411), (1141, 0.00018150467374534896), (1144, 0.0007593014426727411), (1162, 0.0008384572386808273), (1164, 0.0007656967840735069), (1167, 0.0004830917874396135), (1168, 0.0011727912431587178), (1174, 0.0003870718018192375), (1177, 0.0009229349330872173), (1181, 0.002290950744558992), (1182, 0.00021500752526338422), (1192, 0.00423728813559322), (1193, 0.002812374447569305), (1196, 0.0007722007722007722), (1198, 0.0010449320794148381), (1201, 0.004810776138550353), (1203, 0.0004209640075773521), (1214, 0.002707581227436823), (1247, 0.0017035775127768314), (1254, 0.0002744990392533626), (1264, 0.00264783759929391), (1270, 0.0005555555555555556), (1274, 0.0007704160246533128), (1304, 0.0045045045045045045), (1306, 0.001090909090909091), (1315, 0.00047393364928909954), (1324, 0.0012391573729863693), (1333, 0.00031259768677711783), (1338, 0.0006920415224913495), (1346, 0.0005920663114268798), (1347, 0.00020362451639177357), (1358, 0.0008382229673093043), (1361, 0.000513347022587269), (1363, 0.0010626992561105207), (1374, 0.0013297872340425532), (1384, 0.0003050640634533252), (1395, 0.0010035122930255895), (1416, 0.000335795836131632), (1423, 0.00032690421706440013), (1425, 0.00036845983787767134), (1442, 0.0008441193021947102), (1461, 0.00014046916701783958), (1482, 0.001218026796589525), (1491, 0.0003201024327784891), (1495, 0.0012993762993762994), (1496, 0.0003901677721420211), (1530, 0.00033961623365596876), (1546, 0.0016731734523145567), (1573, 0.000856898029134533), (1583, 0.0005063291139240507), (1592, 0.00031525851197982345), (1617, 0.0009633911368015414), (1623, 0.0004804458537522821), (1624, 0.0003757044458359424), (1625, 0.0002261420171867933), (1639, 0.0003487966515521451), (1644, 0.000589101620029455), (1649, 0.00192466318394281), (1653, 0.0008460236886632825), (1695, 0.0003118178983473651), (1701, 0.0002633658151171978), (1715, 0.0002718129926610492), (1726, 0.002061855670103093), (1740, 0.008849557522123894), (1750, 0.0009182736455463728), (1776, 0.001026167265264238), (1781, 0.000689655172413793), (1788, 0.009433962264150943), (1800, 0.0010922992900054614), (1812, 0.000501002004008016), (1826, 0.0005382131324004305), (1845, 0.0005809450038729666), (1862, 0.0003139717425431711), (1869, 0.002586206896551724), (1881, 0.0008254230293025176), (1884, 0.0003852080123266564), (1905, 0.0025929127052722557), (1909, 0.0005005005005005005), (1910, 0.0034448818897637795), (1921, 0.0016698473282442748), (1930, 0.0003186235462800701), (1938, 0.00034211426616489907), (1942, 0.0001743679163034002), (1943, 0.002044153720359771), (1944, 0.0002565418163160595), (1950, 0.0005360014293371449), (1957, 0.0036253776435045317), (1965, 0.0004086636697997548), (1973, 0.00010270103728047654), (1986, 0.0029940119760479044), (1998, 0.0006707657909446618), (2006, 0.00013042911177774878), (2007, 0.000484027105517909), (2018, 0.0006086427267194157), (2030, 0.00015271838729383018), (2032, 0.0005558643690939411), (2047, 0.0007122507122507123), (2064, 0.0005927682276229994), (2065, 0.0004946821667078902), (2067, 0.0007594936708860759), (2077, 0.0011337868480725624), (2084, 0.0009852216748768472), (2085, 0.00020736132711249351), (2088, 0.0009794319294809011), (2104, 0.005201560468140442), (2122, 0.0007349338559529642), (2126, 0.0013531799729364006), (2130, 0.00029086678301337986), (2147, 0.0009828009828009828), (2148, 0.00019868865487780648), (2151, 0.0019305019305019305), (2154, 0.0027397260273972603), (2162, 0.000481000481000481), (2175, 0.0002582866982350409), (2176, 0.0011539729640619848), (2178, 0.0002414875633904854), (2179, 0.0009276437847866419), (2185, 0.00025271670457417233), (2186, 0.0018726591760299626), (2187, 0.0019105846388995033), (2194, 0.0003403675970047651), (2201, 0.0011350737797956867), (2210, 0.000244140625), (2215, 0.0011435105774728416), (2219, 0.0005693680015183147), (2224, 0.0003454231433506045), (2233, 0.0007616146230007616), (2241, 0.0004715868898844612), (2257, 0.0013986013986013986), (2287, 0.0006901311249137336), (2310, 0.00031887755102040814), (2314, 0.0005017561465127947), (2333, 0.0047562425683709865), (2335, 0.00424929178470255), (2343, 0.014598540145985401), (2348, 0.0003961965134706815), (2357, 0.00020052135552436334), (2360, 0.0029154518950437317), (2376, 0.0011940298507462687), (2377, 0.0006811989100817438), (2395, 0.0003419972640218878), (2402, 0.0006195786864931846), (2403, 0.0002463054187192118), (2411, 0.00031133250311332503), (2414, 0.001954397394136808), (2418, 0.00034626038781163435), (2428, 0.0017396346767178893), (2431, 0.00066711140760507), (2433, 0.0005720823798627002), (2439, 0.0023540489642184556), (2444, 0.00043535045711797995)]), ('sceptical', [(12, 0.00023929169657812874), (620, 0.0002615746795710175), (824, 0.00029036004645760743), (1130, 0.00021331058020477816), (1177, 0.00015382248884786957), (1575, 0.0002760905577029266), (1586, 0.0014104372355430183), (1756, 0.0017554125219426564), (1814, 0.0002070822116380203), (2030, 0.00015271838729383018), (2162, 0.0002405002405002405), (2422, 0.00035385704175513094)]), ('authority', [(12, 0.004307250538406317), (303, 0.00024151672503320854), (307, 0.0002457908320019663), (358, 0.0002965599051008304), (359, 0.0003827018752391887), (586, 0.0002897710808461316), (620, 0.0002615746795710175), (624, 0.0002754441536978378), (643, 0.0016286644951140066), (665, 0.0006480881399870382), (690, 0.00033772374197906115), (691, 0.00130718954248366), (711, 0.000721240533717995), (717, 0.0006263701847792045), (737, 0.00024172105390379503), (738, 0.0004334164048109221), (740, 0.0005717552887364208), (746, 0.0007784120394395433), (765, 0.00022639800769753225), (771, 0.0004392515154177282), (783, 0.000507227998985544), (786, 0.0007010164738871364), (795, 0.001694915254237288), (825, 0.0008695652173913044), (854, 0.00032), (856, 0.00016427104722792606), (863, 0.00019162594615310913), (864, 0.00016989466530750936), (874, 0.0001362583458236817), (881, 0.002680965147453083), (909, 0.0020234722784297854), (914, 0.0007518796992481203), (922, 0.00034258307639602604), (931, 0.00022742779167614282), (954, 0.0008785416209092906), (974, 0.00030892801977139327), (983, 0.00031308703819661864), (1006, 0.0004730368968779565), (1017, 0.00017828489926903192), (1023, 0.001887188089746278), (1046, 0.008695652173913044), (1072, 0.0034129692832764505), (1081, 0.0008635578583765112), (1093, 0.0012755102040816326), (1111, 0.003472222222222222), (1141, 0.00018150467374534896), (1143, 0.003056768558951965), (1148, 0.00014792899408284024), (1168, 0.00039093041438623924), (1170, 0.0018820577164366374), (1174, 0.00019353590090961874), (1177, 0.00015382248884786957), (1182, 0.00021500752526338422), (1214, 0.0018050541516245488), (1217, 0.0004636068613815484), (1227, 0.0014204545454545455), (1239, 0.00013197835554968986), (1256, 0.0003176620076238882), (1273, 0.002403846153846154), (1288, 0.0018539117538005192), (1291, 0.0005230125523012552), (1301, 0.0056657223796034), (1306, 0.0003636363636363636), (1336, 0.0023094688221709007), (1338, 0.0002306805074971165), (1359, 0.0015723270440251573), (1370, 0.00023315458148752622), (1395, 0.0002508780732563974), (1408, 0.0004897159647404506), (1437, 0.0008873114463176575), (1441, 0.0015444015444015444), (1446, 0.00025673940949935817), (1461, 0.00014046916701783958), (1494, 0.00016276041666666666), (1495, 0.0002598752598752599), (1520, 0.0006901311249137336), (1530, 0.00016980811682798438), (1537, 0.00030873726458783575), (1544, 0.00045248868778280545), (1545, 0.0008896797153024911), (1550, 0.00042625745950554135), (1556, 0.000846740050804403), (1557, 0.0006620324395895399), (1558, 0.00033456005352960856), (1560, 0.0008532423208191126), (1566, 0.0005964807634953773), (1570, 0.0007739938080495357), (1573, 0.0004284490145672665), (1575, 0.0016565433462175593), (1583, 0.0010126582278481013), (1587, 0.0016778523489932886), (1593, 0.0018832391713747645), (1595, 0.001394700139470014), (1600, 0.0005589714924538849), (1612, 0.00980392156862745), (1616, 0.002369668246445498), (1625, 0.0002261420171867933), (1629, 0.00033783783783783786), (1640, 0.0009507209633972429), (1644, 0.0002945508100147275), (1649, 0.00027495188342040145), (1653, 0.0008460236886632825), (1695, 0.0003118178983473651), (1715, 0.0005436259853220984), (1719, 0.0003201024327784891), (1722, 0.0007524454477050414), (1735, 0.00039207998431680063), (1750, 0.0004591368227731864), (1755, 0.000341180484476288), (1760, 0.001092896174863388), (1794, 0.0003508771929824561), (1802, 0.0007942811755361397), (1805, 0.0002442598925256473), (1807, 0.0025252525252525255), (1814, 0.0008283288465520812), (1828, 0.0002479543763947434), (1841, 0.0004171011470281543), (1842, 0.00042735042735042735), (1845, 0.000774593338497289), (1857, 0.0006159531875577456), (1864, 0.0005393743257820927), (1897, 0.00029895366218236175), (1921, 0.00035782442748091603), (1923, 0.0010626992561105207), (1930, 0.00015931177314003505), (1938, 0.00034211426616489907), (1940, 0.0038314176245210726), (1942, 0.0001743679163034002), (1944, 0.0007696254489481786), (1950, 8.933357155619081e-05), (1973, 0.0008216082982438123), (1998, 0.0004471771939631079), (2003, 0.002068252326783868), (2006, 0.00013042911177774878), (2030, 0.0010690287110568112), (2039, 0.0006161429451632779), (2042, 0.00033456005352960856), (2047, 0.00035612535612535614), (2067, 0.00025316455696202533), (2070, 0.0010423905489923557), (2075, 0.00035688793718772306), (2078, 0.00018982536066818528), (2084, 0.001477832512315271), (2085, 0.00010368066355624676), (2110, 0.0014492753623188406), (2122, 0.0002449779519843214), (2126, 0.00033829499323410016), (2129, 0.0007651109410864575), (2134, 0.0003869969040247678), (2154, 0.00023823704586063132), (2176, 0.0006594131223211342), (2178, 0.0002414875633904854), (2180, 0.0005452562704471102), (2187, 0.00038211692777990065), (2192, 0.0003951007506914263), (2194, 0.0003403675970047651), (2207, 0.0008576329331046312), (2221, 0.0005393743257820927), (2226, 0.004288777698355968), (2257, 0.003321678321678322), (2273, 0.00017507002801120448), (2304, 0.002544529262086514), (2315, 0.0002966478789676654), (2345, 0.003795066413662239), (2348, 0.0003961965134706815), (2371, 0.0005892751915144372), (2376, 0.0005970149253731343), (2377, 0.00022706630336058128), (2384, 0.0012953367875647669), (2405, 0.0015278838808250573), (2417, 0.0009532888465204957), (2425, 0.0010649627263045794)]), ('rejects', [(12, 0.00023929169657812874), (305, 0.00022799817601459188), (359, 0.0003827018752391887), (841, 0.0003654970760233918), (894, 0.0010090817356205853), (1023, 0.000838750262109457), (1030, 0.0007668711656441718), (1152, 0.0004616805170821791), (1174, 0.00019353590090961874), (1214, 0.00012893243940175349), (1306, 0.0003636363636363636), (1460, 0.0010204081632653062), (1756, 0.0011702750146284377), (2062, 0.00037383177570093456), (2122, 0.0002449779519843214), (2257, 0.00017482517482517483)]), ('involuntary', [(12, 0.00023929169657812874), (662, 0.00014671361502347418), (864, 0.00016989466530750936), (881, 0.0008936550491510277), (1023, 0.0004193751310547285), (1306, 0.0003636363636363636), (1466, 0.00036563071297989033), (1644, 0.0002945508100147275), (1750, 0.0004591368227731864), (1806, 0.00014040999719180006), (1950, 0.00026800071466857243), (2030, 0.00015271838729383018)]), ('forms', [(12, 0.0021536252692031586), (25, 0.000702576112412178), (290, 0.006769825918762089), (305, 0.00045599635202918376), (308, 0.002266472397604015), (334, 0.001440922190201729), (336, 0.000257201646090535), (339, 0.0004679457182966776), (358, 0.0001482799525504152), (569, 0.0007019185774450163), (573, 0.00020060180541624874), (586, 0.0002897710808461316), (594, 0.0010829969479176922), (599, 0.0006176652254478073), (620, 0.0002615746795710175), (621, 0.00014144271570014144), (633, 0.002615233736515201), (639, 0.0009835259404966806), (640, 0.0005076142131979696), (655, 0.0004492362982929021), (656, 0.00031969309462915604), (657, 0.0006482281763180639), (663, 0.0002204585537918871), (666, 0.0013798959770724977), (670, 0.0017787264318747777), (674, 0.0005324813631522897), (676, 0.0002961208172934557), (677, 0.000462962962962963), (682, 0.002033898305084746), (690, 0.0006754474839581223), (698, 0.00039300451955197487), (700, 0.0008038585209003215), (701, 0.00016633399866932801), (704, 0.0008888888888888889), (717, 0.0004697776385844034), (734, 0.0006079027355623101), (737, 0.00024172105390379503), (738, 0.00010835410120273052), (740, 0.0017152658662092624), (746, 0.0003892060197197717), (751, 0.0008061265618702137), (752, 0.0027829313543599257), (765, 0.0006791940230925968), (771, 8.785030308354564e-05), (782, 0.0008818342151675485), (783, 0.000253613999492772), (784, 0.0012195121951219512), (786, 0.0003505082369435682), (787, 0.002188183807439825), (788, 0.0047169811320754715), (800, 0.0006391818472355385), (802, 0.0003471017007983339), (803, 0.002378794743996375), (824, 0.0005807200929152149), (825, 0.0026086956521739132), (840, 0.0016622340425531915), (843, 0.000357653791130186), (844, 0.00025896672277612325), (848, 0.00014854426619132502), (849, 0.0003281916639317361), (852, 0.00015979546180888463), (854, 0.00032), (857, 0.0006489292667099286), (874, 0.0008175500749420902), (876, 0.0019588638589618022), (877, 0.0026833631484794273), (878, 0.0019636720667648502), (896, 0.0011661807580174927), (897, 0.00233843537414966), (898, 0.0030698388334612432), (900, 0.0009845749917952085), (901, 0.001394700139470014), (902, 0.0022610483042137717), (904, 0.002672147995889003), (905, 0.0012970168612191958), (911, 0.003115264797507788), (915, 0.0019157088122605363), (922, 0.0013703323055841042), (928, 0.0009813542688910696), (956, 0.0010741138560687433), (958, 0.0003632401017072285), (960, 0.0009049773755656109), (967, 0.0007047216349541931), (969, 0.0005136106831022085), (974, 0.00030892801977139327), (984, 0.00017556179775280898), (988, 0.0020242914979757085), (991, 0.0007968127490039841), (1012, 0.00033818058843422386), (1017, 0.00017828489926903192), (1023, 0.0020968756552736424), (1028, 0.00041126876413736374), (1055, 0.0006816632583503749), (1064, 0.0011406844106463879), (1078, 0.0013367792531859906), (1082, 0.0022598870056497176), (1091, 0.0017574692442882249), (1129, 0.0003621876131836291), (1130, 0.0008532423208191126), (1140, 0.0008413967185527977), (1141, 9.075233687267448e-05), (1148, 0.0004437869822485207), (1158, 0.0015625), (1160, 0.001644736842105263), (1162, 0.00027948574622694243), (1164, 0.00019142419601837673), (1167, 0.0004830917874396135), (1168, 0.0007818608287724785), (1170, 0.0006273525721455458), (1171, 0.001098901098901099), (1174, 0.0003870718018192375), (1177, 0.00030764497769573913), (1178, 0.0008722958827634334), (1187, 0.003179650238473768), (1192, 0.0014124293785310734), (1196, 0.0003861003861003861), (1198, 0.001567398119122257), (1200, 0.0019455252918287938), (1201, 0.0012828736369467607), (1206, 0.0004658746797111577), (1207, 0.0018791105543376136), (1212, 0.0017605633802816902), (1214, 0.0019339865910263023), (1216, 0.0005545542769998614), (1235, 0.0005714285714285715), (1239, 0.00013197835554968986), (1241, 0.0006493506493506494), (1242, 0.0003698224852071006), (1252, 0.0003465003465003465), (1267, 0.0008305647840531562), (1270, 0.0005555555555555556), (1274, 0.0007704160246533128), (1285, 0.0009140767824497258), (1300, 0.0010152284263959391), (1313, 0.005333333333333333), (1316, 0.0011876484560570072), (1317, 0.0012315270935960591), (1322, 0.0007961783439490446), (1324, 0.0024783147459727386), (1325, 0.00043196544276457883), (1335, 0.0011494252873563218), (1346, 0.0002960331557134399), (1349, 0.0009587727708533077), (1361, 0.000513347022587269), (1365, 0.0007676069852235655), (1366, 0.0008992805755395684), (1367, 0.00037425149700598805), (1368, 0.0004874482086278333), (1370, 0.00023315458148752622), (1372, 0.0011534025374855825), (1376, 0.0009666505558240696), (1387, 0.0005963029218843172), (1395, 0.0002508780732563974), (1412, 0.0005865102639296188), (1418, 0.000578368999421631), (1422, 0.0011148272017837235), (1423, 0.00032690421706440013), (1437, 0.0008873114463176575), (1445, 0.0005707762557077625), (1460, 0.0010204081632653062), (1482, 0.001218026796589525), (1486, 0.00043252595155709344), (1494, 0.0003255208333333333), (1523, 0.004895960832313341), (1525, 0.0005054334091483447), (1530, 0.00033961623365596876), (1537, 0.0006174745291756715), (1542, 0.0005213764337851929), (1546, 0.0005577244841048522), (1558, 0.00033456005352960856), (1614, 0.0015432098765432098), (1623, 9.608917075045643e-05), (1625, 0.0002261420171867933), (1627, 0.0001543924656476764), (1634, 0.0006151322534344885), (1645, 0.000249500998003992), (1649, 0.0008248556502612042), (1650, 0.0023781212841854932), (1695, 0.0003118178983473651), (1701, 0.0002633658151171978), (1715, 0.0002718129926610492), (1737, 0.0009832841691248771), (1748, 0.0033076074972436605), (1764, 0.01282051282051282), (1776, 0.001026167265264238), (1786, 0.006097560975609756), (1791, 0.00026497085320614734), (1800, 0.0005461496450027307), (1805, 0.0004885197850512946), (1832, 0.004158004158004158), (1837, 0.0023923444976076554), (1839, 0.008149010477299184), (1845, 0.00019364833462432224), (1847, 0.004301075268817204), (1851, 0.005338078291814947), (1854, 0.0004095004095004095), (1857, 0.0003079765937788728), (1859, 0.00013218770654329148), (1881, 0.0020635575732562937), (1884, 0.0015408320493066256), (1890, 0.0017236426314277506), (1897, 0.002391629297458894), (1909, 0.002002002002002002), (1910, 0.000984251968503937), (1911, 0.002936857562408223), (1912, 0.0011025358324145535), (1921, 0.00011927480916030534), (1923, 0.0010626992561105207), (1930, 0.00047793531942010514), (1938, 0.00017105713308244953), (1941, 0.0029940119760479044), (1942, 0.0001743679163034002), (1948, 0.000628140703517588), (1950, 8.933357155619081e-05), (1969, 0.00020842017507294707), (1973, 0.00010270103728047654), (1997, 0.0009196811771919068), (1998, 0.0004471771939631079), (2007, 0.002420135527589545), (2009, 0.0012841091492776886), (2011, 0.0021691973969631237), (2017, 0.0005173305742369374), (2019, 0.0020920502092050207), (2021, 0.0022172949002217295), (2030, 0.00015271838729383018), (2032, 0.0022234574763757642), (2063, 0.0015455950540958269), (2065, 0.0004946821667078902), (2076, 0.0005065856129685917), (2078, 0.00018982536066818528), (2080, 0.00231839258114374), (2086, 0.0032679738562091504), (2088, 0.0031831537708129284), (2089, 0.002523128679562658), (2101, 0.0003040437823046519), (2104, 0.0013003901170351106), (2112, 0.001443001443001443), (2113, 0.001128668171557562), (2122, 0.0004899559039686428), (2125, 0.0045045045045045045), (2130, 0.0017452006980802793), (2136, 0.001034126163391934), (2142, 0.0011587485515643105), (2147, 0.0009828009828009828), (2154, 0.00047647409172126264), (2162, 0.000481000481000481), (2171, 0.0021208907741251328), (2175, 0.0002582866982350409), (2185, 0.000758150113722517), (2202, 0.000646830530401035), (2204, 0.005806451612903226), (2210, 0.000244140625), (2215, 0.0005717552887364208), (2217, 0.0013804527885146328), (2218, 0.0005834305717619603), (2221, 0.0016181229773462784), (2226, 0.0007147962830593281), (2237, 0.000819672131147541), (2245, 0.0013774104683195593), (2246, 0.006673209028459273), (2250, 0.0013937282229965157), (2251, 0.004518072289156626), (2257, 0.00017482517482517483), (2268, 0.005186721991701245), (2296, 0.00040933278755628325), (2303, 0.0013986013986013986), (2308, 0.001993024414549078), (2341, 0.00042936882782310007), (2348, 0.002377179080824089), (2358, 0.00021105951878429716), (2362, 0.0009289363678588017), (2363, 0.0020833333333333333), (2377, 0.0009082652134423251), (2382, 0.000163826998689384), (2388, 0.0002358490566037736), (2393, 0.00020885547201336674), (2396, 0.0008503401360544217), (2402, 0.0006195786864931846), (2403, 0.0002463054187192118), (2411, 0.0006226650062266501), (2416, 0.000576036866359447), (2427, 0.002560819462227913), (2433, 0.0005720823798627002), (2439, 0.00047080979284369113), (2443, 0.000980392156862745), (2457, 0.0005221932114882506)]), ('hierarchy', [(12, 0.000957166786312515), (307, 0.00012289541600098315), (640, 0.0005076142131979696), (709, 0.0007751937984496124), (803, 0.00011327594019030358), (844, 0.00025896672277612325), (872, 0.00015213753232922562), (874, 0.0001362583458236817), (929, 0.0021008403361344537), (1006, 0.0004730368968779565), (1023, 0.0004193751310547285), (1141, 9.075233687267448e-05), (1143, 0.0013100436681222707), (1164, 0.00019142419601837673), (1183, 0.000612369871402327), (1214, 0.00012893243940175349), (1252, 0.0003465003465003465), (1273, 0.0001201923076923077), (1301, 0.00141643059490085), (1315, 0.00047393364928909954), (1437, 0.00044365572315882877), (1461, 0.00014046916701783958), (1486, 0.00043252595155709344), (1546, 0.0005577244841048522), (1552, 0.0041841004184100415), (1814, 0.0006212466349140609), (1944, 0.0002565418163160595), (1973, 0.00010270103728047654), (2006, 0.00013042911177774878), (2030, 0.00045815516188149055), (2041, 0.0005824111822947001), (2113, 0.002257336343115124), (2114, 0.0003869969040247678), (2174, 0.0002151462994836489), (2207, 0.0008576329331046312), (2226, 0.0007147962830593281), (2257, 0.00017482517482517483)]), ('calls', [(12, 0.0007178750897343862), (308, 0.00032378177108628785), (569, 0.0002339728591483388), (597, 0.0004288164665523156), (600, 0.00019127773527161438), (620, 0.0002615746795710175), (621, 0.0007072135785007072), (624, 0.0002754441536978378), (653, 0.0006791171477079797), (690, 0.00033772374197906115), (700, 0.0001339764201500536), (711, 0.0003606202668589975), (738, 0.00010835410120273052), (746, 0.0002594706798131811), (765, 0.00022639800769753225), (775, 0.00032658393207054214), (843, 0.000715307582260372), (844, 0.00012948336138806163), (848, 0.00029708853238265005), (852, 0.00031959092361776926), (854, 0.00032), (856, 0.00016427104722792606), (863, 9.581297307655457e-05), (872, 0.00015213753232922562), (894, 0.0010090817356205853), (897, 0.00021258503401360543), (954, 0.000658906215681968), (986, 0.0009237875288683603), (1006, 0.0004730368968779565), (1010, 0.00032562683165092806), (1017, 0.00035656979853806385), (1023, 0.00020968756552736424), (1030, 0.0003834355828220859), (1058, 0.0007194244604316547), (1078, 8.911861687906604e-05), (1081, 0.0004317789291882556), (1093, 0.0012755102040816326), (1097, 0.0006611570247933885), (1140, 0.00042069835927639884), (1164, 0.00019142419601837673), (1168, 0.00039093041438623924), (1171, 0.0005494505494505495), (1198, 0.0010449320794148381), (1210, 0.00046728971962616824), (1214, 0.00025786487880350697), (1239, 0.0010558268443975189), (1242, 0.0007396449704142012), (1338, 0.0011534025374855825), (1359, 0.0015723270440251573), (1368, 0.00073117231294175), (1395, 0.0002508780732563974), (1436, 0.0006232471174820816), (1437, 0.00044365572315882877), (1456, 0.0009587727708533077), (1486, 0.00043252595155709344), (1537, 0.00015436863229391788), (1567, 0.002398081534772182), (1573, 0.0004284490145672665), (1575, 0.0005521811154058532), (1579, 0.0015384615384615385), (1624, 0.00012523481527864746), (1633, 0.0005330490405117271), (1649, 0.00027495188342040145), (1695, 0.0006236357966947302), (1719, 0.0006402048655569782), (1756, 0.0005851375073142189), (1759, 0.0015071590052750565), (1812, 0.000250501002004008), (1837, 0.0007974481658692185), (1845, 0.00019364833462432224), (1897, 0.00029895366218236175), (1902, 0.0006331117442228553), (1914, 0.0006124948958758677), (1921, 0.00011927480916030534), (1939, 0.0010111223458038423), (1955, 0.0004506534474988734), (1973, 0.00020540207456095307), (2003, 0.001034126163391934), (2006, 0.00013042911177774878), (2011, 0.0010011680293675956), (2023, 0.00034423407917383823), (2032, 0.0011117287381878821), (2047, 0.0010683760683760685), (2053, 0.0005649717514124294), (2061, 0.007939658594680429), (2062, 0.00037383177570093456), (2075, 0.0007137758743754461), (2078, 0.0005694760820045558), (2088, 0.0002448579823702253), (2118, 0.0009564801530368245), (2141, 0.0004141644232760406), (2152, 0.00042122999157540015), (2179, 0.0009276437847866419), (2185, 0.00012635835228708617), (2217, 0.0002760905577029266), (2219, 0.0001897893338394382), (2224, 0.0003454231433506045), (2233, 0.0007616146230007616), (2314, 0.0005017561465127947), (2338, 0.0004623208506703652), (2348, 0.0003961965134706815), (2376, 0.0005970149253731343), (2386, 0.0003045994517209869), (2417, 0.00047664442326024784), (2433, 0.0005720823798627002)])]\n"
          ]
        }
      ]
    },
    {
      "cell_type": "code",
      "source": [
        "def calculate_df(postings):\n",
        "  ''' Takes a posting list RDD and calculate the df for each token.\n",
        "  Parameters:\n",
        "  -----------\n",
        "    postings: RDD\n",
        "      An RDD where each element is a (token, posting_list) pair.\n",
        "  Returns:\n",
        "  --------\n",
        "    RDD\n",
        "      An RDD where each element is a (token, df) pair.\n",
        "  '''\n",
        "  # YOUR CODE HERE\n",
        "  def to_df(posting):\n",
        "    return (posting[0], len(posting[1]))\n",
        "\n",
        "  return postings.map(to_df)"
      ],
      "metadata": {
        "id": "yw6U9Q4EZ4j6"
      },
      "execution_count": 32,
      "outputs": []
    },
    {
      "cell_type": "code",
      "source": [
        "w2df = calculate_df(postings_filtered)\n",
        "w2df_dict = w2df.collectAsMap()"
      ],
      "metadata": {
        "id": "S2jqJs1CZ7ix"
      },
      "execution_count": 73,
      "outputs": []
    },
    {
      "cell_type": "code",
      "source": [
        "print(w2df.take(10))"
      ],
      "metadata": {
        "colab": {
          "base_uri": "https://localhost:8080/"
        },
        "id": "VJshApnIZ9hv",
        "outputId": "31a96c51-3945-424e-d9d1-41d1312ad90b"
      },
      "execution_count": 34,
      "outputs": [
        {
          "output_type": "stream",
          "name": "stdout",
          "text": [
            "[('political', 290), ('philosophy', 135), ('movement', 231), ('sceptical', 12), ('authority', 172), ('rejects', 16), ('involuntary', 12), ('forms', 286), ('hierarchy', 37), ('calls', 105)]\n"
          ]
        }
      ]
    },
    {
      "cell_type": "code",
      "source": [
        "import math\n",
        "def calculate_idf(postings, doc_count):\n",
        "\n",
        "  def to_tfidf(posting):\n",
        "    tfidf_list = map(lambda tup: (tup[0] ,tup[1] * math.log((doc_count/len(posting[1])), 10)), posting[1])\n",
        "    return ( posting[0], list(tfidf_list)) \n",
        "    return (posting[0], math.log(doc_count / posting[1], 10))\n",
        "\n",
        "  return postings.map(to_tfidf)"
      ],
      "metadata": {
        "id": "xbMSdVzTaI5y"
      },
      "execution_count": 63,
      "outputs": []
    },
    {
      "cell_type": "code",
      "source": [
        "postings_filtered_tfidf = calculate_idf(postings_filtered, doc_text_pairs.count())"
      ],
      "metadata": {
        "id": "4tS5NoubajoC"
      },
      "execution_count": 64,
      "outputs": []
    },
    {
      "cell_type": "code",
      "source": [
        "print(postings_filtered_tfidf.take(10))"
      ],
      "metadata": {
        "colab": {
          "base_uri": "https://localhost:8080/"
        },
        "id": "avTI1Vhsb760",
        "outputId": "fca87586-496c-4cdc-bd29-e5ea3e22287b"
      },
      "execution_count": 65,
      "outputs": [
        {
          "output_type": "stream",
          "name": "stdout",
          "text": [
            "[('political', [(12, 0.003344736074330495), (303, 0.0003245996872968505), (307, 0.001585651720588061), (308, 0.000870328641899051), (336, 0.00013827211988195573), (339, 0.0025156855503090493), (358, 0.0011957339904382649), (359, 0.00041148258867282345), (569, 0.0025156855503090493), (594, 5.292921158817011e-05), (600, 0.0008226503475149867), (620, 0.0015468537857994983), (624, 0.00037019832123746303), (627, 0.0003325373208872436), (643, 0.0017511465866483513), (663, 0.00023703791979763834), (665, 0.0006968269631899466), (676, 0.0001591951442407592), (677, 0.0002488898157875203), (689, 0.00046911169467804873), (690, 0.00036312191968999923), (691, 0.0012649458872965736), (700, 0.0004321559502419966), (701, 0.0019672727954462683), (705, 0.0022974444534232643), (706, 0.00029217500114187163), (717, 0.00033673786539370113), (736, 0.00022081133711707713), (737, 0.0005847737513789454), (738, 0.0005242624356820234), (740, 0.00030737678793656023), (746, 0.0006974597847704253), (751, 0.0002166876268041289), (752, 0.0007979250495006216), (771, 0.0006139704846976693), (783, 0.00013634339388816734), (802, 0.0002799038539227927), (803, 0.0001826921167085559), (808, 7.230692698063804e-05), (825, 0.00046748000182699465), (841, 0.00019649195983225285), (842, 0.0006111428595313116), (846, 0.009745051397602003), (854, 0.00017203264067233403), (857, 0.0006977313460104396), (863, 0.0009271664307577645), (872, 0.00040894720987451984), (874, 0.0004395165571067261), (880, 5.9940015843577195e-05), (881, 0.0009608614872225983), (888, 0.00020000074482925736), (905, 0.00488095202945176), (911, 0.0016747725922150896), (930, 0.0007177596823778956), (931, 0.00012226563613851348), (933, 0.002005977619780014), (951, 0.0009656075475546363), (954, 0.001180764335824827), (974, 0.00016608032193421186), (981, 9.036846564145972e-05), (983, 0.0006732648742655527), (1008, 0.00015957316773554283), (1016, 0.0002501637980926216), (1017, 0.0006709242315399013), (1023, 0.001916383735734482), (1028, 0.001216044010510278), (1030, 0.0022674931070212736), (1036, 0.0011687000045674865), (1051, 0.00028102561531680284), (1057, 0.001292312505050586), (1058, 0.0007735280605770414), (1070, 0.002244684768689118), (1078, 0.0013894000589011915), (1087, 0.00030932221064501944), (1093, 0.0048000178759021765), (1094, 0.00043049487676252707), (1096, 0.0005571005203119625), (1097, 0.0003554393402320951), (1098, 0.00017491524389166873), (1111, 0.003733347236812804), (1129, 0.00019471278598371742), (1130, 0.00022935238997484804), (1141, 9.757727599619636e-05), (1148, 0.00015905384677545676), (1164, 0.00020582006206012397), (1167, 0.0007791333363783244), (1168, 0.00042032994691246586), (1169, 0.002167750008471951), (1171, 0.00029538571544013395), (1174, 0.00010404528780744026), (1175, 0.0005814008674488577), (1177, 0.00024808583391834046), (1182, 0.00011558847604838611), (1192, 0.0015186497234492764), (1193, 0.002591893943436129), (1203, 0.00022631109328606348), (1214, 0.00020794301267446254), (1216, 0.0002235971171916167), (1217, 0.00024923597686650153), (1227, 0.0007636392075298918), (1235, 0.0015360057202886965), (1239, 0.0002838073127100667), (1241, 0.001396368836626088), (1252, 0.00018627928000729168), (1254, 0.00014757123307742074), (1256, 0.00017077573129003934), (1259, 0.00036708911034554034), (1261, 0.00020394613129781633), (1270, 0.00044800166841753655), (1273, 0.0019384687575758792), (1274, 0.0004141771973043481), (1285, 0.0004914095083190528), (1286, 0.0005811913536227501), (1288, 0.0001993333341123633), (1298, 0.0003921239986149116), (1305, 0.0004399361719321144), (1306, 0.0001954916371276523), (1316, 0.0021282739592282016), (1324, 0.0026646939385429683), (1332, 0.00019261985026909487), (1334, 0.00016485801965686716), (1348, 0.00011997366706115684), (1363, 0.0005713092477163058), (1370, 0.0007520662188403504), (1376, 0.0007795099112146599), (1395, 0.0005394902178635663), (1397, 0.00010801727990778458), (1409, 0.0028748770165831217), (1417, 0.0005250019551768006), (1438, 0.0003042456152241335), (1442, 0.0004538002268720122), (1461, 0.00022654951626676942), (1486, 0.0002325268175177525), (1490, 0.0001764944195998174), (1491, 0.00017208770873913053), (1494, 0.0002625009775884003), (1495, 0.0015368040600601564), (1499, 0.0003881602903256634), (1500, 0.0011738034980372134), (1513, 0.0009382233893560975), (1514, 0.001802521381730239), (1519, 0.00017286238009679865), (1520, 0.00024734391631057914), (1527, 0.0003522948899744717), (1530, 0.00045644591789866174), (1537, 8.29888857828101e-05), (1541, 0.0002088585866748422), (1546, 0.0017990027956532421), (1550, 0.00045831372728136725), (1556, 0.0004552091465715866), (1557, 0.0005338649474687624), (1560, 0.00022935238997484804), (1566, 0.0009620077580096222), (1570, 0.000624150931231862), (1571, 0.001958477238983766), (1575, 0.00044528050974686125), (1576, 0.0001552416985564666), (1577, 0.0036730571572121005), (1583, 0.0002722035453676171), (1592, 0.000677934428878996), (1595, 0.0022493807619290533), (1613, 0.0005219436913602367), (1616, 0.0006369691968021846), (1617, 0.0010358420079018184), (1623, 0.0012914432643918608), (1624, 0.0016158356982373266), (1625, 0.0013373184131866762), (1627, 8.300169864150745e-05), (1640, 8.518491556029849e-05), (1644, 0.0007917555259220085), (1649, 0.0005912587320330425), (1655, 0.001045918292025377), (1657, 0.0010802451482271476), (1659, 0.0009174095598993921), (1660, 0.0008060000031499907), (1661, 0.0007294464071927324), (1676, 0.0008567362583283567), (1677, 0.0012358666714966525), (1683, 0.0022588319416010244), (1686, 0.0016144204267298612), (1687, 0.0006236682158944824), (1688, 0.0005307028648578912), (1710, 0.00026288606459708743), (1711, 0.00018417334775643843), (1715, 0.0007306360452582819), (1719, 0.00017208770873913053), (1734, 0.0007636392075298918), (1737, 0.0010572310759115907), (1750, 0.00024683287516117714), (1752, 0.0007871185975125093), (1762, 0.0004472562413486222), (1767, 0.0004996301134768064), (1770, 9.975913937670139e-05), (1781, 0.00018538000072449784), (1787, 0.00016266323815462746), (1791, 0.0002848977223640932), (1806, 0.0012077551296850184), (1812, 0.0016160380824680675), (1814, 0.0005566390578805589), (1822, 0.00026443777771817205), (1826, 0.0002893444575355456), (1828, 0.00039990230753858953), (1837, 0.0012861291916292914), (1841, 0.0001121172058604888), (1842, 0.0009189777813693057), (1845, 0.00010410573239756852), (1854, 0.00022014824000861745), (1857, 0.0004967065002473457), (1859, 0.0001421287513816375), (1874, 0.001029888892913877), (1880, 0.0025358585004766217), (1881, 7.395817885555699e-05), (1921, 0.0005129790096384005), (1930, 0.000599524297388451), (1934, 0.0004026981289146396), (1938, 0.0004598032860939478), (1942, 0.00018748108181379036), (1943, 0.0024176704918689625), (1950, 0.001152621766162681), (1955, 0.00024227219562913195), (1965, 0.00021969840707030807), (1973, 0.001325094798236115), (1990, 0.0003158648660993207), (1994, 0.0022588319416010244), (1998, 0.000300504193460617), (2006, 0.0007713084678637645), (2007, 0.00013010697049880055), (2009, 0.0001725849123919884), (2011, 8.9704989504596e-05), (2018, 0.00032720754844859637), (2030, 0.0009031188184348628), (2042, 0.0008993007730027497), (2047, 0.0005743611133558161), (2053, 0.0003037299446898553), (2067, 0.0002722035453676171), (2070, 0.0009339854101824944), (2075, 0.0013430456869048203), (2076, 0.00027234143976749943), (2084, 0.0005296571449271367), (2085, 0.00016721679692100895), (2101, 0.00016345454609335475), (2104, 0.00349546165215243), (2108, 0.000540847084608696), (2122, 0.0006585031872869228), (2126, 0.0009093403283170565), (2130, 0.0007818528244634145), (2140, 7.647254652930923e-05), (2148, 0.00010681541865707209), (2151, 0.007264891920284376), (2152, 0.00022645408681594092), (2154, 0.0011526904154638225), (2162, 0.00012929341079871183), (2166, 0.0034351565629459667), (2167, 0.00038318032936638904), (2176, 0.0015066327127790545), (2178, 0.00012982419756122767), (2180, 0.0002931308626505146), (2185, 0.0004075830190303592), (2187, 0.0010271341270558728), (2194, 0.00018298230160008298), (2210, 0.0002625009775884003), (2216, 0.000394208617489308), (2224, 0.00018570017343732083), (2226, 0.0007685518257341585), (2235, 0.002327281394376813), (2236, 0.0005397610462861885), (2238, 0.001270926718914997), (2241, 0.0008873411965827179), (2299, 0.0013440050052526094), (2303, 0.00018797272800735797), (2310, 0.0003428584197072983), (2314, 0.0005394902178635663), (2321, 0.0001296363641430055), (2326, 0.00020029880853243064), (2331, 0.004555949170347829), (2332, 0.002449211854674459), (2338, 0.000248544614933446), (2345, 0.000340039217015208), (2371, 0.0012671820909865498), (2376, 0.002567651353318418), (2377, 0.00012207129929633147), (2384, 0.0006963756503899531), (2398, 0.0006477132555434263), (2406, 0.00036974002895532584), (2417, 0.0002562449962350066), (2418, 0.0001861502777358185), (2422, 0.0005707027623153331), (2425, 0.0008587891407364917), (2439, 0.000253108287241546), (2447, 0.00017614744498723584)]), ('philosophy', [(12, 0.0012486234479612258), (305, 0.0001982823145246224), (307, 0.00010687799330281354), (308, 0.003942149017668743), (336, 0.0015657571040470566), (339, 0.006104348840699535), (359, 0.001331291590516638), (569, 0.000813913178759938), (572, 0.0013609800180046851), (573, 0.0022679360099428125), (594, 8.56223522206354e-05), (620, 0.00045496533167930614), (627, 0.00017931262505257604), (628, 0.001709921807913869), (655, 0.0003906856385916414), (661, 0.0065883805417044985), (665, 0.0011272407407712168), (676, 0.0005150525504915569), (677, 0.000805246510652772), (689, 0.0005691532928697603), (700, 0.008156033789569878), (713, 0.0005170429438198535), (736, 0.0008334698275650269), (751, 0.0021031831475332376), (752, 0.0011294366642921997), (775, 0.00014200950873693562), (783, 0.00033083929679368266), (803, 0.00019702452005097276), (854, 0.0005565863881631961), (864, 0.0007387582666539193), (872, 0.0001323088744112268), (894, 0.0021939107757441823), (902, 0.0003575195196320632), (921, 0.002535470062696775), (928, 0.0025603520063935048), (954, 0.0001910094951691179), (983, 0.002995093471056647), (988, 0.0035209159170242663), (1011, 0.0003043984009467952), (1017, 0.0004651450694446392), (1023, 0.001276507364339475), (1028, 0.00017883327812152864), (1029, 0.0022208024297880333), (1049, 0.001907162788388144), (1130, 0.00890443240448799), (1134, 0.0026413552969020314), (1141, 7.892424280833051e-05), (1164, 0.0006659006366806997), (1167, 0.01848565902715929), (1168, 0.0030598108223396964), (1177, 0.00040132267259113694), (1178, 0.0007586062731201969), (1182, 0.0001869847842410221), (1193, 0.0013976154785134492), (1194, 0.006741598693837161), (1198, 0.00045437107184168957), (1212, 0.0015311025202552708), (1216, 0.00012056928206086147), (1239, 0.00022955423822224993), (1247, 0.0007407719178066386), (1256, 0.00027625992106257744), (1293, 0.0030161834618670303), (1306, 0.0003162422660018159), (1309, 0.0016724350605865266), (1316, 0.0003442859190439405), (1324, 0.0010776533228066838), (1363, 0.003696774629139187), (1370, 0.0002027666662403809), (1384, 0.0018571274010173756), (1418, 0.0005029879881463238), (1423, 0.00028429755851748734), (1428, 0.0003826072289947179), (1449, 0.000733895554012653), (1485, 0.005062085165919638), (1494, 0.00042464171460204774), (1529, 0.0004550843702276263), (1537, 0.00013424918670963164), (1546, 0.00048503415030953366), (1573, 0.0026082534792351997), (1599, 0.0008378287394075084), (1623, 0.00016713101402997862), (1625, 0.0005900042276153282), (1627, 0.00026853982754515787), (1640, 0.00041340495872523866), (1645, 0.0008679303707634667), (1655, 0.0016919576488424004), (1656, 0.004752274489098327), (1719, 0.00027838227641004923), (1723, 0.002923247836991576), (1724, 0.020497183907525106), (1735, 0.00017048936120466453), (1737, 0.012826935567920262), (1738, 0.006689740242346106), (1748, 0.0038353527299007442), (1751, 0.003953028325022699), (1756, 0.005088743308981824), (1764, 0.005574783535288421), (1789, 0.0019304466848057576), (1794, 0.00030514604614210306), (1814, 0.002521293692497393), (1822, 0.0002138874155201657), (1828, 0.00021563754810438726), (1837, 0.0006935137412320525), (1859, 0.00011495918460079232), (1869, 0.0007497122685387877), (1921, 0.00010372927379592005), (1938, 0.00044628783689958627), (1941, 0.0026037911122904008), (1980, 0.00017586779201314334), (2018, 0.015350164767890943), (2030, 0.001593768292312145), (2042, 0.00029095558096520365), (2047, 0.0006194203928098247), (2062, 0.00032510887159065187), (2077, 0.0019720322709863803), (2122, 0.0006391471569120483), (2130, 0.006576882495383897), (2171, 0.014755736695736906), (2175, 7.487440650064519e-05), (2178, 0.0006300407376273802), (2185, 0.0008791167364215251), (2197, 0.00031635730502182385), (2215, 0.0009944725345969053), (2226, 0.0006216341897819827), (2273, 0.0004567574745299337), (2274, 0.001462115385852377), (2304, 0.0022128911743129615), (2338, 0.000804129663897359), (2349, 0.00041216409076066056), (2371, 0.0005124727351237441), (2411, 0.00027075536472758214), (2422, 0.00061547503998938), (2425, 0.00015436035347976462), (2433, 0.0004975207274056029), (2447, 0.0002849496171379403)]), ('movement', [(12, 0.0035024944873129167), (25, 0.0005961480282040803), (303, 0.0003842458761670424), (307, 0.0002346275114075909), (308, 0.0005151271006215442), (336, 0.0004910401389721108), (339, 0.0011911801967390842), (358, 9.43635854252455e-05), (569, 0.00014889752459238553), (593, 0.002058952882527438), (600, 0.00012172685924021722), (620, 0.00033292598488509316), (621, 0.00018002489960618263), (624, 0.00017528935962205088), (627, 0.00026242804952901266), (628, 0.0005005017853777866), (653, 0.0006482730255767629), (655, 0.00028588859843120204), (657, 0.00013750821523505956), (662, 9.336678698765488e-05), (663, 0.00014029718256346023), (665, 0.00041243552826173406), (674, 0.0005082971406612266), (679, 0.0010915746485554985), (680, 0.00035552403357980763), (690, 0.00021492334350147103), (691, 0.00016637595296937406), (701, 0.0005292648204489817), (705, 0.0018130712823585633), (710, 0.0008485173601438075), (713, 0.0007567039478095786), (736, 0.000174257398715185), (737, 0.00015382838291222038), (738, 6.89552519349719e-05), (746, 0.00024768604830352454), (751, 0.0023085417899922213), (752, 0.00047227311325258303), (771, 5.590688044521266e-05), (782, 0.00028059436512692046), (800, 0.0008135353405022125), (802, 0.000441782728294242), (803, 0.00014417490260712633), (808, 8.559354675290595e-05), (825, 0.0005533808870503093), (844, 0.000164803319981317), (849, 0.0010442862161271016), (856, 0.00015681018975963589), (859, 0.0019641605558884433), (863, 0.00018292268471050753), (864, 0.0005405946484096633), (872, 9.681850298309077e-05), (894, 0.00032108376392929146), (905, 0.001650811984715579), (909, 0.0012877135170130628), (914, 0.0004784872331638013), (928, 0.00031226105010199), (951, 0.0005715204491314375), (958, 0.00023116164914923926), (969, 0.004575979600159209), (981, 0.00032092184574274114), (983, 0.0007969793614375149), (1004, 0.0005798524101210531), (1008, 0.0005666856813070842), (1010, 0.00020722501468832815), (1017, 0.0005672918703047385), (1022, 0.00018940119646067134), (1023, 0.0008006559280031734), (1029, 0.0003250194178283226), (1032, 0.0005582351053577681), (1049, 0.0013955877633944202), (1055, 0.0004338023313618648), (1057, 0.0007648894472450188), (1058, 0.00045783310799126306), (1070, 0.0039857287271890755), (1078, 0.00022685608060167746), (1087, 0.0005492416744314059), (1088, 0.0003563202800155967), (1093, 0.0008117194134028771), (1098, 0.00020705645684329128), (1130, 0.00013574829780457672), (1134, 0.0004832103417675442), (1141, 0.00011550739996512492), (1144, 0.0004832103417675442), (1162, 0.0005335841420691915), (1164, 0.00048728026041949135), (1167, 0.0003074338261390607), (1168, 0.0007463502972336072), (1174, 0.00024632785759932485), (1177, 0.0005873447347557504), (1181, 0.0014579336084945148), (1182, 0.00013682821331065484), (1192, 0.0026965594072366765), (1193, 0.0017897614064905543), (1196, 0.0004914193205466067), (1198, 0.0006649822571659934), (1201, 0.0030615203019941743), (1203, 0.00026789645131881945), (1214, 0.0017230722566097174), (1247, 0.0010841363204563128), (1254, 0.00017468790011195597), (1264, 0.0016850521273817892), (1270, 0.0003535489000599198), (1274, 0.0004902835285884867), (1304, 0.0028666127031885392), (1306, 0.0006942414764812971), (1315, 0.0003016056967335809), (1324, 0.0007885849071968472), (1333, 0.00019893342297838562), (1338, 0.00044040693433069594), (1346, 0.0003767839077015131), (1347, 0.00012958420283198038), (1358, 0.0005334350545749), (1361, 0.0003266878953325748), (1363, 0.0006762890755662653), (1374, 0.0008462606650370421), (1384, 0.00019413911534711887), (1395, 0.0006386232013124492), (1416, 0.00021369644731627122), (1423, 0.00020803792746252228), (1425, 0.00023448342671623275), (1442, 0.0005371874114585163), (1461, 8.939289508468263e-05), (1482, 0.0007751376615199216), (1491, 0.00020370935342761063), (1495, 0.0008269075105351556), (1496, 0.00024829809602335375), (1530, 0.00021612770253280885), (1546, 0.0010647875406154864), (1573, 0.0005453196401952491), (1583, 0.0003222217823330915), (1592, 0.00020062674026098855), (1617, 0.0006130905781385892), (1623, 0.00030574998563844317), (1624, 0.00023909380843125449), (1625, 0.00014391407058070006), (1639, 0.00022197001050151924), (1644, 0.0003748972136128752), (1649, 0.0012248325930038465), (1653, 0.0005383993401927713), (1695, 0.0001984371749634723), (1701, 0.00016760284964652508), (1715, 0.0001729785322391562), (1726, 0.0013121402476450634), (1740, 0.005631752390335006), (1750, 0.000584378347206479), (1776, 0.0006530405542410012), (1781, 0.0004388882897295556), (1788, 0.006003660567055242), (1800, 0.000695126182531792), (1812, 0.0003188316734007293), (1826, 0.00034251238972435717), (1845, 0.00036970644080626776), (1862, 0.00019980785560686206), (1869, 0.0016458310864858336), (1881, 0.0005252893273692578), (1884, 0.00024514176429424333), (1905, 0.0016500985828207147), (1909, 0.00031851252257650433), (1910, 0.00219228156533218), (1921, 0.0010626708351037667), (1930, 0.00020276820777691753), (1938, 0.00021771742049533208), (1942, 0.00011096565302665313), (1943, 0.001300874938895862), (1944, 0.0001632601385602503), (1950, 0.0003411048883908463), (1957, 0.0023071469006931324), (1965, 0.00026006866371387647), (1973, 6.535770977794554e-05), (1986, 0.0019053533536163344), (1998, 0.00042686731365535315), (2006, 8.300352420866774e-05), (2007, 0.00030802905135907826), (2018, 0.0003873329398100156), (2030, 9.718815212398529e-05), (2032, 0.0003537454252961955), (2047, 0.0004532678205896408), (2064, 0.0003772305987598433), (2065, 0.00031480980465389846), (2067, 0.0004833326734996372), (2077, 0.0007215283674692241), (2084, 0.0006269832710422223), (2085, 0.00013196226440805717), (2088, 0.0006232987464327676), (2104, 0.003310210767791187), (2122, 0.0004677031015001389), (2126, 0.0008611475238265977), (2130, 0.00018510413615702606), (2147, 0.0006254427716047722), (2148, 0.0001264430796955803), (2151, 0.0012285483013665167), (2154, 0.0017435288222133031), (2162, 0.00030610294377482234), (2175, 0.00016437056050999286), (2176, 0.0007343745698574002), (2178, 0.0001536797923467413), (2179, 0.0005903413915657288), (2185, 0.0001608258832721394), (2186, 0.0011917378653705164), (2187, 0.0012158731755977372), (2194, 0.00021660586116673097), (2201, 0.0007223473554005172), (2210, 0.00015536816897164445), (2215, 0.0007277164323703324), (2219, 0.0003623389751990068), (2224, 0.0002198231502963232), (2233, 0.0004846824220166456), (2241, 0.00030011224716239364), (2257, 0.0008900531749760219), (2287, 0.00043919118019865815), (2310, 0.00020292985335071927), (2314, 0.0003193116006562246), (2333, 0.0030268157912383144), (2335, 0.0027041983857274323), (2343, 0.009290336059968696), (2348, 0.00025213471478124233), (2357, 0.00012760938843149302), (2360, 0.0018553586592065764), (2376, 0.0007598662926660963), (2377, 0.00043350682568655017), (2395, 0.00021764296173319277), (2402, 0.0003942924535984236), (2403, 0.00015674581776055558), (2411, 0.0001981282752515117), (2414, 0.0012437550881586757), (2418, 0.00022035596264122426), (2428, 0.001107082667627467), (2431, 0.0004245417078771552), (2433, 0.000364066373059414), (2439, 0.0014980885595759312), (2444, 0.0002770518154583612)]), ('sceptical', [(12, 0.00045963597845235106), (620, 0.0005024375500790936), (824, 0.0005577290226342552), (1130, 0.00040973096287380014), (1177, 0.00029546512135861794), (1575, 0.0005303199210249517), (1586, 0.002709194293303773), (1756, 0.0033718292930702896), (1814, 0.00039776739572424416), (2030, 0.0002933443423873511), (2162, 0.0004619573722829185), (2422, 0.0006796952420213642)]), ('authority', [(12, 0.0032927705086537727), (303, 0.00018463266588393935), (307, 0.00018790009907642888), (358, 0.00022671161123738166), (359, 0.00029256469693549595), (586, 0.0002215217482157204), (620, 0.00019996640154131595), (624, 0.00021056921996762183), (643, 0.001245067676046337), (665, 0.0004954449469166889), (690, 0.00025818019354692707), (691, 0.000999309219728694), (711, 0.0005513678709646239), (717, 0.00047884218796896396), (737, 0.00018478886949297823), (738, 0.00033133451212155206), (740, 0.00043709065356915437), (746, 0.0005950738607362098), (765, 0.00017307483656156915), (771, 0.0003357952881896033), (783, 0.00038776137615645497), (786, 0.0005359071525358927), (795, 0.001295714496766866), (825, 0.0006647578722543052), (854, 0.0002446308969895843), (856, 0.000125580542602456), (863, 0.00014649258466847771), (864, 0.00012987963864975383), (874, 0.00010416562925363823), (881, 0.0020495215900601903), (909, 0.0015468869953307383), (914, 0.0005747906414228955), (922, 0.0002618950164756598), (931, 0.00017386207711904728), (954, 0.0006716200773928847), (974, 0.0002361666830684124), (983, 0.00023934613434328458), (1006, 0.00036162325122632494), (1017, 0.000136293733837128), (1023, 0.001442701609945913), (1046, 0.006647578722543052), (1072, 0.0026091179286431773), (1081, 0.0006601654171782824), (1093, 0.0009750912666995547), (1111, 0.0026544151149043437), (1141, 0.0001387551598316455), (1143, 0.002336812607706182), (1148, 0.00011308750785391286), (1168, 0.00029885518103692373), (1170, 0.0014387795854939479), (1174, 0.00014795269074752292), (1177, 0.00011759291695007706), (1182, 0.00016436713676466373), (1214, 0.0013799125507083952), (1217, 0.00035441425734466896), (1227, 0.001085897092460868), (1239, 0.0001008936984416591), (1256, 0.00024284356832669982), (1273, 0.001837672002626084), (1288, 0.0014172627977242325), (1291, 0.00039982821814458727), (1301, 0.004331283586926068), (1306, 0.00027798965566998215), (1336, 0.0017655232173035818), (1338, 0.00017634868583447542), (1359, 0.0012019992973151745), (1370, 0.00017824004502038957), (1395, 0.0001917891502991598), (1408, 0.0003743739241393002), (1437, 0.0006783243594431686), (1441, 0.0011806510472470286), (1446, 0.00019626997512001308), (1461, 0.00010738468227173072), (1494, 0.0001244257085111411), (1495, 0.00019866724352714422), (1520, 0.0005275856129002422), (1530, 0.00012981347479919359), (1537, 0.00023602085615697776), (1544, 0.0003459147299060864), (1545, 0.000680134833712145), (1550, 0.0003258617020854437), (1556, 0.0006473086817040229), (1557, 0.0005061049672905998), (1558, 0.0002557616437244734), (1560, 0.0006522794821607943), (1566, 0.00045599257565908204), (1570, 0.0005916962485235689), (1573, 0.00032753708358716836), (1575, 0.0012663802646479033), (1583, 0.0007741484081948871), (1587, 0.0012826703910947164), (1593, 0.0014396827741854066), (1595, 0.0010662085817188995), (1600, 0.0004273178049706266), (1612, 0.007494819147965205), (1616, 0.0018115439646740545), (1625, 0.00017287913909824762), (1629, 0.0002582674165852875), (1640, 0.0007267991314458415), (1644, 0.00022517571519659822), (1649, 0.0002101928933440888), (1653, 0.0006467610432254238), (1695, 0.00023837591303163422), (1715, 0.0004155866013005985), (1719, 0.0002447092039348434), (1722, 0.0005752231400244175), (1735, 0.0002997339945471284), (1750, 0.00035099703998735124), (1755, 0.00026082277485242275), (1760, 0.0008354880361666131), (1794, 0.0002682356326640179), (1802, 0.0006072053638542104), (1805, 0.00018672973939727673), (1807, 0.0019304837199304319), (1814, 0.000633233839794948), (1828, 0.00018955406721855964), (1841, 0.00031886196166525587), (1842, 0.00032669724491130384), (1845, 0.0005921545724960891), (1857, 0.00047087868992451556), (1864, 0.00041233632852883), (1897, 0.000228541570431226), (1921, 0.00027354659581075295), (1923, 0.0008124033507890021), (1930, 0.0001217893186382748), (1938, 0.00026153662439016456), (1940, 0.0029290097819634135), (1942, 0.00013329931178595485), (1944, 0.0005883567622568889), (1950, 6.829297419085678e-05), (1973, 0.0006280961717920928), (1998, 0.00034185424397650127), (2003, 0.001581120068443539), (2006, 9.97093456492045e-05), (2030, 0.0008172420390420214), (2039, 0.00047102375421592793), (2042, 0.0002557616437244734), (2047, 0.0002722477040927532), (2067, 0.00019353710204872177), (2070, 0.0007968779219170788), (2075, 0.00027283067562185973), (2078, 0.00014511608828634225), (2084, 0.001129760915900174), (2085, 7.926091789449984e-05), (2110, 0.0011079297870905086), (2122, 0.00018727867542686207), (2126, 0.00025861689888107274), (2129, 0.000584905549420391), (2134, 0.00029584812426178443), (2154, 0.0001821254444532343), (2176, 0.0005041025737503798), (2178, 0.00018461037263763606), (2180, 0.00041683290790209976), (2187, 0.0002921175212428166), (2192, 0.00030204328450906794), (2194, 0.00026020134550457823), (2207, 0.0006556359803537315), (2221, 0.00041233632852883), (2226, 0.0032786485479304544), (2257, 0.0025393285854469526), (2273, 0.0001338360562136644), (2304, 0.0019452202368764656), (2315, 0.00022677886475599258), (2345, 0.00290122031534137), (2348, 0.00030288096398274606), (2371, 0.0004504841208558933), (2376, 0.0004564009272193737), (2377, 0.00017358572958502518), (2384, 0.0009902481257674236), (2405, 0.0011680237633192529), (2417, 0.0007287622050452345), (2425, 0.0008141337093636326)]), ('rejects', [(12, 0.000429739176201023), (305, 0.00040945736829550277), (359, 0.0006872866503421643), (841, 0.0006563888952280976), (894, 0.0018121897248678863), (1023, 0.0015062948352644791), (1030, 0.0013772086022577263), (1152, 0.0008291228150249654), (1174, 0.00034756725708226733), (1214, 0.00023154719150903497), (1306, 0.0006530472790342092), (1460, 0.0018325306299429342), (1756, 0.0021016735135682566), (2062, 0.0006713570158295608), (2122, 0.00043995100865851916), (2257, 0.0003139650379972159)]), ('involuntary', [(12, 0.00045963597845235106), (662, 0.00028181026319723816), (864, 0.00032633685931912593), (881, 0.0017165493779735255), (1023, 0.0008055436166711575), (1306, 0.0006984795468917728), (1466, 0.0007023103305127514), (1644, 0.0005657787198681517), (1750, 0.0008819186198128444), (1806, 0.0002697021558484099), (1950, 0.0005147807988080333), (2030, 0.0002933443423873511)]), ('forms', [(12, 0.0011707838482504455), (25, 0.0003819442390194077), (290, 0.003680307319242455), (305, 0.0002478951057323105), (308, 0.0012321313803129994), (334, 0.0007833342462117534), (336, 0.00013982355114993748), (339, 0.00025439118711790214), (358, 8.061001881241948e-05), (569, 0.0003815867806768532), (573, 0.00010905395523991111), (586, 0.00015752940216486727), (594, 0.0005887539269056341), (599, 0.0003357837967084354), (620, 0.00014220088068819169), (621, 7.689306462106887e-05), (633, 0.0014217298904765135), (639, 0.0005346781085526992), (640, 0.00027595632836089186), (655, 0.00024422011090339483), (656, 0.0001737960252145003), (657, 0.00035239885492931514), (663, 0.00011984875812851783), (666, 0.0007501583238851969), (670, 0.0009669761061383082), (674, 0.0002894749557353338), (676, 0.00016098133457831116), (677, 0.00025168239206988744), (682, 0.001105696203805336), (690, 0.00036719619511716106), (698, 0.00021365060596225462), (700, 0.00043700479652006183), (701, 9.042481152211525e-05), (704, 0.0004832301927741839), (717, 0.0002553870812109099), (734, 0.00033047657560544494), (737, 0.0001314077754099485), (738, 5.8904969863577514e-05), (740, 0.0009324767870856893), (746, 0.00021158561243031534), (751, 0.0004382377806295501), (752, 0.0015128960117002511), (765, 0.00036923294104887266), (771, 4.775840875612377e-05), (782, 0.0004793950325140713), (783, 0.0001378731845982645), (784, 0.0006629682522816548), (786, 0.00019054818327057725), (787, 0.001189571043481306), (788, 0.0025643111644856457), (800, 0.0003474809631645618), (802, 0.00018869627451265425), (803, 0.0012931936230505317), (824, 0.0003156991677531689), (825, 0.0014181755657503225), (840, 0.0009036468864211385), (843, 0.00019443274923853967), (844, 0.00014078310679035527), (848, 8.075370868552539e-05), (849, 0.00017841613615718964), (852, 8.687024079114044e-05), (854, 0.0001739628693987062), (857, 0.00035277999148017965), (874, 0.00044444799035641655), (876, 0.001064904930207555), (877, 0.0014587673529632115), (878, 0.001067518835289066), (896, 0.000633975471569629), (897, 0.00127125289872035), (898, 0.0016688686626890464), (900, 0.000535248408471569), (901, 0.0007582063694155605), (902, 0.0012291826589065828), (904, 0.0014526704150714161), (905, 0.0007051024213631088), (911, 0.001693563759722607), (915, 0.0010414443809788445), (922, 0.0007449591872161109), (928, 0.0005334975141029998), (956, 0.0005839247764457109), (958, 0.00019746965741771047), (960, 0.0004919764406072008), (967, 0.0003831106179499344), (969, 0.0002792162130821556), (974, 0.0001679437648659119), (984, 9.54413565433562e-05), (988, 0.001100473617147686), (991, 0.00043317447559438797), (1012, 0.00018384645480925155), (1017, 9.692172702281279e-05), (1023, 0.0011399328305115473), (1028, 0.000223579669698111), (1055, 0.0003705753012071963), (1064, 0.0006201147911075554), (1078, 0.0007267186082402953), (1082, 0.0012285513375614844), (1091, 0.0009554199769261104), (1129, 0.00019689748890653998), (1130, 0.00046385150756907584), (1140, 0.00045741183581906344), (1141, 4.9336052896901435e-05), (1148, 0.00024125767760545423), (1158, 0.0008494280732358702), (1160, 0.0008941348139324949), (1162, 0.00015193794490524229), (1164, 0.00010406469503655377), (1167, 0.0002626251047685782), (1168, 0.0004250461038865965), (1170, 0.00034105016742218123), (1171, 0.0005973999635944581), (1174, 0.00021042537908688092), (1177, 0.0001672462596126617), (1178, 0.00047420967103188843), (1187, 0.0017285658724036786), (1192, 0.0007678445859759278), (1196, 0.00020989728450616097), (1198, 0.0008520908571645092), (1200, 0.0010576536320446631), (1201, 0.0006974136842475393), (1206, 0.00025326530019611316), (1207, 0.0010215483248436396), (1212, 0.0009571020543502763), (1214, 0.0010513808023548676), (1216, 0.0003014745414506901), (1235, 0.00031064798106911825), (1239, 7.174791696858346e-05), (1241, 0.00035300906939672523), (1242, 0.00020104806467121186), (1252, 0.00018836935789014444), (1267, 0.00045152322829813697), (1270, 0.00030201887048386493), (1274, 0.00041882431962323336), (1285, 0.0004969231872677851), (1300, 0.0005519126567217837), (1313, 0.0028993811566451035), (1316, 0.0006456460414144381), (1317, 0.0006694999592006858), (1322, 0.00043282959145776826), (1324, 0.0013472960765079478), (1325, 0.00023483108720127727), (1335, 0.0006248666285873067), (1346, 0.000160933678765825), (1349, 0.0005212214447468426), (1361, 0.00027907287827051176), (1365, 0.0004172972303749429), (1366, 0.0004888794666105728), (1367, 0.00020345582592475934), (1368, 0.0002649934033004908), (1370, 0.00012675075002820165), (1372, 0.0006270287968523148), (1376, 0.0005255040762406543), (1387, 0.0003241705228807137), (1395, 0.00013638584216531783), (1412, 0.00031884690139059055), (1418, 0.0003144210334707674), (1422, 0.0006060579340813343), (1423, 0.0001777162363095642), (1437, 0.00048237264141167427), (1445, 0.0003102933600861626), (1460, 0.0005547285376234255), (1482, 0.0006621607391850876), (1486, 0.00023513579881961804), (1494, 0.0001769641819241396), (1523, 0.0026616106089153335), (1525, 0.000274770769204426), (1530, 0.00018462692031616807), (1537, 0.0003356801277375467), (1542, 0.0002834379389316772), (1546, 0.00030319797371497877), (1558, 0.00018187820905686078), (1614, 0.0008389413068996248), (1623, 5.2237337068411344e-05), (1625, 0.00012293848187945657), (1627, 8.393298855503425e-05), (1634, 0.00033440678708486173), (1645, 0.00013563721728317287), (1649, 0.0004484195492474211), (1650, 0.0012928275074220138), (1695, 0.0001695148010199429), (1701, 0.00014317460281036527), (1715, 0.00014776677544739246), (1737, 0.0005345466734227698), (1748, 0.0017981277845786888), (1764, 0.006969666241935344), (1776, 0.0005578593810887192), (1786, 0.0033148412614082737), (1791, 0.00014404715603363988), (1800, 0.0002969054980179994), (1805, 0.00026557594864238247), (1832, 0.0022604322946817336), (1837, 0.001300559729356356), (1839, 0.004430078891847145), (1845, 0.00010527381232977477), (1847, 0.002338210610197664), (1851, 0.0029019606772471007), (1854, 0.0002226183320519889), (1857, 0.0001674265373794139), (1859, 7.18617272797035e-05), (1881, 0.0011218199894159242), (1884, 0.0008376486392464667), (1890, 0.0009370306811909627), (1897, 0.0013001709222623782), (1909, 0.0010883562900319457), (1910, 0.0005350728020383433), (1911, 0.0015965755267869511), (1912, 0.0005993759281928962), (1921, 6.484183765159313e-05), (1923, 0.0005777194121901774), (1930, 0.00025982187360408965), (1938, 9.299246781918524e-05), (1941, 0.0016276466073980747), (1942, 9.479232203504044e-05), (1948, 0.00034147862240637995), (1950, 4.856476387984249e-05), (1969, 0.00011330428655084554), (1973, 5.583177229854749e-05), (1997, 0.0004999699266133876), (1998, 0.00024310071184838766), (2007, 0.0013156678772288403), (2009, 0.0006980853507171196), (2011, 0.0011792493858372166), (2017, 0.0002812384722560563), (2019, 0.0011373095541233407), (2021, 0.0012053968223302814), (2030, 8.302290269868004e-05), (2032, 0.0012087470080510436), (2063, 0.0008402379704342455), (2065, 0.00026892602862773035), (2076, 0.0002753971463378708), (2078, 0.00010319551383275567), (2080, 0.0012603569556513682), (2086, 0.0017765815910815584), (2088, 0.0017304705115872771), (2089, 0.001371658452996527), (2101, 0.00016528852747672753), (2104, 0.000706936237803585), (2112, 0.0007844645986593894), (2113, 0.0006135823553848271), (2122, 0.0002663566716663189), (2125, 0.002448801652571878), (2130, 0.0009487503784833454), (2136, 0.0005621861084498004), (2142, 0.0006299350716928816), (2147, 0.0005342839969247733), (2154, 0.0002590275005936662), (2162, 0.0002614881995531298), (2171, 0.0011529882648376605), (2175, 0.00014041342235151705), (2185, 0.00041215615380663903), (2202, 0.0003516390471351597), (2204, 0.0031565843237668467), (2210, 0.0001327231364431047), (2215, 0.0003108255956952298), (2217, 0.0007504610254982839), (2218, 0.00031717267612074495), (2221, 0.0008796666130598008), (2226, 0.0003885875388641579), (2237, 0.0004456016121893089), (2245, 0.0007488071169021445), (2246, 0.003627783095900399), (2250, 0.0007576780026076054), (2251, 0.0024561775611639616), (2257, 9.504090329911834e-05), (2268, 0.002819678251405378), (2296, 0.00022252720706956894), (2303, 0.0007603272263929467), (2308, 0.0010834757685519818), (2341, 0.00023341947912020478), (2348, 0.0012923152936710545), (2358, 0.00011473912344258271), (2362, 0.0005050013626297788), (2363, 0.0011325707643144935), (2377, 0.0004937638209545475), (2382, 8.906192117807289e-05), (2388, 0.00012821555822428227), (2393, 0.00011354092875333268), (2396, 0.00046227378135285446), (2402, 0.00033682401912698694), (2403, 0.00013389999184013716), (2411, 0.00033850184736672285), (2416, 0.0003131532067229014), (2427, 0.0013921484426913109), (2433, 0.00031100341354173733), (2439, 0.00025594819532530924), (2443, 0.0005329744773244676), (2457, 0.00028388196703444226)]), ('hierarchy', [(12, 0.0013704697544225937), (307, 0.00017596144475027708), (640, 0.0007268011552959416), (709, 0.0011099211441341122), (803, 0.00016218829586916683), (844, 0.0003707881071948737), (872, 0.00021783025649368701), (874, 0.0001950944646318306), (929, 0.0030079795712878252), (1006, 0.0006772934134025567), (1023, 0.0006004605896133381), (1141, 0.00012993903947118658), (1143, 0.0018757182654144168), (1164, 0.00027408083383097335), (1183, 0.0008767901261071677), (1214, 0.00018460524444726726), (1252, 0.0004961185987293849), (1273, 0.0001720911389342554), (1301, 0.0020280428837577973), (1315, 0.00067857738195877), (1437, 0.0006352254995266215), (1461, 0.000201123511157888), (1486, 0.0006192899117357288), (1546, 0.0007985489547869519), (1552, 0.005990787765410062), (1814, 0.0008894998607991332), (1944, 0.00036731613030605557), (1973, 0.00014704716811471754), (2006, 0.00018674817737485388), (2030, 0.0006559857708917249), (2041, 0.0008338953266936545), (2113, 0.003232050284273148), (2114, 0.0005541014999740731), (2174, 0.0003080461006740544), (2207, 0.001227957355002577), (2226, 0.0010234440857276662), (2257, 0.00025031438390437147)]), ('calls', [(12, 0.0007026638197631457), (308, 0.0003169210623053462), (569, 0.00022901513826159613), (597, 0.00041973014619642443), (600, 0.00018722469413352369), (620, 0.00025603209545646397), (621, 0.0006922282184795345), (624, 0.00026960768514806827), (653, 0.0006647271313616719), (690, 0.00033056761260724817), (700, 0.0001311375537151744), (711, 0.0003529789761738413), (738, 0.00010605815374689151), (746, 0.00025397267797873943), (765, 0.00022160079260359107), (775, 0.00031966384746246303), (843, 0.0007001507159728626), (844, 0.00012673969971902912), (848, 0.00029079343461974505), (852, 0.0003128190159571946), (854, 0.0003132194242976198), (856, 0.0001607902588796816), (863, 9.378276333525552e-05), (872, 0.00014891384465693928), (894, 0.0009877000009385084), (897, 0.00020808050615009818), (954, 0.0006449444548188416), (986, 0.0009042131186420895), (1006, 0.000463013576598894), (1010, 0.00031872702732988015), (1017, 0.0003490143344375332), (1023, 0.00020524443299015766), (1030, 0.00037531085158361266), (1058, 0.0007041803603813395), (1078, 8.723025585331627e-05), (1081, 0.000422629836325588), (1093, 0.001248483036900589), (1097, 0.0006471475708628508), (1140, 0.00041178405592345895), (1164, 0.0001873680514797209), (1168, 0.00038264687292027436), (1171, 0.0005378080774340999), (1198, 0.0010227907010763447), (1210, 0.00045738817800470183), (1214, 0.0002524009027669061), (1239, 0.0010334546136255107), (1242, 0.0007239724119305191), (1338, 0.001128962746170775), (1359, 0.0015390105360535565), (1368, 0.0007156792841311688), (1395, 0.00024556214273207773), (1436, 0.0006100409479152769), (1437, 0.00043425496935672664), (1456, 0.0009384570478715837), (1486, 0.0004233610298140406), (1537, 0.00015109766917722475), (1567, 0.002347267867937798), (1573, 0.00041937048026138043), (1575, 0.0005404807846107465), (1579, 0.0015058626168154797), (1624, 0.00012258117732373973), (1633, 0.0005217541049733805), (1649, 0.0002691258457327638), (1695, 0.0006104213912878464), (1719, 0.0006266393731946618), (1756, 0.0005727388536746998), (1759, 0.0014752233623663328), (1812, 0.0002451930613552259), (1837, 0.000780550798189842), (1845, 0.00018954506214757203), (1897, 0.00029261904362632644), (1902, 0.0006196965501298271), (1914, 0.0005995165583483434), (1921, 0.00011674745955749784), (1939, 0.0009896973720223072), (1955, 0.00044110441682292107), (1973, 0.0002010497485734953), (2003, 0.0010122137548397745), (2006, 0.00012766541032086366), (2011, 0.0009799539805740649), (2023, 0.00033694000032015903), (2032, 0.0010881719854697741), (2047, 0.0010457379283440832), (2053, 0.0005530003960056846), (2061, 0.00777142279420454), (2062, 0.00036591054240376144), (2075, 0.0006986514639043982), (2078, 0.0005574092829897846), (2088, 0.00023966961335212094), (2118, 0.000936213009019667), (2141, 0.0004053885694471161), (2152, 0.0004123044233066815), (2179, 0.0009079876632004285), (2185, 0.0001236809073704905), (2217, 0.00027024039230537323), (2219, 0.00018576783088443), (2224, 0.00033810386906047037), (2233, 0.0007454765429779602), (2314, 0.0004911242854641555), (2338, 0.0004525245958992426), (2348, 0.00038780138705628444), (2376, 0.0005843645975701861), (2386, 0.0002981452028419317), (2417, 0.00046654466202576824), (2433, 0.0005599603552231475)])]\n"
          ]
        }
      ]
    },
    {
      "cell_type": "code",
      "source": [
        "NUM_BUCKETS = 124\n",
        "def token2bucket_id(token):\n",
        "  return int(_hash(token),16) % NUM_BUCKETS\n",
        "\n",
        "def partition_postings_and_write(postings):\n",
        "  ''' A function that partitions the posting lists into buckets, writes out \n",
        "  all posting lists in a bucket to disk, and returns the posting locations for \n",
        "  each bucket. Partitioning should be done through the use of `token2bucket` \n",
        "  above. Writing to disk should use the function  `write_a_posting_list`, a \n",
        "  static method implemented in inverted_index_colab.py under the InvertedIndex \n",
        "  class. \n",
        "  Parameters:\n",
        "  -----------\n",
        "    postings: RDD\n",
        "      An RDD where each item is a (w, posting_list) pair.\n",
        "  Returns:\n",
        "  --------\n",
        "    RDD\n",
        "      An RDD where each item is a posting locations dictionary for a bucket. The\n",
        "      posting locations maintain a list for each word of file locations and \n",
        "      offsets its posting list was written to. See `write_a_posting_list` for \n",
        "      more details.\n",
        "  '''\n",
        "  # YOUR CODE HERE\n",
        "  '''\n",
        "  taking a posting of the form (w, posting_list)\n",
        "  and returning (bucket_id, (w, posting_list))\n",
        "  '''\n",
        "  def mapping_bucket_id(posting):\n",
        "    return (token2bucket_id(posting[0]), posting)\n",
        "  \n",
        "  def write_id(id_mapped_postings):\n",
        "    return InvertedIndex.write_a_posting_list(id_mapped_postings)\n",
        "\n",
        "\n",
        "  locations = postings.map(mapping_bucket_id).groupByKey().map(write_id)\n",
        "  \n",
        "  return locations"
      ],
      "metadata": {
        "id": "qkWCPtKfife2"
      },
      "execution_count": 80,
      "outputs": []
    },
    {
      "cell_type": "code",
      "source": [
        "posting_locs_list = partition_postings_and_write(postings_filtered_tfidf).collect()"
      ],
      "metadata": {
        "id": "dvohFnOzi4Ru"
      },
      "execution_count": 81,
      "outputs": []
    },
    {
      "cell_type": "code",
      "source": [
        "# merge the posting locations into a single dict and run more tests (5 points)\n",
        "super_posting_locs = defaultdict(list)\n",
        "for posting_loc in posting_locs_list:\n",
        "  for k, v in posting_loc.items():\n",
        "    super_posting_locs[k].extend(v)"
      ],
      "metadata": {
        "id": "S3A-OnlVs933"
      },
      "execution_count": 82,
      "outputs": []
    },
    {
      "cell_type": "code",
      "source": [
        "# Create inverted index instance\n",
        "inverted = InvertedIndex()\n",
        "# Adding the posting locations dictionary to the inverted index\n",
        "inverted.posting_locs = super_posting_locs\n",
        "# Add the token - df dictionary to the inverted index\n",
        "inverted.df = w2df_dict\n",
        "# write the global stats out\n",
        "inverted.write_index('.', 'index')"
      ],
      "metadata": {
        "id": "mKINFhKFtAbC"
      },
      "execution_count": 83,
      "outputs": []
    },
    {
      "cell_type": "code",
      "source": [
        "TUPLE_SIZE = 8       \n",
        "TF_MASK = 2 ** 32 - 1 # Masking the 16 low bits of an integer\n",
        "from contextlib import closing\n",
        "\n",
        "def read_posting_list(inverted, w):\n",
        "  with closing(MultiFileReader()) as reader:\n",
        "    locs = inverted.posting_locs[w]\n",
        "    b = reader.read(locs, inverted.df[w] * TUPLE_SIZE)\n",
        "    posting_list = []\n",
        "    for i in range(inverted.df[w]):\n",
        "      doc_id = int.from_bytes(b[i*TUPLE_SIZE:i*TUPLE_SIZE+4], 'big')\n",
        "      tfidf = unpack('f', b[i*TUPLE_SIZE+4:(i+1)*TUPLE_SIZE])\n",
        "      posting_list.append((doc_id, tfidf[0]))\n",
        "    return posting_list"
      ],
      "metadata": {
        "id": "6JcCqw7YtNBZ"
      },
      "execution_count": 86,
      "outputs": []
    },
    {
      "cell_type": "code",
      "source": [
        "pl = read_posting_list(inverted, 'political')\n",
        "print(pl)"
      ],
      "metadata": {
        "colab": {
          "base_uri": "https://localhost:8080/"
        },
        "id": "_2KZfdMntbBG",
        "outputId": "dc6574e2-ace2-4a3a-b06a-ef77b0f0487e"
      },
      "execution_count": 87,
      "outputs": [
        {
          "output_type": "stream",
          "name": "stdout",
          "text": [
            "[(12, 0.003344736061990261), (303, 0.0003245996776968241), (307, 0.0015856517711654305), (308, 0.0008703286293894053), (336, 0.00013827212387695909), (339, 0.002515685511752963), (358, 0.0011957340175285935), (359, 0.0004114825860597193), (569, 0.002515685511752963), (594, 5.2929211960872635e-05), (600, 0.0008226503268815577), (620, 0.0015468538040295243), (624, 0.0003701983077917248), (627, 0.00033253731089644134), (643, 0.0017511466285213828), (663, 0.0002370379224885255), (665, 0.0006968269590288401), (676, 0.00015919514407869428), (677, 0.00024888981715776026), (689, 0.0004691116919275373), (690, 0.0003631219151429832), (691, 0.001264945836737752), (700, 0.00043215593905188143), (701, 0.0019672727212309837), (705, 0.002297444501891732), (706, 0.0002921750128734857), (717, 0.0003367378667462617), (736, 0.00022081134375184774), (737, 0.0005847737775184214), (738, 0.0005242624320089817), (740, 0.00030737678753212094), (746, 0.0006974597927182913), (751, 0.00021668762201443315), (752, 0.0007979250513017178), (771, 0.000613970507401973), (783, 0.00013634339848067611), (802, 0.0002799038484226912), (803, 0.00018269212159793824), (808, 7.230692426674068e-05), (825, 0.000467480014776811), (841, 0.00019649196474347264), (842, 0.0006111428374424577), (846, 0.00974505115300417), (854, 0.00017203263996634632), (857, 0.0006977313314564526), (863, 0.0009271664312109351), (872, 0.00040894720586948097), (874, 0.0004395165597088635), (880, 5.994001548970118e-05), (881, 0.0009608615073375404), (888, 0.0002000007516471669), (905, 0.004880952183157206), (911, 0.0016747725894674659), (930, 0.0007177596562542021), (931, 0.00012226564285811037), (933, 0.0020059775561094284), (951, 0.0009656075271777809), (954, 0.0011807642877101898), (974, 0.00016608032456133515), (981, 9.036846313392743e-05), (983, 0.0006732648471370339), (1008, 0.0001595731737324968), (1016, 0.0002501638082321733), (1017, 0.0006709242588840425), (1023, 0.0019163837423548102), (1028, 0.0012160440674051642), (1030, 0.0022674931678920984), (1036, 0.0011687000514939427), (1051, 0.00028102562646381557), (1057, 0.0012923125177621841), (1058, 0.0007735280669294298), (1070, 0.0022446848452091217), (1078, 0.001389400102198124), (1087, 0.00030932220397517085), (1093, 0.004800017923116684), (1094, 0.0004304948670323938), (1096, 0.000557100516743958), (1097, 0.00035543934791348875), (1098, 0.00017491524340584874), (1111, 0.0037333471700549126), (1129, 0.0001947127893799916), (1130, 0.00022935238666832447), (1141, 9.757727821124718e-05), (1148, 0.00015905384498182684), (1164, 0.0002058200625469908), (1167, 0.0007791333482600749), (1168, 0.00042032994679175317), (1169, 0.0021677499171346426), (1171, 0.0002953857183456421), (1174, 0.00010404528438812122), (1175, 0.0005814008763991296), (1177, 0.000248085823841393), (1182, 0.0001155884747277014), (1192, 0.001518649747595191), (1193, 0.002591894008219242), (1203, 0.0002263110945932567), (1214, 0.0002079430123558268), (1216, 0.0002235971187474206), (1217, 0.00024923597811721265), (1227, 0.0007636392256245017), (1235, 0.0015360057586804032), (1239, 0.00028380731237120926), (1241, 0.001396368839778006), (1252, 0.0001862792851170525), (1254, 0.00014757123426534235), (1256, 0.00017077573284041137), (1259, 0.0003670891164802015), (1261, 0.00020394612511154264), (1270, 0.0004480016650632024), (1273, 0.0019384687766432762), (1274, 0.00041417719330638647), (1285, 0.0004914095043204725), (1286, 0.0005811913288198411), (1288, 0.00019933332805521786), (1298, 0.00039212399860844016), (1305, 0.0004399361787363887), (1306, 0.00019549163698684424), (1316, 0.0021282739471644163), (1324, 0.0026646938640624285), (1332, 0.0001926198456203565), (1334, 0.00016485802188981324), (1348, 0.00011997366527793929), (1363, 0.000571309239603579), (1370, 0.0007520662038587034), (1376, 0.0007795098936185241), (1395, 0.0005394901963882148), (1397, 0.00010801728058140725), (1409, 0.002874877071008086), (1417, 0.0005250019603408873), (1438, 0.0003042456228286028), (1442, 0.00045380022493191063), (1461, 0.00022654951317235827), (1486, 0.00023252681421581656), (1490, 0.0001764944172464311), (1491, 0.00017208770441357046), (1494, 0.00026250098017044365), (1495, 0.0015368040185421705), (1499, 0.0003881602897308767), (1500, 0.001173803466372192), (1513, 0.0009382233838550746), (1514, 0.00180252140853554), (1519, 0.00017286237562075257), (1520, 0.00024734390899538994), (1527, 0.00035229488275945187), (1530, 0.00045644590863958), (1537, 8.298888860736042e-05), (1541, 0.00020885858975816518), (1546, 0.001799002755433321), (1550, 0.00045831373427063227), (1556, 0.0004552091413643211), (1557, 0.0005338649498298764), (1560, 0.00022935238666832447), (1566, 0.0009620077325962484), (1570, 0.0006241509108804166), (1571, 0.001958477310836315), (1575, 0.0004452805151231587), (1576, 0.0001552416943013668), (1577, 0.003673057071864605), (1583, 0.0002722035569604486), (1592, 0.000677934440318495), (1595, 0.0022493808064609766), (1613, 0.0005219436716288328), (1616, 0.0006369691691361368), (1617, 0.001035841996781528), (1623, 0.0012914432445541024), (1624, 0.0016158357029780746), (1625, 0.0013373184483498335), (1627, 8.3001701568719e-05), (1640, 8.518491813447326e-05), (1644, 0.0007917555049061775), (1649, 0.0005912587512284517), (1655, 0.0010459183249622583), (1657, 0.0010802451288327575), (1659, 0.0009174095466732979), (1660, 0.0008060000254772604), (1661, 0.0007294464157894254), (1676, 0.0008567362674511969), (1677, 0.0012358666863292456), (1683, 0.0022588318679481745), (1686, 0.0016144204419106245), (1687, 0.0006236681947484612), (1688, 0.0005307028768584132), (1710, 0.0002628860529512167), (1711, 0.00018417334649711847), (1715, 0.0007306360639631748), (1719, 0.00017208770441357046), (1734, 0.0007636392256245017), (1737, 0.0010572311002761126), (1750, 0.00024683287483640015), (1752, 0.0007871186244301498), (1762, 0.00044725622865371406), (1767, 0.0004996301140636206), (1770, 9.97591414488852e-05), (1781, 0.00018538000585976988), (1787, 0.00016266324382741004), (1791, 0.00028489771648310125), (1806, 0.0012077551800757647), (1812, 0.0016160380328074098), (1814, 0.000556639046408236), (1822, 0.00026443778187967837), (1826, 0.00028934446163475513), (1828, 0.00039990231744013727), (1837, 0.0012861292343586683), (1841, 0.00011211720266146585), (1842, 0.0009189777774736285), (1845, 0.00010410573304397985), (1854, 0.00022014824207872152), (1857, 0.0004967065178789198), (1859, 0.000142128745210357), (1874, 0.001029888866469264), (1880, 0.0025358584243804216), (1881, 7.395818101940677e-05), (1921, 0.0005129789933562279), (1930, 0.000599524297285825), (1934, 0.0004026981187053025), (1938, 0.00045980329741723835), (1942, 0.00018748108414001763), (1943, 0.00241767056286335), (1950, 0.001152621814981103), (1955, 0.00024227220274042338), (1965, 0.00021969841327518225), (1973, 0.0013250948395580053), (1990, 0.0003158648614771664), (1994, 0.0022588318679481745), (1998, 0.0003005041799042374), (2006, 0.0007713084924034774), (2007, 0.0001301069714827463), (2009, 0.0001725849142530933), (2011, 8.970499038696289e-05), (2018, 0.00032720755552873015), (2030, 0.0009031188092194498), (2042, 0.0008993007941171527), (2047, 0.000574361125472933), (2053, 0.0003037299320567399), (2067, 0.0002722035569604486), (2070, 0.0009339854004792869), (2075, 0.0013430457329377532), (2076, 0.0002723414509091526), (2084, 0.0005296571180224419), (2085, 0.00016721680003684014), (2101, 0.00016345454787369817), (2104, 0.0034954615402966738), (2108, 0.0005408470751717687), (2122, 0.0006585032097063959), (2126, 0.0009093403350561857), (2130, 0.000781852810177952), (2140, 7.647254824405536e-05), (2148, 0.00010681541607482359), (2151, 0.007264892105013132), (2152, 0.00022645408171229064), (2154, 0.001152690383605659), (2162, 0.000129293417558074), (2166, 0.0034351565409451723), (2167, 0.000383180333301425), (2176, 0.0015066326595842838), (2178, 0.00012982419866602868), (2180, 0.0002931308699771762), (2185, 0.0004075830220244825), (2187, 0.0010271341307088733), (2194, 0.0001829823013395071), (2210, 0.00026250098017044365), (2216, 0.0003942086186725646), (2224, 0.0001857001770986244), (2226, 0.0007685518357902765), (2235, 0.0023272812832146883), (2236, 0.0005397610366344452), (2238, 0.0012709266738966107), (2241, 0.000887341215275228), (2299, 0.0013440049951896071), (2303, 0.00018797273514792323), (2310, 0.00034285843139514327), (2314, 0.0005394901963882148), (2321, 0.00012963636254426092), (2326, 0.00020029880397487432), (2331, 0.004555949009954929), (2332, 0.002449211897328496), (2338, 0.00024854461662471294), (2345, 0.00034003923065029085), (2371, 0.0012671820586547256), (2376, 0.0025676514487713575), (2377, 0.00012207130203023553), (2384, 0.000696375675033778), (2398, 0.0006477132556028664), (2406, 0.00036974003887735307), (2417, 0.0002562449953984469), (2418, 0.00018615028238855302), (2422, 0.0005707027739845216), (2425, 0.0008587891352362931), (2439, 0.000253108300967142), (2447, 0.00017614744137972593)]\n"
          ]
        }
      ]
    }
  ]
}