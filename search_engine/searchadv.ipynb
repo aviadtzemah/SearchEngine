{
 "cells": [
  {
   "cell_type": "code",
   "execution_count": null,
   "metadata": {
    "collapsed": true
   },
   "outputs": [],
   "source": [
    "full_path = \"gs://wikidata_preprocessed/*\"\n",
    "parquetFile = spark.read.parquet(full_path)\n",
    "doc_title_pairs = parquetFile.select(\"id\",\"title\").rdd\n",
    "df =doc_title_pairs.toDF()\n",
    "df.toPandas().to_csv(\"titles.csv\")"
   ]
  }
 ],
 "metadata": {
  "kernelspec": {
   "display_name": "Python 2",
   "language": "python",
   "name": "python2"
  },
  "language_info": {
   "codemirror_mode": {
    "name": "ipython",
    "version": 2
   },
   "file_extension": ".py",
   "mimetype": "text/x-python",
   "name": "python",
   "nbconvert_exporter": "python",
   "pygments_lexer": "ipython2",
   "version": "2.7.6"
  }
 },
 "nbformat": 4,
 "nbformat_minor": 0
}
